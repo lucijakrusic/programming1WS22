{
 "cells": [
  {
   "cell_type": "markdown",
   "id": "b0e30005",
   "metadata": {},
   "source": [
    "# <u>Data types<u/>"
   ]
  },
  {
   "cell_type": "markdown",
   "id": "25f8c7ae",
   "metadata": {},
   "source": [
    "Programming, at its core, is dealing with data. This includes reading (inputting), processing and writing (outputting) data.\n",
    "\n",
    "Data is considered as a value in programming. If you are asked by a program to enter a number, name or an e-mail adress, your program reads the keyboard input and stores the value that you entered in the main memory (RAM).\n",
    "If you give the program the right command, you can output the value you inputted on the screen (or transform it in some way).\n",
    "\n",
    "In other words, all our interactions with a program (inputs and outputs) are stored and treated in programming languages as series of bytes. These bytes represent data that can be interpreted as values that we understand. \n",
    "\n",
    "<u> Some examples<U>:\n",
    "* name - usually a string of characters\n",
    "* age - usually a number (integer)\n",
    "* the amount of money in your bank account - usually a value measured in e.g. euros, that has a fractional part (500,02)\n",
    "\n",
    "\n",
    "Run the next cell (either by pressing CTRL+Enter, or by clicking on the \"Run\" button in the Toolbar.\n",
    "    No worries - you don't have to understand completely what's going on at this point, this is only a demonstration of the input -> processing -> output of data."
   ]
  },
  {
   "cell_type": "code",
   "execution_count": null,
   "id": "6d85172a",
   "metadata": {},
   "outputs": [],
   "source": [
    "age_years = int (input(\"What's your age in years? \"))\n",
    "age_days = age_years * 365\n",
    "print (\"Your age is approximately {} days\".format(age_days))"
   ]
  },
  {
   "cell_type": "markdown",
   "id": "4f3397d2",
   "metadata": {},
   "source": [
    "# Every value has a data type"
   ]
  },
  {
   "cell_type": "markdown",
   "id": "376af93b",
   "metadata": {},
   "source": [
    "Every single value in Python has a specific data type, such as number, string (text) or time. The dataype is determined by how the value was entered (or how it is processed). In Python (unlike some other programming languages, e.g. C++), we donpt need to declare the data type of a value, but Python recognizes it on its own. "
   ]
  },
  {
   "cell_type": "markdown",
   "id": "cbdae073",
   "metadata": {},
   "source": [
    "In Python, there are several standard (built-in) datatypes. "
   ]
  },
  {
   "cell_type": "code",
   "execution_count": null,
   "id": "f9eb255b",
   "metadata": {},
   "outputs": [],
   "source": [
    "from IPython.display import Image\n",
    "Image(\"img/Python-data-structure.jpg\")"
   ]
  },
  {
   "cell_type": "markdown",
   "id": "ab30e603",
   "metadata": {},
   "source": [
    "In our lessons, we will go through them all, but right now, lets focus on <b> integers, floats, bools and strings <b>.\n",
    "Or:  `int`, `str`, `bool`, `float`\n",
    "    \n",
    "Some examples of values of those types:"
   ]
  },
  {
   "cell_type": "markdown",
   "id": "50a1f107",
   "metadata": {},
   "source": [
    "~~~\n",
    "1       # datatype int\n",
    "8.56    # datatype float\n",
    "True    # dataype bool\n",
    "'Cat'   # datatype string\n",
    "\n",
    "~~~"
   ]
  },
  {
   "cell_type": "markdown",
   "id": "20dbdbb5",
   "metadata": {},
   "source": [
    "By using the Python function `type()`, we can figure out what the datatype of a specific value is. For example:"
   ]
  },
  {
   "cell_type": "code",
   "execution_count": null,
   "id": "e4e93cec",
   "metadata": {},
   "outputs": [],
   "source": [
    "type(126)"
   ]
  },
  {
   "cell_type": "code",
   "execution_count": null,
   "id": "7ea0fdde",
   "metadata": {},
   "outputs": [],
   "source": [
    "type (7.2)"
   ]
  },
  {
   "cell_type": "code",
   "execution_count": null,
   "id": "35cbcd7f",
   "metadata": {},
   "outputs": [],
   "source": [
    "type('Hello world!')"
   ]
  },
  {
   "cell_type": "code",
   "execution_count": null,
   "id": "a078efca",
   "metadata": {},
   "outputs": [],
   "source": [
    "type(False)"
   ]
  },
  {
   "cell_type": "markdown",
   "id": "bcab70f1",
   "metadata": {},
   "source": [
    "However something like '12.1' would be considered a string (since it's inside of quotes)."
   ]
  },
  {
   "cell_type": "code",
   "execution_count": null,
   "id": "5eb1a1bb",
   "metadata": {},
   "outputs": [],
   "source": [
    "type('12.1')"
   ]
  },
  {
   "cell_type": "markdown",
   "id": "b3bc2bf2",
   "metadata": {},
   "source": [
    "# Numerical types `int` and `float`"
   ]
  },
  {
   "cell_type": "markdown",
   "id": "e728d4f7",
   "metadata": {},
   "source": [
    "Python distinguishes btw `int` and `float` due to the  presence of a decimal point.\n",
    "The datatype `int` stands for a whole number, e.g. 2; `float` is a decimal number, e.g. 2.0."
   ]
  },
  {
   "cell_type": "code",
   "execution_count": null,
   "id": "d0f7874f",
   "metadata": {},
   "outputs": [],
   "source": [
    "type(2)"
   ]
  },
  {
   "cell_type": "code",
   "execution_count": null,
   "id": "c47f7d55",
   "metadata": {},
   "outputs": [],
   "source": [
    "type(2.0)"
   ]
  },
  {
   "cell_type": "markdown",
   "id": "1e7bd6cf",
   "metadata": {},
   "source": [
    "If we try out typing of 2,0 instead of 2.0 ..."
   ]
  },
  {
   "cell_type": "code",
   "execution_count": null,
   "id": "f1d9ea96",
   "metadata": {},
   "outputs": [],
   "source": [
    "type(2,0)"
   ]
  },
  {
   "cell_type": "markdown",
   "id": "d7285408",
   "metadata": {},
   "source": [
    "...we get an error, because a comma is considered a separator of multiple values."
   ]
  },
  {
   "cell_type": "markdown",
   "id": "a529d8c0",
   "metadata": {},
   "source": [
    "We can also turn `int`s into `float`s and the other way around."
   ]
  },
  {
   "cell_type": "code",
   "execution_count": null,
   "id": "b3b3377a",
   "metadata": {},
   "outputs": [],
   "source": [
    "float(-2)"
   ]
  },
  {
   "cell_type": "code",
   "execution_count": null,
   "id": "5e523f85",
   "metadata": {},
   "outputs": [],
   "source": [
    "int(2.455)"
   ]
  },
  {
   "cell_type": "markdown",
   "id": "8d2726d9",
   "metadata": {},
   "source": [
    "There are also `complex` types in Python. They refer to complex(imaginary) numbers such as 1.04j. The marking for the imaginary part is 'j' in Python, although it's often marked with an 'i' in maths. We probably won't be using much of `complex` types, but just so you know..."
   ]
  },
  {
   "cell_type": "code",
   "execution_count": null,
   "id": "b0ebe428",
   "metadata": {},
   "outputs": [],
   "source": [
    "type(1+5.2j)"
   ]
  },
  {
   "cell_type": "markdown",
   "id": "79ca58c2",
   "metadata": {},
   "source": [
    "# Boolean types"
   ]
  },
  {
   "cell_type": "markdown",
   "id": "ec07f0cb",
   "metadata": {},
   "source": [
    "The boolean types are either `True` or `False`. Make sure to use the capital first letter."
   ]
  },
  {
   "cell_type": "code",
   "execution_count": null,
   "id": "4d2a9810",
   "metadata": {},
   "outputs": [],
   "source": [
    "type(True), type(False)"
   ]
  },
  {
   "cell_type": "markdown",
   "id": "54af93d1",
   "metadata": {},
   "source": [
    "# Sequence type `str` (ing)"
   ]
  },
  {
   "cell_type": "markdown",
   "id": "6621da7f",
   "metadata": {},
   "source": [
    "A string is a sequence of single characters, and may be best described as the textual type. We put strings into double or single quotes. This is only an intro to the string type, we'll talk much more about it at  a later point in the course."
   ]
  },
  {
   "cell_type": "code",
   "execution_count": null,
   "id": "b85db998",
   "metadata": {},
   "outputs": [],
   "source": [
    "type('string'),type(\"string\")"
   ]
  },
  {
   "cell_type": "markdown",
   "id": "753b9fce",
   "metadata": {},
   "source": [
    "If you want to use a quote inside a string (as a character), you can combine two types of quotes as such:"
   ]
  },
  {
   "cell_type": "code",
   "execution_count": null,
   "id": "72a8876a",
   "metadata": {},
   "outputs": [],
   "source": [
    "print (\"Today is an especially good day, since of course we have the incredibly interesting course called 'Programming 1'\")"
   ]
  },
  {
   "cell_type": "markdown",
   "id": "71f4b898",
   "metadata": {},
   "source": [
    "### Longer strings"
   ]
  },
  {
   "cell_type": "markdown",
   "id": "6b4402b7",
   "metadata": {},
   "source": [
    "Sometimes you need to create long strings that can span several lines. Python offers two nice possibilities. Either you use three quotes as string delimiters (no matter if double or single quotes):"
   ]
  },
  {
   "cell_type": "code",
   "execution_count": null,
   "id": "58077c7d",
   "metadata": {},
   "outputs": [],
   "source": [
    "print(\"\"\"This is a pretty long long string, so looooooooooooooooooooooooooooooooooooooooooooooooooooooooooooooong that it spans over multiple lines\"\"\")"
   ]
  },
  {
   "cell_type": "markdown",
   "id": "2b449524",
   "metadata": {},
   "source": [
    "or we can put it into multiple single quotes"
   ]
  },
  {
   "cell_type": "code",
   "execution_count": null,
   "id": "0f3833dd",
   "metadata": {},
   "outputs": [],
   "source": [
    "print('This is a pretty long long string', 'so looooooooooooooooooooooooooooooooooooooooooooooooooooooooooooooong ' 'that it spans over multiple lines')"
   ]
  },
  {
   "cell_type": "markdown",
   "id": "536e6129",
   "metadata": {},
   "source": [
    "Strings have no length limit (limited only by memory availability) so we can put in whole novels (or much more) into a single string"
   ]
  },
  {
   "cell_type": "markdown",
   "id": "c7bdfe0b",
   "metadata": {},
   "source": [
    "### Escape sequences"
   ]
  },
  {
   "cell_type": "markdown",
   "id": "b2e24d21",
   "metadata": {},
   "source": [
    "In strings, the backslash (\\\\) serves as an escape character that changes the meaning of the character immediately following it. There are a number of such escape sequences, here are just a few examples:"
   ]
  },
  {
   "cell_type": "markdown",
   "id": "1484b19c",
   "metadata": {},
   "source": [
    "| code | what it does |\n",
    "| --- | --- | \n",
    "| \\\\' | single quote (without having to close it) | \n",
    "| \\\\\\ | backslash | \n",
    "| \\n | new line |\n",
    "| \\t | tab | \n",
    "| \\b | backspace | \n",
    "| \\r | carriage return | "
   ]
  },
  {
   "cell_type": "markdown",
   "id": "3597d6a4",
   "metadata": {},
   "source": [
    "<b>Examples<b>:"
   ]
  },
  {
   "cell_type": "code",
   "execution_count": null,
   "id": "e2f70f65",
   "metadata": {},
   "outputs": [],
   "source": [
    "print ('I\\'m really not that into waking up early but it\\'s alright if I must.')"
   ]
  },
  {
   "cell_type": "code",
   "execution_count": null,
   "id": "6dc52b2d",
   "metadata": {},
   "outputs": [],
   "source": [
    "print ('I\\'m really not that into waking up \\\\ early but it\\'s alright if I must.')"
   ]
  },
  {
   "cell_type": "code",
   "execution_count": null,
   "id": "360a8345",
   "metadata": {},
   "outputs": [],
   "source": [
    "print ('I\\'m really not that into waking up \\nearly but it\\'s alright if I must.')"
   ]
  },
  {
   "cell_type": "code",
   "execution_count": null,
   "id": "59b18910",
   "metadata": {},
   "outputs": [],
   "source": [
    "print ('I\\'m really not that into waking up \\t early but it\\'s alright if I must.')"
   ]
  },
  {
   "cell_type": "code",
   "execution_count": null,
   "id": "00f616a1",
   "metadata": {},
   "outputs": [],
   "source": [
    "print ('I\\'m really not that into waking up \\bearly but it\\'s alright if I must.')"
   ]
  },
  {
   "cell_type": "code",
   "execution_count": null,
   "id": "a1d40a24",
   "metadata": {},
   "outputs": [],
   "source": [
    "print (\"\"\"I\\'m really not that into waking up early but it\\'s alright \\rif I must.\"\"\")"
   ]
  },
  {
   "cell_type": "markdown",
   "id": "9ea2a77d",
   "metadata": {},
   "source": [
    "# Why are datatypes important?"
   ]
  },
  {
   "cell_type": "markdown",
   "id": "585e1fac",
   "metadata": {},
   "source": [
    "A datatype determins how a value is representend internally, in the computer. What's importan for us is the things we can and cannot do with certain data types. for example, the function upper() only works on `string`s by making all the characters uppercase."
   ]
  },
  {
   "cell_type": "markdown",
   "id": "3f86d835",
   "metadata": {},
   "source": [
    "<u>Note</u>:\n",
    "Since Python is an object-oriented language (in which everything is considered to be an object), there can potentially be an infinite number of types, because the classes we write represent their own types (more on that during the course). Also, all the datatypes (even the simple ones like `bool` and `int` are objects derived from classes. So, datatypes in Python are not different from classes."
   ]
  },
  {
   "cell_type": "code",
   "execution_count": null,
   "id": "24a4bafc",
   "metadata": {},
   "outputs": [],
   "source": [
    "'cat'.upper()"
   ]
  },
  {
   "cell_type": "markdown",
   "id": "0935d5c7",
   "metadata": {},
   "source": [
    "Running the upper function on an `int` results in an error:"
   ]
  },
  {
   "cell_type": "code",
   "execution_count": null,
   "id": "e0eb20d3",
   "metadata": {},
   "outputs": [],
   "source": [
    "123.upper()\n"
   ]
  },
  {
   "cell_type": "markdown",
   "id": "b5b1fbf7",
   "metadata": {},
   "source": [
    "Also operators (which we'll talk about a bit later) work differently for difefrent datatypes, e.g."
   ]
  },
  {
   "cell_type": "code",
   "execution_count": null,
   "id": "d70ef630",
   "metadata": {},
   "outputs": [],
   "source": [
    "1 + 1 "
   ]
  },
  {
   "cell_type": "code",
   "execution_count": null,
   "id": "b7665ee6",
   "metadata": {},
   "outputs": [],
   "source": [
    "'1' + 'abc'"
   ]
  },
  {
   "cell_type": "code",
   "execution_count": null,
   "id": "133d18af",
   "metadata": {},
   "outputs": [],
   "source": [
    "1 + 'abc' ## we get an error, beacecuse "
   ]
  },
  {
   "cell_type": "markdown",
   "id": "22c8efae",
   "metadata": {},
   "source": [
    "# Casting (specifying a type)"
   ]
  },
  {
   "cell_type": "markdown",
   "id": "ac7f7017",
   "metadata": {},
   "source": [
    "We can make a certain value become the type we want it to be by casting it. E.g. a `float` into an `int`"
   ]
  },
  {
   "cell_type": "code",
   "execution_count": null,
   "id": "f1d5e2d3",
   "metadata": {},
   "outputs": [],
   "source": [
    "int(2.8)"
   ]
  },
  {
   "cell_type": "markdown",
   "id": "1703d0bf",
   "metadata": {},
   "source": [
    "This is useful if we have a mix of `string`s and `int`s:"
   ]
  },
  {
   "cell_type": "code",
   "execution_count": null,
   "id": "d5f4f9a1",
   "metadata": {},
   "outputs": [],
   "source": [
    "'1' + str(1)"
   ]
  },
  {
   "cell_type": "code",
   "execution_count": null,
   "id": "9a438093",
   "metadata": {},
   "outputs": [],
   "source": [
    "int('1') + 1"
   ]
  },
  {
   "cell_type": "markdown",
   "id": "c0226932",
   "metadata": {},
   "source": [
    "Of course, you can't do arbitrary conversions. Therefore, converting a string that cannot be interpreted as a number into an integer fails:"
   ]
  },
  {
   "cell_type": "code",
   "execution_count": null,
   "id": "2f9dd1f9",
   "metadata": {},
   "outputs": [],
   "source": [
    "string(1)"
   ]
  },
  {
   "cell_type": "code",
   "execution_count": null,
   "id": "06056356",
   "metadata": {},
   "outputs": [],
   "source": [
    "int('one')"
   ]
  },
  {
   "cell_type": "markdown",
   "id": "e68f8f9d",
   "metadata": {},
   "source": [
    "# Literature"
   ]
  },
  {
   "cell_type": "markdown",
   "id": "5b28d662",
   "metadata": {},
   "source": [
    "* Python Tutorial: Kapitel 3 (3.1.1 und 3.2.1)\n",
    "    (http://docs.python.org/3/tutorial/introduction.html)\n",
    "* W3Schools : https://www.w3schools.com/python/default.asp\n",
    "* Think Python book - https://greenteapress.com/thinkpython/html/thinkpython001.html "
   ]
  },
  {
   "cell_type": "code",
   "execution_count": null,
   "id": "f8e1013f",
   "metadata": {},
   "outputs": [],
   "source": []
  }
 ],
 "metadata": {
  "kernelspec": {
   "display_name": "Python 3 (ipykernel)",
   "language": "python",
   "name": "python3"
  },
  "language_info": {
   "codemirror_mode": {
    "name": "ipython",
    "version": 3
   },
   "file_extension": ".py",
   "mimetype": "text/x-python",
   "name": "python",
   "nbconvert_exporter": "python",
   "pygments_lexer": "ipython3",
   "version": "3.9.7"
  }
 },
 "nbformat": 4,
 "nbformat_minor": 5
}
