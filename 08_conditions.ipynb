{
 "cells": [
  {
   "cell_type": "markdown",
   "metadata": {},
   "source": [
    "# Conditions"
   ]
  },
  {
   "cell_type": "markdown",
   "metadata": {},
   "source": [
    "In the program flow often depending on certain states (e.g. the current value of a variable) branches must be taken. This is realized by *conditions*.\n",
    "\n",
    "The program checks before such a \"branch\" whether a condition is true or false, and then takes either one way or the other.\n",
    "\n",
    "![condition](img/if_else.PNG)\n",
    "\n",
    "Let's imagine we are programming an ATM:\n",
    "\n",
    "~~~\n",
    "# This example uses pseudocode\n",
    "\n",
    "amount_to_withdraw = input('How much do you want to withdraw? ')\n",
    "\n",
    "IF account balance - amount to withdraw > overdraft limit:\n",
    "    withdraw money   \n",
    "ELSE\n",
    "    Error message: Your account balance is not enough\n",
    "~~~"
   ]
  },
  {
   "cell_type": "markdown",
   "metadata": {},
   "source": [
    "The general form of a condition in Python (and most higher programming languages) looks like this:\n",
    "\n",
    "~~~\n",
    "if CONDITION == True:\n",
    "    do something\n",
    "else: # CONDITION was not True\n",
    "    do something else\n",
    "~~~\n",
    "\n",
    "Where `else` can be omitted."
   ]
  },
  {
   "cell_type": "markdown",
   "metadata": {},
   "source": [
    "## Read in sample data\n",
    "In the last notebook, we read the lines from the file `names_short.txt` into a list of lines called `clean_names`, stripping the line feeds in a List Comprehension.\n",
    "We do this again here because we will be working with this data."
   ]
  },
  {
   "cell_type": "code",
   "execution_count": null,
   "metadata": {},
   "outputs": [],
   "source": [
    "with open('data/names/names_short.txt', encoding='utf-8') as fh:\n",
    "    clean_names = [line.rstrip() for line in fh.readlines()]\n",
    "print(clean_names)"
   ]
  },
  {
   "cell_type": "markdown",
   "metadata": {},
   "source": [
    "## if\n",
    "As an example, let us now determine all names from our list `clean_names` that are longer than 8 characters:"
   ]
  },
  {
   "cell_type": "code",
   "execution_count": null,
   "metadata": {},
   "outputs": [],
   "source": [
    "for name in clean_names:\n",
    "    if len(name) > 8:\n",
    "        print(name)"
   ]
  },
  {
   "cell_type": "markdown",
   "metadata": {},
   "source": [
    "## Conditions in List Comprehensions\n",
    "The last example can also be solved with a list comprehension:"
   ]
  },
  {
   "cell_type": "code",
   "execution_count": null,
   "metadata": {},
   "outputs": [],
   "source": [
    "[name for name in clean_names if len(name) > 8]"
   ]
  },
  {
   "cell_type": "markdown",
   "metadata": {},
   "source": [
    "## if ... else\n",
    "With `else` we can handle all cases that do not satisfy the condition set in if. In the following `else` section we want to count how many names are shorter than or equal to 8 characters:"
   ]
  },
  {
   "cell_type": "code",
   "execution_count": null,
   "metadata": {},
   "outputs": [],
   "source": [
    "num_of_short_names = 0\n",
    "num_of_long_names = 0\n",
    "\n",
    "for name in clean_names:\n",
    "    if len(name) > 8:\n",
    "        num_of_long_names += 1\n",
    "    else:\n",
    "        num_of_short_names += 1\n",
    "print(f\"{num_of_short_names} short names and {num_of_long_names} long names\")"
   ]
  },
  {
   "cell_type": "markdown",
   "metadata": {},
   "source": [
    "## Subconditions\n",
    "If conditions can be nested:"
   ]
  },
  {
   "cell_type": "code",
   "execution_count": null,
   "metadata": {},
   "outputs": [],
   "source": [
    "short_length_names = 0\n",
    "medium_length_names = 0\n",
    "long_length_names = 0\n",
    "\n",
    "for name in clean_names:\n",
    "    if len(name) > 8:\n",
    "        long_length_names += 1\n",
    "    else: # name was shorter than 9\n",
    "        if len(name) < 5:\n",
    "            short_length_names += 1\n",
    "        else: # this is >= 5 (because of second if) and  <= 8 (because of first if)\n",
    "            medium_length_names += 1\n",
    "print('{} short names, {} regular and {} long names'.format(\n",
    "    short_length_names, medium_length_names, long_length_names))"
   ]
  },
  {
   "cell_type": "markdown",
   "metadata": {},
   "source": [
    "## if ... elif ... else\n",
    "In Python, such nested conditions can often be avoided by using `elif`. Python goes through the sequence of conditions until the first one evaluates to `True`. All `elifs` and the `else` below it are then ignored:"
   ]
  },
  {
   "cell_type": "code",
   "execution_count": null,
   "metadata": {},
   "outputs": [],
   "source": [
    "short_length_names = 0\n",
    "medium_length_names = 0\n",
    "long_length_names = 0\n",
    "\n",
    "for name in clean_names:\n",
    "    if len(name) > 8:\n",
    "        long_length_names += 1\n",
    "    elif len(name) < 5:\n",
    "        short_length_names += 1\n",
    "    else:\n",
    "        medium_length_names += 1\n",
    "        \n",
    "print('{} short names, {} regular and {} long names'.format(\n",
    "    short_length_names, medium_length_names, long_length_names))"
   ]
  },
  {
   "cell_type": "markdown",
   "metadata": {},
   "source": [
    "<div class=\"alert alert-block alert-info\">\n",
    "<b>Exercise 1</b>\n",
    "<p>\n",
    "Take this list into consideration and think aout what happens if we apply the above code to it. Explain :)\n",
    "<pre>\n",
    "     ['Christopher', 'Anna', 'Elena']\n",
    "</pre>\n",
    "</p>\n",
    "<p>\n",
    ".\n",
    "</p>"
   ]
  },
  {
   "cell_type": "code",
   "execution_count": null,
   "metadata": {},
   "outputs": [],
   "source": [
    "number = 40\n",
    "if number < 100:\n",
    "    print('number is smaller than 100')\n",
    "elif number < 50:\n",
    "    print('number is smaller than 50')    "
   ]
  },
  {
   "cell_type": "markdown",
   "metadata": {},
   "source": [
    "Although the condition on `elif` returns `True`, the corresponding text is not output because another condition was already true before. Overlooking this is a common beginner's mistake."
   ]
  },
  {
   "cell_type": "markdown",
   "metadata": {},
   "source": [
    "<div class=\"alert alert-block alert-info\">\n",
    "<b>Exercise 2</b>\n",
    "<p>Create an int variable <tt>price</tt>. Then write an <tt>if .. elif .. elif .. else</tt> condition that produces this output for the value of <tt>price</tt>:</p>\n",
    "<ul>\n",
    "<li>If <tt>price> is 10</tt>, return 'acceptable'.</li>\n",
    "<li>If <tt>price> is 20</tt>, print 'expensive'.</li>\n",
    "<li>If <tt>price> is 30</tt>, return 'very expensive'.</li>\n",
    "<li>In all other cases, enter 'cheap'.</li>\n",
    "</ul>\n",
    "<p>\n",
    "Try your conditions with different values for `price`!\n",
    "</p>\n",
    "</div>"
   ]
  },
  {
   "cell_type": "code",
   "execution_count": null,
   "metadata": {},
   "outputs": [],
   "source": []
  },
  {
   "cell_type": "markdown",
   "metadata": {},
   "source": [
    "## Remove duplicate names\n",
    "### The in operator\n",
    "\n",
    "In the `clean_names` list, some names occur more than once. Depending on the question, this may or may not be desirable. Let's try to prevent duplicate names. For this we have to introduce a new operator\n",
    "which tests whether a value is present in a sequence: `in`."
   ]
  },
  {
   "cell_type": "code",
   "execution_count": null,
   "metadata": {},
   "outputs": [],
   "source": [
    "'a' in 'Anakonda'"
   ]
  },
  {
   "cell_type": "markdown",
   "metadata": {},
   "source": [
    "`in` works with all sequence types and, as we will see, with a few other types as well. Since lists belong to the sequence types, the `in` operator also works with lists. Here we check if the integer `42` occurs in a list:"
   ]
  },
  {
   "cell_type": "code",
   "execution_count": null,
   "metadata": {},
   "outputs": [],
   "source": [
    "42 in [1, 55, 44, 32, 71, 41]"
   ]
  },
  {
   "cell_type": "markdown",
   "metadata": {},
   "source": [
    "In the next example, we use the `in` operator to check if the name already appears in a list of distinct names:"
   ]
  },
  {
   "cell_type": "code",
   "execution_count": null,
   "metadata": {},
   "outputs": [],
   "source": [
    "distinct_names = []\n",
    "for name in clean_names:\n",
    "    if name in distinct_names:\n",
    "        pass  # do nothing\n",
    "    else:\n",
    "        distinct_names.append(name)\n",
    "print(f'clean_names: {len(clean_names)} entries, distinct_names: {len(distinct_names)} entries')"
   ]
  },
  {
   "cell_type": "markdown",
   "metadata": {},
   "source": [
    "The `pass` in the fourth line of this example is a special feature of Python. After a colon (``if name in distinct names:``) there must be at least one statement. In the specific case of our example, there is nothing to do if the name is already present in `distinct_names`. However, because of the colon in the line before it, there must be something here. This is exactly why Python has the `pass` statement. It is the equivalent of a pair of curly braces with no content in other programming languages:\n",
    "\n",
    "~~~\n",
    "if(condition) {\n",
    "}\n",
    "~~~"
   ]
  },
  {
   "cell_type": "markdown",
   "metadata": {},
   "source": [
    "### not in\n",
    "If we use \"not in\" instead of \"in\" (i.e. reverse the condition), we can get rid of the `else`:"
   ]
  },
  {
   "cell_type": "code",
   "execution_count": null,
   "metadata": {},
   "outputs": [],
   "source": [
    "distinct_names = []\n",
    "for name in clean_names:\n",
    "    if name not in distinct_names:\n",
    "        distinct_names.append(name)\n",
    "print(f'clean_names: {len(clean_names)} entries, distinct_names: {len(distinct_names)} entries')"
   ]
  },
  {
   "cell_type": "markdown",
   "metadata": {},
   "source": [
    "This example is also meant to demonstrate that it makes sense to simplify code and thus make it more readable. Compare the two solutions again. You will agree that the second one is much faster to understand than the first one."
   ]
  },
  {
   "cell_type": "markdown",
   "metadata": {},
   "source": [
    "<div class=\"alert alert-block alert-info\">\n",
    "<b>Exercise 3</b>\n",
    "<p>Reread (as above) the list of names from the file\n",
    "<tt>data/names/names_short.txt</tt> into a list and test whether the name \"Alfons\" appears in the list.\n",
    "</div>"
   ]
  },
  {
   "cell_type": "code",
   "execution_count": null,
   "metadata": {},
   "outputs": [],
   "source": []
  },
  {
   "cell_type": "markdown",
   "metadata": {},
   "source": [
    "## Conditions with the ternary operator\n",
    "\n",
    "For simple `if .. else` conditions, the ternary operator can be used as an alternative.\n",
    "Since conditional expressions with the ternary operator can be read in Python almost like natural language\n",
    "there is no reason not to use them:"
   ]
  },
  {
   "cell_type": "code",
   "execution_count": null,
   "metadata": {},
   "outputs": [],
   "source": [
    "speed = 45\n",
    "if speed <= 50:\n",
    "    print ( 'Speed ok')\n",
    "else :\n",
    "    print ( 'Too fast')"
   ]
  },
  {
   "cell_type": "markdown",
   "metadata": {},
   "source": [
    "can be formulated ternary like this:"
   ]
  },
  {
   "cell_type": "code",
   "execution_count": null,
   "metadata": {},
   "outputs": [],
   "source": [
    "'Speed ok' if speed <= 50 else 'Too fast'"
   ]
  },
  {
   "cell_type": "markdown",
   "metadata": {},
   "source": [
    "Which option you use for simple conditions is your own choice and style."
   ]
  },
  {
   "cell_type": "markdown",
   "metadata": {},
   "source": [
    "## Special features of Python\n",
    "In if statements not only the two boolean values `True` and `False` can be evaluated, but also other values. You can get very far without this knowledge, but it is worth to have heard (or read) these peculiarities once, because they are generally considered *pythonic* and are often used. Here is an (incomplete) overview of values more commonly used in conditions. Corresponding examples are given below:\n",
    "\n",
    "* Numeric value 0\n",
    "  * ints, floats, complex are interpreted as `False` by `if` if they are set to `0`.\n",
    "  * All other numeric values are interpreted by `if` as `True`.\n",
    "* Empty strings:\n",
    "  * Empty strings are interpreted as `False`.\n",
    "  * All other, i.e. non-empty string values are interpreted as `True`.\n",
    "* NoneType: None\n",
    "  * None is interpreted as `False`\n",
    "* Empty lists, tuples, dictionaries and sets: `[]` , `()` , `{}` , `set()`\n",
    "  * If these types are empty (i.e. contain no elements), they are interpreted as\n",
    "    `False` interpreted\n",
    "  * Non-empty objects of these types are interpreted as `True`.\n",
    "  \n",
    "Here are some examples to experiment with: "
   ]
  },
  {
   "cell_type": "code",
   "execution_count": null,
   "metadata": {},
   "outputs": [],
   "source": [
    "input = \"\"\n",
    "if input:\n",
    "    print(\"Input was interpreted as true\")\n",
    "else:    \n",
    "    print(\"Input was interpreted as false.\")"
   ]
  },
  {
   "cell_type": "code",
   "execution_count": null,
   "metadata": {},
   "outputs": [],
   "source": [
    "input = 0\n",
    "if input:\n",
    "    print(\"Input was interpreted as true\")\n",
    "else:    \n",
    "    print(\"Input was interpreted as false.\")"
   ]
  },
  {
   "cell_type": "code",
   "execution_count": null,
   "metadata": {},
   "outputs": [],
   "source": [
    "input = None\n",
    "if input:\n",
    "    print(\"Input was interpreted as true\")\n",
    "else:    \n",
    "    print(\"Input was interpreted as false.\")"
   ]
  },
  {
   "cell_type": "code",
   "execution_count": null,
   "metadata": {},
   "outputs": [],
   "source": [
    "students = []\n",
    "if input:\n",
    "    print(\"Input was interpreted as true\")\n",
    "else:    \n",
    "    print(\"Input was interpreted as false.\")"
   ]
  },
  {
   "cell_type": "markdown",
   "metadata": {},
   "source": [
    "## Linking conditions with logical operators\n",
    "\n",
    "Python knows the following operators to logically link 2 or more conditions:\n",
    "\n",
    "### and\n",
    "\n",
    "Both conditions must be true"
   ]
  },
  {
   "cell_type": "code",
   "execution_count": null,
   "metadata": {},
   "outputs": [],
   "source": [
    "True and True"
   ]
  },
  {
   "cell_type": "markdown",
   "metadata": {},
   "source": [
    "<div class=\"alert alert-block alert-info\">\n",
    "<b>Exercise 4</b>\n",
    "<p>Find an <tt>and</tt> expression that returns <tt>False</tt>!</p>\n",
    "</div>"
   ]
  },
  {
   "cell_type": "code",
   "execution_count": null,
   "metadata": {},
   "outputs": [],
   "source": [
    "True and False"
   ]
  },
  {
   "cell_type": "markdown",
   "metadata": {},
   "source": [
    "### or\n",
    "\n",
    "At least one condition must be true"
   ]
  },
  {
   "cell_type": "code",
   "execution_count": null,
   "metadata": {},
   "outputs": [],
   "source": [
    "True or True"
   ]
  },
  {
   "cell_type": "code",
   "execution_count": null,
   "metadata": {},
   "outputs": [],
   "source": [
    "True or False"
   ]
  },
  {
   "cell_type": "markdown",
   "metadata": {},
   "source": [
    "<div class=\"alert alert-block alert-info\">\n",
    "<b>Exercise 5</b>\n",
    "<p>Find an <tt>or</tt> expression that returns <tt>False</tt>!</p>\n",
    "</div>"
   ]
  },
  {
   "cell_type": "markdown",
   "metadata": {},
   "source": [
    "### not\n",
    "\n",
    "Reverses the truth value (`True` becomes `False` and vice versa)"
   ]
  },
  {
   "cell_type": "code",
   "execution_count": null,
   "metadata": {},
   "outputs": [],
   "source": [
    "not True"
   ]
  },
  {
   "cell_type": "markdown",
   "metadata": {},
   "source": [
    "### Bracketing logical expressions\n",
    "\n",
    "Round parentheses can be used with logical expressions in a similar way to\n",
    "when calculating with numbers, i.e. they influence the processing order: What is bracketed is processed first. Basically, I recommend to use parentheses from a certain complexity level on, even if they would not be necessary at all, because parentheses usually make the expression more comprehensible.\n",
    "\n",
    "Let's think through this example:\n",
    "\n",
    "```\n",
    "if points > 1000 or points > 100 and status = ' Superpower ':\n",
    "```\n",
    "\n",
    "```\n",
    "if ( points > 1000) or ( points > 100 and status = ' Superpower ') :\n",
    "```\n",
    "\n",
    "```\n",
    "if ( points > 1000 or points > 100) and status = ' Superpower ':\n",
    "```\n",
    "\n",
    "Maybe it will be clearer if we reduce only to the truth values:"
   ]
  },
  {
   "cell_type": "code",
   "execution_count": null,
   "metadata": {},
   "outputs": [],
   "source": [
    "True or True and False"
   ]
  },
  {
   "cell_type": "code",
   "execution_count": null,
   "metadata": {},
   "outputs": [],
   "source": [
    "(True or True) and False"
   ]
  },
  {
   "cell_type": "code",
   "execution_count": null,
   "metadata": {},
   "outputs": [],
   "source": [
    "True or (True and False)"
   ]
  },
  {
   "cell_type": "markdown",
   "metadata": {},
   "source": [
    "<div class=\"alert alert-block alert-info\">\n",
    "<b>Exercise 6</b>\n",
    "<p>Put yourself in the Python interpreter and evaluate the above conditions step by step. In other words: Determine the truth value of the first two values to be selected. E.g.,\n",
    "\n",
    "<pre>\n",
    "`True and True` results in `True`\n",
    "</pre>\n",
    "\n",
    "and then apply that result to the third value to get the truth value of the entire expression. Just write the result in the cell below. It should match the result of the three examples above. If the result differs, think about where you made the mistake.</p>\n",
    "</div>"
   ]
  },
  {
   "cell_type": "markdown",
   "metadata": {},
   "source": [
    "<div class=\"alert alert-block alert-info\">\n",
    "<b>Exercise 7</b>\n",
    "<p>Imagine that you are programming a game. At any given time, the player has a specific score and status, each stored in a variable. At this point in the game it is decided whether the player loses or not. And these rules:</p>\n",
    "<ul>\n",
    "<li>If the player has more than 1000 points, the game will continue regardless of the player's status</li>\n",
    "<li>If the player has more than 100 points and the status is \"Superpower\", the game will also continue</li>\n",
    "<li>In all other cases it says 'game over'</li>\n",
    "</ul>\n",
    "<p>\n",
    "    Write <b>an</b> if-expression with several logically linked conditions that respects these rules. Depending on the score and status, either 'The game continues' or 'Game over' should be output.\n",
    "</p>\n",
    "<p>\n",
    "Important: Try out your if construct by changing the values ​​of the two variables to test it.\n",
    "</p>\n",
    "</div>"
   ]
  },
  {
   "cell_type": "code",
   "execution_count": null,
   "metadata": {},
   "outputs": [],
   "source": [
    "score = 500\n",
    "status = 'Superpower'\n",
    "\n",
    "if ...\n",
    "    print(\"The game continues\")\n",
    "\n",
    "else:\n",
    "    print(\"Game over\")\n"
   ]
  },
  {
   "cell_type": "markdown",
   "metadata": {},
   "source": [
    "# Literature I recommend\n",
    "\n",
    "* https://www.w3schools.com/python/python_conditions.asp\n",
    "* https://www.learnpython.org/en/Conditions\n",
    "* https://www.tutorialspoint.com/python/python_decision_making.htm\n",
    "* https://www.geeksforgeeks.org/python-if-else/?ref=lbp"
   ]
  }
 ],
 "metadata": {
  "kernelspec": {
   "display_name": "Python 3 (ipykernel)",
   "language": "python",
   "name": "python3"
  },
  "language_info": {
   "codemirror_mode": {
    "name": "ipython",
    "version": 3
   },
   "file_extension": ".py",
   "mimetype": "text/x-python",
   "name": "python",
   "nbconvert_exporter": "python",
   "pygments_lexer": "ipython3",
   "version": "3.9.7"
  }
 },
 "nbformat": 4,
 "nbformat_minor": 2
}
