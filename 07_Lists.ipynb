{
 "cells": [
  {
   "cell_type": "markdown",
   "metadata": {},
   "source": [
    "# Lists\n",
    "A list is an ordered sequence of items. \n",
    "You can think of a list as a container that contains other items in a particular order. A list (`list`) is thus another *sequence type* that we will learn about.\n",
    "\n",
    "In code, a list is indicated by square brackets.\n",
    "\n",
    "~~~\n",
    "my_friends = ['Otto', 'Anna', 'Berta', 'Fritz']\n",
    "~~~"
   ]
  },
  {
   "cell_type": "markdown",
   "metadata": {},
   "source": [
    "The data type of a list element does not matter. That means that elements of any type can be stored in a list:\n"
   ]
  },
  {
   "cell_type": "code",
   "execution_count": null,
   "metadata": {},
   "outputs": [],
   "source": [
    "students = ['Charlie', 'Anna', 'Marko', 'Santa']\n",
    "students"
   ]
  },
  {
   "cell_type": "code",
   "execution_count": null,
   "metadata": {},
   "outputs": [],
   "source": [
    "temperatures = [25.4, 28.1, 20.9, 26.0, 32.6]\n",
    "temperatures"
   ]
  },
  {
   "cell_type": "code",
   "execution_count": null,
   "metadata": {},
   "outputs": [],
   "source": [
    "grades = [1, 2, 1, 4, 3, 3, 2]\n",
    "grades"
   ]
  },
  {
   "cell_type": "markdown",
   "metadata": {},
   "source": [
    "You can even store elements of different types in a list (but this is usually not a very good idea):"
   ]
  },
  {
   "cell_type": "code",
   "execution_count": null,
   "metadata": {},
   "outputs": [],
   "source": [
    "values = ['Santa', 7, True, 3.14]\n",
    "values"
   ]
  },
  {
   "cell_type": "markdown",
   "metadata": {},
   "source": [
    "Since a list -- like a string -- is a sequence type, many of the things we've learned about strings also work for lists. \n",
    "\n",
    "## Get the number of list elements\n",
    "We can get the number of elements in a list with the function `len()`:"
   ]
  },
  {
   "cell_type": "code",
   "execution_count": null,
   "metadata": {},
   "outputs": [],
   "source": [
    "len(students)"
   ]
  },
  {
   "cell_type": "markdown",
   "metadata": {},
   "source": [
    "## Address single elements\n",
    "Just as with a string a single character can be accessed via the index, with a list a specific element can be addressed:\n"
   ]
  },
  {
   "cell_type": "code",
   "execution_count": null,
   "metadata": {},
   "outputs": [],
   "source": [
    "students[0]"
   ]
  },
  {
   "cell_type": "markdown",
   "metadata": {},
   "source": [
    "This also works for negative indexing"
   ]
  },
  {
   "cell_type": "code",
   "execution_count": null,
   "metadata": {},
   "outputs": [],
   "source": [
    "students[-1]"
   ]
  },
  {
   "cell_type": "markdown",
   "metadata": {},
   "source": [
    "## Slicing\n",
    "In addition, parts of the list can be extracted:"
   ]
  },
  {
   "cell_type": "code",
   "execution_count": null,
   "metadata": {},
   "outputs": [],
   "source": [
    "students[1:3]"
   ]
  },
  {
   "cell_type": "markdown",
   "metadata": {},
   "source": [
    "## Iterate through a list\n",
    "\n",
    "With a `for` loop we can iterate through the individual elements of a list, like we did for the individual characters of a string:"
   ]
  },
  {
   "cell_type": "code",
   "execution_count": null,
   "metadata": {},
   "outputs": [],
   "source": [
    "for student in students:\n",
    "    print(student)"
   ]
  },
  {
   "cell_type": "markdown",
   "metadata": {},
   "source": [
    "<div class=\"alert alert-block alert-info\">\n",
    "<b>Exercise 1a</b>\n",
    "\n",
    "<p>Make a list of the 5 things you ate recently. Think about a good name for the variable. </li>\n",
    "</p>\n",
    "</div>"
   ]
  },
  {
   "cell_type": "code",
   "execution_count": null,
   "metadata": {},
   "outputs": [],
   "source": [
    "food = ['pizza', 'cous cous', 'lasagne', 'schnitzel', 'goulash']"
   ]
  },
  {
   "cell_type": "markdown",
   "metadata": {},
   "source": [
    "<div class=\"alert alert-block alert-info\">\n",
    "<b>Exercise 1b</b>\n",
    "\n",
    "<p>Output each dish in a separate line (through a loop) and number them with a counter (use the `enumerate()` function we learned about in the loops notebook).\n",
    "The output should look something like: </li>\n",
    "<pre>\n",
    "1. Pizza\n",
    "2. Cous cous\n",
    "3. Lasagne\n",
    "4. Schnitzel\n",
    "5. Goulash\n",
    "</pre>\n",
    "Make sure that the numbering begins with a 1.\n",
    "</p>\n",
    "</div>"
   ]
  },
  {
   "cell_type": "markdown",
   "metadata": {},
   "source": [
    "<div class=\"alert alert-block alert-info\">\n",
    "<b>Exercise 1c</b>\n",
    "\n",
    "<p>Output the last three dishes only. The output should look like this: </li>\n",
    "<pre>\n",
    "Lasagne\n",
    "Schnitzel\n",
    "Goulash\n",
    "</pre>\n",
    "Make sure that the numbering begins with a 1.\n",
    "</p>\n",
    "</div>"
   ]
  },
  {
   "cell_type": "markdown",
   "metadata": {},
   "source": [
    "## Modify lists\n",
    "\n",
    "Unlike strings, lists can be modified later. "
   ]
  },
  {
   "cell_type": "markdown",
   "metadata": {},
   "source": [
    "### Add elements\n",
    "We can add new elements at any time. The `append(VALUE)` method inserts a new element at the end of the list: "
   ]
  },
  {
   "cell_type": "code",
   "execution_count": null,
   "metadata": {},
   "outputs": [],
   "source": [
    "students = ['Charlie', 'Anna', 'Marko', 'Santa']\n",
    "print(students)\n",
    "students.append('Klara')\n",
    "print(students)\n"
   ]
  },
  {
   "cell_type": "markdown",
   "metadata": {},
   "source": [
    "If necessary, we can insert an element at any position. For this we use the `insert()` method of the `list` object. This method expects 2 parameters:\n",
    "\n",
    "1. the position where the value should be inserted into the list. This specification is 0-based. So position `0` means \"at the very beginning\", `1` means: after the first element.\n",
    "2. the value to be inserted"
   ]
  },
  {
   "cell_type": "code",
   "execution_count": null,
   "metadata": {},
   "outputs": [],
   "source": [
    "students.insert(0, 'Teddy')\n",
    "students"
   ]
  },
  {
   "cell_type": "markdown",
   "metadata": {},
   "source": [
    "### Remove elements\n",
    "\n",
    "We can remove elements in the same way. The `pop()` method removes the last element of the list. `pop()` returns the value of the removed element."
   ]
  },
  {
   "cell_type": "code",
   "execution_count": null,
   "metadata": {},
   "outputs": [],
   "source": [
    "last_student = students.pop()\n",
    "print(last_student)\n",
    "print(students)"
   ]
  },
  {
   "cell_type": "markdown",
   "metadata": {},
   "source": [
    "However, `pop()` can also optionally be called with an argument: A number corresponding to the index of the object to be removed:"
   ]
  },
  {
   "cell_type": "code",
   "execution_count": null,
   "metadata": {},
   "outputs": [],
   "source": [
    "first_student = students.pop(0) #  remove the first element\n",
    "print(first_student)\n",
    "students"
   ]
  },
  {
   "cell_type": "markdown",
   "metadata": {},
   "source": [
    "<div class=\"alert alert-block alert-info\">\n",
    "<b>Exercise 2</b>\n",
    "<p>Imagine you have just returned from dinner.\n",
    "<ol>\n",
    "<li>Add the dish you just ate to the end of the list created in <b>Exercise 1</b>.</li>\n",
    "<li>Remove the oldest meal to return the list to exactly 5 entries.</li>\n",
    "</ol>\n",
    "</p>\n",
    "</div>"
   ]
  },
  {
   "cell_type": "code",
   "execution_count": null,
   "metadata": {},
   "outputs": [],
   "source": []
  },
  {
   "cell_type": "markdown",
   "metadata": {},
   "source": [
    "What you have just written here in a very simple form is called a **queue** in computer science: If a new element is inserted at the end and the maximum length of the queue is exceeded, the first (i.e. oldest) element must be removed be removed from the queue.\n",
    "\n",
    "![A queue](img/queue.png)\n",
    "\n",
    "You probably know this principle from your family doctor: if the waiting room is full, you have to wait in the corridor until the next patient is called into the treatment room and a place in the waiting room becomes free.\n",
    "\n",
    "We'll take a closer look at using queues later in the semester."
   ]
  },
  {
   "cell_type": "markdown",
   "metadata": {},
   "source": [
    "### Replace items\n",
    "The value of a list element can be changed at any time via the index:"
   ]
  },
  {
   "cell_type": "code",
   "execution_count": null,
   "metadata": {},
   "outputs": [],
   "source": [
    "students = ['Charlie', 'Anna', 'Marko', 'Santa']\n",
    "print(students)\n",
    "students[1] = 'Claus'\n",
    "print(students)"
   ]
  },
  {
   "cell_type": "markdown",
   "metadata": {},
   "source": [
    "So here we changed the value of the second element from 'Anna' to 'CLaus'. (Actually, we replaced the old String object with a new one, but that's not important just yet.)"
   ]
  },
  {
   "cell_type": "markdown",
   "metadata": {},
   "source": [
    "## Multidimensional lists\n",
    "We have seen that a list can contain values of any data type. Of course, this also includes lists. So we can create a list whose elements are in turn lists. We then have a list of lists.\n",
    "\n",
    "Let's imagine we measure the temperature three times a day and want to save these readings. On the first day we have these 3 measurements: `[17, 28, 24]`. On the second day we measure these values: `[18, 31, 28]`. So we have a list of 3 values for each day. We can save the individual days (i.e. lists) in a list again:"
   ]
  },
  {
   "cell_type": "code",
   "execution_count": null,
   "metadata": {},
   "outputs": [],
   "source": [
    "temperatures = [\n",
    "    [17, 28, 24],\n",
    "    [18, 31, 28],\n",
    "    [20, 35, 29]\n",
    "]"
   ]
  },
  {
   "cell_type": "markdown",
   "metadata": {},
   "source": [
    "We can imagine these temperatures as a table: Each line represents a day, each column a measurement time (e.g. 6:00, 12:00, 18:00). We have already learned how to access the readings of a specific day:"
   ]
  },
  {
   "cell_type": "code",
   "execution_count": null,
   "metadata": {},
   "outputs": [],
   "source": [
    "temperatures[1]"
   ]
  },
  {
   "cell_type": "markdown",
   "metadata": {},
   "source": [
    "Since the element addressed in this way is again a list, we can also access individual elements of this list. We can read out the first measured value of the second day like this:"
   ]
  },
  {
   "cell_type": "code",
   "execution_count": null,
   "metadata": {},
   "outputs": [],
   "source": [
    "day = temperatures[1] # temperatures of second day as list in variable 'day'\n",
    "temperature_at_6 = day[0] # first value of day\n",
    "temperature_at_6"
   ]
  },
  {
   "cell_type": "markdown",
   "metadata": {},
   "source": [
    "It is usually written more compactly like this:"
   ]
  },
  {
   "cell_type": "code",
   "execution_count": null,
   "metadata": {},
   "outputs": [],
   "source": [
    "temperatures[1][0]"
   ]
  },
  {
   "cell_type": "markdown",
   "metadata": {},
   "source": [
    "The value in the first pair of brackets also refers to the list `temperatures` (i.e. what we referred to as `day` above), the value in the second pair of brackets to the list that we get via the first index, i.e. to the first entry of the second entry in the `temperatures` list."
   ]
  },
  {
   "cell_type": "markdown",
   "metadata": {},
   "source": [
    "<div class=\"alert alert-block alert-info\">\n",
    "<b>Exercise 3</b>\n",
    "<p>\n",
    "To become familiar with this concept, let the following temperatures be displayed:\n",
    "<ol>\n",
    "<li>First day's midday temperature</li>\n",
    "<li>Morning temperature of the first day</li>\n",
    "<li>Morning temperature of the last day</li>\n",
    "<li>Evening temperature of the second day</li>\n",
    "</ol>\n",
    "</p>\n",
    "</div>"
   ]
  },
  {
   "cell_type": "code",
   "execution_count": null,
   "metadata": {},
   "outputs": [],
   "source": []
  },
  {
   "cell_type": "markdown",
   "metadata": {},
   "source": [
    "## Calculate with list values\n",
    "For lists containing numeric values (int, float), Python provides functions that can be applied to all values in a list:\n",
    "\n",
    "  * `max(list)` determines the largest value occurring in the list.\n",
    "  * `min(list)` returns the smallest value in the list\n",
    "  * `sum(list)` determines the sum of all values of the list"
   ]
  },
  {
   "cell_type": "markdown",
   "metadata": {},
   "source": [
    "## Read lines of a file into a list\n",
    "Let's return to our file of first names that we learned about in the [Notebook on Handling Files](06_files.ipynb). We learned there that the `readlines()` method returns the contents of a file as a list of lines:"
   ]
  },
  {
   "cell_type": "code",
   "execution_count": null,
   "metadata": {},
   "outputs": [],
   "source": [
    "with open('data/names/names_short.txt', encoding='utf-8') as fh:\n",
    "    lines = fh.readlines()\n",
    "print(lines)"
   ]
  },
  {
   "cell_type": "markdown",
   "metadata": {},
   "source": [
    "So our list `lines` now contains line by line the content of the file `names_short.txt`. However, with one flaw: Since each line is terminated by a newline character, this is also contained in each entry of the list (`\\n`). The following digression describes how we can get rid of these line breaks."
   ]
  },
  {
   "cell_type": "markdown",
   "metadata": {},
   "source": [
    "## Digression: The string methods rstrip(), lstrip(), and strip().\n",
    "As we can see, each list element contains the line feed character `\\n` at the end. We could remove this with slicing, for example, but the string type provides a method `.rstrip()` that does exactly what we need:"
   ]
  },
  {
   "cell_type": "code",
   "execution_count": null,
   "metadata": {},
   "outputs": [],
   "source": [
    "s = 'abc\\n'\n",
    "s.rstrip()"
   ]
  },
  {
   "cell_type": "markdown",
   "metadata": {},
   "source": [
    "`rstrip()` removes all whitespace (spaces, tabs, line breaks, etc.) at the end of a string and returns the modified string. \n",
    "\n",
    "Additionally there is `lstrip()` which removes whitespace at the beginning of a string and `strip()` which removes whitespace left and right."
   ]
  },
  {
   "cell_type": "code",
   "execution_count": null,
   "metadata": {},
   "outputs": [],
   "source": [
    "s = '   abc   '\n",
    "print('s: \"{}\"'.format(s))\n",
    "print('s.rstrip(): \"{}\"'.format(s.rstrip()))\n",
    "print('s.lstrip(): \"{}\"'.format(s.lstrip()))\n",
    "print('s.strip(): \"{}\"'.format(s.strip()))"
   ]
  },
  {
   "cell_type": "markdown",
   "metadata": {},
   "source": [
    "## Remove line breaks in a list of strings \n",
    "### Method 1: in a loop\n",
    "Now, if we want to remove all line breaks from our list of `lines`, we can do it in a `for` loop:"
   ]
  },
  {
   "cell_type": "code",
   "execution_count": null,
   "metadata": {},
   "outputs": [],
   "source": [
    "clean_names = [] # here we will store all names without \\n\n",
    "for line in lines:\n",
    "    clean_names.append(line.rstrip())\n",
    "print(clean_names)"
   ]
  },
  {
   "cell_type": "markdown",
   "metadata": {},
   "source": [
    "As a reminder, we can use `list.append(VALUE)` to add a value to a list. This value is appended to the end of the list:"
   ]
  },
  {
   "cell_type": "code",
   "execution_count": null,
   "metadata": {},
   "outputs": [],
   "source": [
    "students = ['Anna', 'Hans', 'Claus']\n",
    "students.append('Dora')\n",
    "students"
   ]
  },
  {
   "cell_type": "markdown",
   "metadata": {},
   "source": [
    "## Method 2: with a List Comprehension\n",
    "*List Comprehensions* are an approach coming from the field of functional programming to apply an action to all elements of a list.\n",
    "\n",
    "The syntax of a List Comprehension is this:\n",
    "\n",
    "```\n",
    "[<do something with element> for <element> in <iterable>]\n",
    "```"
   ]
  },
  {
   "cell_type": "code",
   "execution_count": null,
   "metadata": {},
   "outputs": [],
   "source": [
    "clean_names = [line.rstrip() for line in lines]\n",
    "print(clean_names)"
   ]
  },
  {
   "cell_type": "markdown",
   "metadata": {},
   "source": [
    "List Comprehensions have become a very popular alternative for simple loops in recent years. I strongly recommend to get familiar with them because \n",
    "\n",
    "1. they are more compact than normal loops\n",
    "2. they often appear in foreign code and therefore you should read and understand them"
   ]
  },
  {
   "cell_type": "markdown",
   "metadata": {},
   "source": [
    "<div class=\"alert alert-block alert-info\">\n",
    "<b>Exercise 5</b>\n",
    "<p>\n",
    "Write a list comprehension that multiplies each value of the <tt>nums</tt> list by itself.\n",
    "So the result should look like this:\n",
    "<pre>\n",
    "[16, 81, 289, 25, 9801]\n",
    "</pre>\n",
    "</p>\n",
    "</div>"
   ]
  },
  {
   "cell_type": "code",
   "execution_count": null,
   "metadata": {},
   "outputs": [],
   "source": [
    "nums = [4, 9, 17, 5, 99]\n"
   ]
  },
  {
   "cell_type": "markdown",
   "metadata": {},
   "source": [
    "\n",
    "\n"
   ]
  },
  {
   "cell_type": "markdown",
   "metadata": {},
   "source": [
    "# Literature that I recommend\n",
    "\n",
    "* https://www.w3schools.com/python/python_lists.asp\n",
    "* https://docs.python.org/3/tutorial/datastructures.html\n",
    "* https://towardsdatascience.com/python-basics-6-lists-and-list-manipulation-a56be62b1f95\n",
    "* https://www.geeksforgeeks.org/python-lists/\n",
    "* https://www.tutorialspoint.com/python/python_lists.htm"
   ]
  },
  {
   "cell_type": "code",
   "execution_count": null,
   "metadata": {},
   "outputs": [],
   "source": []
  }
 ],
 "metadata": {
  "kernelspec": {
   "display_name": "Python 3 (ipykernel)",
   "language": "python",
   "name": "python3"
  },
  "language_info": {
   "codemirror_mode": {
    "name": "ipython",
    "version": 3
   },
   "file_extension": ".py",
   "mimetype": "text/x-python",
   "name": "python",
   "nbconvert_exporter": "python",
   "pygments_lexer": "ipython3",
   "version": "3.9.7"
  }
 },
 "nbformat": 4,
 "nbformat_minor": 2
}
