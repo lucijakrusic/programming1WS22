{
 "cells": [
  {
   "cell_type": "markdown",
   "id": "9622d969",
   "metadata": {},
   "source": [
    "## What are exceptions?"
   ]
  },
  {
   "cell_type": "markdown",
   "id": "58767224",
   "metadata": {},
   "source": [
    "We have noticed several times that when running programs we have encountered errors that have caused the program to terminate. This happens, for example, when we try to access a non-existent element of a list:"
   ]
  },
  {
   "cell_type": "code",
   "execution_count": null,
   "id": "da93f4c8",
   "metadata": {},
   "outputs": [],
   "source": [
    "names = ['Otto', 'Hugo', 'Maria']\n",
    "names[3]\n",
    "print('This is at the end of the program')"
   ]
  },
  {
   "cell_type": "markdown",
   "id": "f1d4b97c",
   "metadata": {},
   "source": [
    "Or when we try to divide a number by 0:\n"
   ]
  },
  {
   "cell_type": "code",
   "execution_count": null,
   "id": "257b0654",
   "metadata": {},
   "outputs": [],
   "source": [
    "user_input = 0 \n",
    "2335 / user_input\n",
    "print('This is at the end of the program')"
   ]
  },
  {
   "cell_type": "markdown",
   "id": "51c8c88d",
   "metadata": {},
   "source": [
    "Or when we try to open a file that does not exist:"
   ]
  },
  {
   "cell_type": "code",
   "execution_count": null,
   "id": "41c96e7a",
   "metadata": {},
   "outputs": [],
   "source": [
    "with open('BLA.txt') as fh:\n",
    "    print(fh.read())\n",
    "print('This is at the end of the program')  "
   ]
  },
  {
   "cell_type": "markdown",
   "id": "cba1eae4",
   "metadata": {},
   "source": [
    "Since the output of the `print()` function (line 3 in each case) never occurs, we see that in all cases Python immediately terminates the program as soon as the error occurs. However, this only happens if we do not include a mechanism in our program to react to the exception (i.e., the error). For now, though, all that matters is that there are different types of exceptions. This is good because it allows us to selectively react to certain exceptions in a certain way. We will see how this works later. But first, let's look at a few exception types."
   ]
  },
  {
   "cell_type": "markdown",
   "id": "9e0b6bfd",
   "metadata": {},
   "source": [
    "## Exception types"
   ]
  },
  {
   "cell_type": "markdown",
   "id": "87088f6e",
   "metadata": {},
   "source": [
    " Here again are the three fragments we used to trigger errors at the beginning of this notebook:"
   ]
  },
  {
   "cell_type": "code",
   "execution_count": null,
   "id": "7db96f01",
   "metadata": {},
   "outputs": [],
   "source": [
    "names = ['Otto', 'Hugo', 'Maria']\n",
    "names[3]\n",
    "print('This is at the end of the program')"
   ]
  },
  {
   "cell_type": "code",
   "execution_count": null,
   "id": "5a9750b5",
   "metadata": {},
   "outputs": [],
   "source": [
    "user_input = 0 \n",
    "2335 / user_input\n",
    "print('This is at the end of the program')"
   ]
  },
  {
   "cell_type": "code",
   "execution_count": null,
   "id": "754f734f",
   "metadata": {},
   "outputs": [],
   "source": [
    "with open('BLA.txt') as fh:\n",
    "    print(fh.read())\n",
    "print('This is at the end of the program')  "
   ]
  },
  {
   "cell_type": "markdown",
   "id": "b3cfb378",
   "metadata": {},
   "source": [
    "If we look closely, we see that there are three different types of errors:\n",
    "\n",
    "* IndexError at (`names[3]`)\n",
    "* ZeroDivisionError at (`2335 / user_input`)\n",
    "* FileNotFoundError at (`open('BLA.txt')`)\n",
    "\n",
    "So, depending on what kind of error occurred, Python generates a corresponding exception object. \n",
    "\n",
    "These errors are organized hierarchically, meaning that each additional level signifies a more specific type of error. \n",
    "\n",
    "The complete hierarchy of built-in exceptions can be found here: https://docs.python.org/3/library/exceptions.html#exception-hierarchy. \n",
    "\n",
    "So the most general kind of an error is the `BaseException`. Derived from it there is e.g. the `KeyboardInterrupt` exception (thrown when the user aborts the program with `CTRL-C`) or the `Exception`, which itself is base class for many other exceptions, like the `ArithmethicError` or the `LookupError`. The `ArithmeticError` in turn is base class for `FloatingPointError`, `OverflowError` and the just occurred `ZeroDivisionError`.\n",
    "\n",
    "This principle should be familiar to you. It is inheritance in the sense of object orientation.\n",
    "Starting from a base class `BaseException` is specialized. I.e. `Exception`is a special case of `BaseException`, `ArithmeticError` again a special case of `Exception` and so on.\n",
    "\n",
    "If we only draw this section of exceptions as a tree, it looks like this:\n",
    "\n",
    "![Exception Hierarchy](img/exceptions.png)\n",
    "\n",
    "The clever thing about inheritance is that the following statements are all correct from Python's point of view:\n",
    "\n",
    "* A `ZeroDivisionError` is a `ZeroDivisionError`.\n",
    "* A `ZeroDivisionError` is an `ArithmeticError`\n",
    "* A `ZeroDivisionError` is an `Exception`.\n",
    "* A `ZeroDivisionError` is a `BaseException`.\n",
    "\n",
    "So if we want to react to a `ZeroDivisionError`, we can catch exactly this exception type. Alternatively, we could handle all `ArithmeticError` together in one place or even all `Exception` objects, but this is not a good idea."
   ]
  },
  {
   "cell_type": "markdown",
   "id": "7942994f",
   "metadata": {},
   "source": [
    "## Respond to exceptions\n",
    "\n",
    "So when Python encounters a problem, it creates an exception object. This object can be \"caught\". Let's look at this with a concrete example:"
   ]
  },
  {
   "cell_type": "code",
   "execution_count": null,
   "id": "590818f4",
   "metadata": {},
   "outputs": [],
   "source": [
    "divisor = int(input('Divisor: '))\n",
    "try:\n",
    "    print(6543 / divisor)\n",
    "except:\n",
    "    print('there was an error with the division')\n",
    "print(\"the program will be ended.\")   "
   ]
  },
  {
   "cell_type": "markdown",
   "id": "d147e97f",
   "metadata": {},
   "source": [
    "Here we have put the \"dangerous\" code part (i.e. the part where a division by 0 could happen) into a \"`try`\" block. If an error occurs within the `try` block, the \"`catch`\" block is activated. block is activated and (in our trivial example) the corresponding error message is printed there. The important thing here is that -- unlike before -- the program is no longer aborted when the exception occurs, which we can see from the fact that the `print()` function is executed in line 6. We have handled the exception ourselves and Python therefore no longer sees any reason to terminate the program because of the error."
   ]
  },
  {
   "cell_type": "markdown",
   "id": "a5fb316f",
   "metadata": {},
   "source": [
    "However, what we have done here is **very bad style**: We caught any kind of error or warning. This may also catch errors that we didn't intend to catch, and which could possibly give crucial hints for troubleshooting. Here is a (very contrived) example to illustrate this. First enter `0` to trigger a `ZeroDivisionError`:"
   ]
  },
  {
   "cell_type": "code",
   "execution_count": null,
   "id": "6d6403a5",
   "metadata": {},
   "outputs": [],
   "source": [
    "divisor = int(input('Divisor: '))\n",
    "some_names = ['Otto', 'Anna']\n",
    "try:\n",
    "    print(some_names[divisor])\n",
    "    print(6543 / divisor)\n",
    "except:\n",
    "    print('An error occurred during division')\n",
    "print(\"the program will end normally.\")       "
   ]
  },
  {
   "cell_type": "markdown",
   "id": "54d193e0",
   "metadata": {},
   "source": [
    "This is what we already know and also expected.\n",
    "\n",
    "Now run the cell above again and enter `5`! Python again reports that there was a problem with the division. In truth, there was nothing wrong with the division; the problem was that in line 4 we accessed index `5` of a list with only two elements. So we are no longer dealing with a `ZeroDivisionError` here, but with an `IndexError`. But since we catch all exceptions in our `catch`, we never get to see the real error message and the debugging will be correspondingly difficult."
   ]
  },
  {
   "cell_type": "markdown",
   "id": "41430e78",
   "metadata": {},
   "source": [
    "That is the reason why a\n",
    "\n",
    "```python\n",
    "catch:\n",
    "```\n",
    "\n",
    "should never be used in this most general form. Instead, specify the type of exception to be responded to as precisely as possible (line 6):"
   ]
  },
  {
   "cell_type": "code",
   "execution_count": null,
   "id": "903b153d",
   "metadata": {},
   "outputs": [],
   "source": [
    "divisor = int(input('Divisor: '))\n",
    "some_names = ['Otto', 'Anna']\n",
    "try:\n",
    "    print(some_names[divisor])\n",
    "    print(6543 / divisor)\n",
    "except ZeroDivisionError:\n",
    "    print('An error occurred during division')\n",
    "print(\"Program will end normally.\")       "
   ]
  },
  {
   "cell_type": "code",
   "execution_count": null,
   "id": "b31f3048",
   "metadata": {},
   "outputs": [],
   "source": []
  },
  {
   "cell_type": "markdown",
   "id": "bebfeb53",
   "metadata": {},
   "source": [
    "The way `catch` is written now, it feels responsible only for exceptions of type `ZeroDivisionError`. Try it out by first typing `0` again and then `5`. At `5` you will now see the `IndexError` again and you have a chance to find out what went wrong."
   ]
  },
  {
   "cell_type": "markdown",
   "id": "53c089ae",
   "metadata": {},
   "source": [
    "### Responding to multiple exceptions\n",
    "\n",
    "In the last example, we raised a `ZeroDivisionError` or an `IndexError` depending on the input. However, only the `ZeroDivisionError` was caught. If we also want to react to the `IndexError` itself, we can add another `catch`:"
   ]
  },
  {
   "cell_type": "code",
   "execution_count": null,
   "id": "8f65cb2d",
   "metadata": {},
   "outputs": [],
   "source": [
    "divisor = int(input('Divisor: '))\n",
    "some_names = ['Otto', 'Anna']\n",
    "try:\n",
    "    print(some_names[divisor])\n",
    "    print(6543 / divisor)\n",
    "except ZeroDivisionError:\n",
    "    print('An error occurred during division')\n",
    "except IndexError:\n",
    "    print('The list doesn\\'t have so many elements!')\n",
    "print(\"Program will end normally.\")   "
   ]
  },
  {
   "cell_type": "markdown",
   "id": "7f36bcb7",
   "metadata": {},
   "source": [
    "The art of exception handling is to find out\n",
    "* when it makes sense to catch an exception at all.\n",
    "  * If an error is so serious that further program execution makes no sense, it usually makes no sense to catch the exception (unless you want to e.g. issue a user-friendly error message and then terminate the program itself).\n",
    "  * If the problem is not serious, you could issue a warning in the `catch` block, for example, and then let the program continue to run.\n",
    "  * Sometimes you may want to keep the program running even in case of serious errors. For example, a web server should not be terminated by an incorrect request. In such a case you catch the exception and send an appropriate request back to the client and then accept the next request.\n",
    "  * If an error occurs due to immediate user input, it may be possible to request the input again in the `catch` block (but here it is usually better to validate the input explicitly).\n",
    "  * Sometimes it can make sense to reset the program, e.g. to use a default value. However, this must be well considered.\n",
    "* At which point the exception should be handled\n",
    "  * As we will see, the exception does not necessarily have to be caught where it occurs."
   ]
  },
  {
   "cell_type": "markdown",
   "id": "0580f3d7",
   "metadata": {},
   "source": [
    "Before we go any further, one more example where exception handling might make more sense:"
   ]
  },
  {
   "cell_type": "code",
   "execution_count": null,
   "id": "0ef36c5f",
   "metadata": {},
   "outputs": [],
   "source": [
    "\n",
    "def ask_for_number():\n",
    "    \"\"\"Ask for number.\n",
    "    \n",
    "    Ask again if user did enter a non number until he enters a number.\n",
    "    \"\"\"\n",
    "    while True:\n",
    "        try: \n",
    "            num = int(input('give a number: '))\n",
    "            break\n",
    "        except ValueError:\n",
    "            print('this wasn\\'t a number!')\n",
    "    return num\n",
    "    \n",
    "print(f'User inputted {ask_for_number()}.')\n",
    "    "
   ]
  },
  {
   "cell_type": "markdown",
   "id": "33b2df68",
   "metadata": {},
   "source": [
    "The trick here are the two lines in the ``try`` block: We first try to convert the entered string into an integer. If that works, the next line (``break``) is executed, ending the loop. The converted value is returned. But if something goes wrong during the conversion, Python throws a `ValueError`, which we catch with ``catch`` and output a corresponding message. Since there is no ``break`` in the ``catch`` block, and the ``break`` in the ``try`` block is not reached because of the exception, the user will be prompted again on the next iteration of the loop."
   ]
  },
  {
   "cell_type": "markdown",
   "id": "4704e0da",
   "metadata": {},
   "source": [
    "### Use the type hierarchy\n",
    "\n",
    "Let's get the penultimate example again in a somewhat simplified form:"
   ]
  },
  {
   "cell_type": "code",
   "execution_count": null,
   "id": "ca06600f",
   "metadata": {},
   "outputs": [],
   "source": [
    "divisor = int(input('Divisor: '))\n",
    "try:\n",
    "    print(6543 / divisor)\n",
    "except ZeroDivisionError:\n",
    "    print('there was an error with the division')\n",
    "print(\"the program will end normally.\")       "
   ]
  },
  {
   "cell_type": "markdown",
   "id": "f924768a",
   "metadata": {},
   "source": [
    "Here we have defined a `catch` block for the `ZeroDivisionError`. Alternatively, we could have gone higher in the exception hierarchy: If we catch all `ArithmeticError`, then the `ZeroDivisionError` is also covered. Enter `0` when running the following code cell:"
   ]
  },
  {
   "cell_type": "code",
   "execution_count": null,
   "id": "1f734dd1",
   "metadata": {},
   "outputs": [],
   "source": [
    "divisor = int(input('Divisor: '))\n",
    "try:\n",
    "     print(6543 / divisor)\n",
    "except ArithmeticError:\n",
    "     print('there was an error with the division')\n",
    "print(\"the program will end normally.\")"
   ]
  },
  {
   "cell_type": "markdown",
   "id": "60c0d9df",
   "metadata": {},
   "source": [
    "In principle, this would also work:"
   ]
  },
  {
   "cell_type": "code",
   "execution_count": null,
   "id": "7c586e7b",
   "metadata": {},
   "outputs": [],
   "source": [
    "divisor = int(input('Divisor: '))\n",
    "\n",
    "try:\n",
    "     print(6543 / divisor)\n",
    "except Exception:\n",
    "     print('there was an error with the division')\n",
    "print(\"the program will end normally.\")"
   ]
  },
  {
   "cell_type": "markdown",
   "id": "be5f3eb9",
   "metadata": {},
   "source": [
    "However, here we again have a similar problem as at the very beginning when we did not specify an exception type in `catch`: When we catch `exception`, we are responding to the majority of Python error types, making our debugging lives unnecessarily difficult."
   ]
  },
  {
   "cell_type": "markdown",
   "id": "3aa287cb",
   "metadata": {},
   "source": [
    "On the other hand, if we enter a non-number (e.g. 'abc'), the program is still aborted because the conversion to int is outside the ``try`` block."
   ]
  },
  {
   "cell_type": "markdown",
   "id": "0de5a7ef",
   "metadata": {},
   "source": [
    "<div class=\"alert alert-block alert-info\">\n",
    "<b>Exercise Exception-1</b>\n",
    "<p>Run the code cell immediately below and instead of a number, enter the string 'abc'. The program is aborted with an error message. Rewrite the code so that this error is also handled cleanly in the program and the program is thus terminated cleanly.</p>\n",
    "</div>"
   ]
  },
  {
   "cell_type": "code",
   "execution_count": null,
   "id": "edb04335",
   "metadata": {},
   "outputs": [],
   "source": [
    "divisor = int(input('Enter a divisor '))\n",
    "try:\n",
    "    result = 8374949 / divisor\n",
    "    print('Result: {}'.format(result))\n",
    "except (ZeroDivisionError):\n",
    "    print('there was an eroor with the division.')\n",
    "print(\"the program will end normally.\")"
   ]
  },
  {
   "cell_type": "markdown",
   "id": "fccf6f0d",
   "metadata": {},
   "source": [
    "### finally\n",
    "\n",
    "If we want to execute a code fragment in any case, i.e. regardless of whether an error occurred or not, we can define a `finally` block. This makes sense for example if we want to release any resources like filehandles.\n",
    "\n",
    "~~~\n",
    "try:\n",
    "    f = open('data.txt')\n",
    "    # make some computations on data\n",
    "except ZeroDivisionError:\n",
    "    print('Warning: Division by Zero in data.txt')\n",
    "finally:\n",
    "    f.close()\n",
    "    \n",
    "~~~"
   ]
  },
  {
   "cell_type": "markdown",
   "id": "9300b377",
   "metadata": {},
   "source": [
    "## Exceptions travel through the stack\n",
    "\n",
    "A big advantage of exceptions is that we don't necessarily have to catch them where they occur, because they are passed through the program hierarchy until they are handled somewhere (or not, which then leads to program termination). To illustrate, let's write a function that asks the user for a number. Here we must consider that the user could enter something that is not interpretable as a number. In this case, calling the function `int()` (line 3) would raise a `ValueError`:"
   ]
  },
  {
   "cell_type": "code",
   "execution_count": null,
   "id": "9e4eeb5a",
   "metadata": {},
   "outputs": [],
   "source": [
    "def ask_for_int(msg):\n",
    "    try:\n",
    "        return int(input('{}: '.format(msg)))\n",
    "    except ValueError:\n",
    "        print('this wasn\\t a number!')\n",
    "        return ask_for_int(msg) # Run function again\n",
    "\n",
    "\n",
    "print(6543 / ask_for_int('give in a divisor'))"
   ]
  },
  {
   "cell_type": "markdown",
   "id": "34d1320a",
   "metadata": {},
   "source": [
    "We have caught the exception on the spot (namely in the function). Just by the way: in the `catch` block, we call out of the function, the function again until there is a usable input. This is called recursion."
   ]
  },
  {
   "cell_type": "markdown",
   "id": "35367100",
   "metadata": {},
   "source": [
    "However, since exceptions are passed through the stack, we could catch the exception outside the function (e.g., at a central location in the progrmam). Here is a corresponding example:,"
   ]
  },
  {
   "cell_type": "code",
   "execution_count": null,
   "id": "0e96af43",
   "metadata": {},
   "outputs": [],
   "source": [
    "def ask_for_int(msg):\n",
    "    return int(input('{}: '.format(msg)))\n",
    "\n",
    "try:\n",
    "    print(6543 / ask_for_int('Enter a divisor'))\n",
    "except ValueError:\n",
    "    print('this was not a number!')"
   ]
  },
  {
   "cell_type": "markdown",
   "id": "c269e2c4",
   "metadata": {},
   "source": [
    "Small digression: If you want to have a new output here (like in the other example) you can solve this with a `while` loop:"
   ]
  },
  {
   "cell_type": "code",
   "execution_count": null,
   "id": "ee34fb77",
   "metadata": {},
   "outputs": [],
   "source": [
    "def ask_for_int(msg):\n",
    "    return int(input('{}: '.format(msg)))\n",
    "\n",
    "while True:\n",
    "    try:\n",
    "        print(6543 / ask_for_int('Enter a divisor'))\n",
    "        break\n",
    "    except ValueError:\n",
    "        print('this was not a number!')"
   ]
  },
  {
   "cell_type": "markdown",
   "id": "21773e76",
   "metadata": {},
   "source": [
    "<b>Digression</b> : The while loop will run as long as the conditional expression evaluates to `True`.\n",
    "\n",
    "Since `True` always evaluates to `True`, the loop will run indefinitely, until something within the loop returns or breaks.\n",
    "\n"
   ]
  },
  {
   "cell_type": "markdown",
   "id": "d0754e12",
   "metadata": {},
   "source": [
    "## Accessing exception objects\n",
    "When an exception occurs, Python creates an exception object which, as we have seen, is passed through. If needed, we can even examine this object in more detail or use it further in the `catch` block."
   ]
  },
  {
   "cell_type": "code",
   "execution_count": null,
   "id": "e5c5de63",
   "metadata": {},
   "outputs": [],
   "source": [
    "def ask_for_int(msg):\n",
    "    return int(input('{}: '.format(msg)))\n",
    "\n",
    "try:\n",
    "    print(6543 / ask_for_int('enter divisor'))\n",
    "except ValueError as exp:\n",
    "    print('i can only devide numbers!')\n",
    "    print(f'the problem was: {exp.args}')"
   ]
  },
  {
   "cell_type": "markdown",
   "id": "884b61e0",
   "metadata": {},
   "source": [
    "Via `as` we have stored the exception object in a variable `exp` and use this in line 8 to extract and output the original error message."
   ]
  },
  {
   "cell_type": "markdown",
   "id": "618ce5e6",
   "metadata": {},
   "source": [
    "## Throw exceptions\n",
    "We can even throw exceptions ourselves if needed."
   ]
  },
  {
   "cell_type": "code",
   "execution_count": null,
   "id": "1ef88f1c",
   "metadata": {},
   "outputs": [],
   "source": [
    "def ask_for_int(msg):\n",
    "    return int(input('{}: '.format(msg)))\n",
    "\n",
    "try:\n",
    "    print(6543 / ask_for_int('enter a number: '))\n",
    "except ValueError as exp:\n",
    "    print('there was an error: inavlid input')\n",
    "    raise exp"
   ]
  },
  {
   "cell_type": "markdown",
   "id": "06cb3204",
   "metadata": {},
   "source": [
    "Here, as before, we have stored the Exception object in a variable. In the `catch` block we first printed a message and then re-throw the original error. This can be useful if we need to do something on the spot, but the actual exception handling takes place elsewhere."
   ]
  },
  {
   "cell_type": "markdown",
   "id": "c0bf5448",
   "metadata": {},
   "source": [
    "Experience has shown that you need the option of throwing an exception yourself more often:\n",
    "\n"
   ]
  },
  {
   "cell_type": "code",
   "execution_count": null,
   "id": "510fe0f1",
   "metadata": {},
   "outputs": [],
   "source": [
    "def ask_for_int(msg):\n",
    "    return int(input('{}: '.format(msg)))\n",
    "\n",
    "grade = ask_for_int('enter a grade: ')\n",
    "if grade < 1 or grade > 5:\n",
    "    raise ValueError(\"Input must be 1, 2, 3, 4 or 5!\")"
   ]
  },
  {
   "cell_type": "markdown",
   "id": "2936c287",
   "metadata": {},
   "source": [
    "## Define your own exceptions\n",
    "\n",
    "In larger projects it is sometimes useful to define your own exceptions or even entire exception hierarchies in order to be able to react specifically to such exceptions."
   ]
  },
  {
   "cell_type": "code",
   "execution_count": null,
   "id": "1b9ae0df",
   "metadata": {},
   "outputs": [],
   "source": [
    "class MyAppException(Exception): pass\n",
    "class MyAppWarning(MyAppException): pass\n",
    "class MyAppError(MyAppException): pass\n",
    "class GradeValueException(MyAppError): pass"
   ]
  },
  {
   "cell_type": "markdown",
   "id": "5e1a3d7c",
   "metadata": {},
   "source": [
    "With that, we have defined our own exception hierarchy:\n",
    "\n",
    "~~~\n",
    "exception\n",
    "|---- MyAppException\n",
    "       | ---- MyAppWarning\n",
    "       | ---- MyAppError\n",
    "              | ---- GradeValueException\n",
    "~~~\n",
    "\n",
    "Depending on what is needed, we can react here, for example, to all subtypes of `MyAppException` or to all `MyAppWarnings` or `MyAppErrors` or specifically to a `GradeValueException`."
   ]
  },
  {
   "cell_type": "markdown",
   "id": "4a28489e",
   "metadata": {},
   "source": [
    "## In-depth literature\n",
    "I highly recommend reading at least one of the following resources for more in-depth knowledge!\n",
    "\n",
    "   * PythonTutorials:\n",
    "* Chapter 8\n",
    "* http://docs.python.org/3/tutorial/errors.html\n",
    "   * Small, Course:\n",
    "      (https://www.diveinto.org/python3/your-first-python-program.html#exceptions)\n",
    "   * Pilgrim: Chapter 1.7:\n",
    "     (https://www.diveinto.org/python3/your-first-python-program.html#exceptions)"
   ]
  },
  {
   "cell_type": "code",
   "execution_count": null,
   "id": "0fd73eeb",
   "metadata": {},
   "outputs": [],
   "source": []
  }
 ],
 "metadata": {
  "kernelspec": {
   "display_name": "Python 3 (ipykernel)",
   "language": "python",
   "name": "python3"
  },
  "language_info": {
   "codemirror_mode": {
    "name": "ipython",
    "version": 3
   },
   "file_extension": ".py",
   "mimetype": "text/x-python",
   "name": "python",
   "nbconvert_exporter": "python",
   "pygments_lexer": "ipython3",
   "version": "3.9.7"
  }
 },
 "nbformat": 4,
 "nbformat_minor": 5
}
