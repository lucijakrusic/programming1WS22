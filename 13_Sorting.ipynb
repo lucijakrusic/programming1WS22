{
 "cells": [
  {
   "cell_type": "markdown",
   "id": "42825194",
   "metadata": {},
   "source": [
    "# Sort\n",
    "Lists (and some other data types - but here the result of the sort is always returned as a list) can be sorted in a simple way. In order to have data for sorting, we again read in the already repeatedly used\n",
    "first names:"
   ]
  },
  {
   "cell_type": "code",
   "execution_count": null,
   "id": "96f65e0a",
   "metadata": {},
   "outputs": [],
   "source": [
    "with open('data/names/names_short.txt', encoding='utf-8') as fh:\n",
    "    clean_names = [line.rstrip() for line in fh.readlines()]"
   ]
  },
  {
   "cell_type": "markdown",
   "id": "b5113386",
   "metadata": {},
   "source": [
    "## sort()\n",
    "To sort the names, we apply the `sort()` method of the `list` object:"
   ]
  },
  {
   "cell_type": "code",
   "execution_count": null,
   "id": "6d18a935",
   "metadata": {},
   "outputs": [],
   "source": [
    "print(clean_names)\n",
    "clean_names.sort()\n",
    "print(clean_names)"
   ]
  },
  {
   "cell_type": "markdown",
   "id": "ed30239f",
   "metadata": {},
   "source": [
    "We see that `sort()` sorts a list *in-place*, it changes the positions of the values within the\n",
    "list, i.e. the list itself is changed. If we don't want this (for example, because we still need the original order), we can alternatively use the function `sorted()`, which creates a new sorted list, not changing the element order of the original list."
   ]
  },
  {
   "cell_type": "markdown",
   "id": "e68db827",
   "metadata": {},
   "source": [
    "## sorted()\n",
    "`sorted()` behaves much like `sort()`, but creates a new list object with the sorted entries.\n",
    "\n",
    "(Since we have already sorted `clean_names`, we first read the data again):"
   ]
  },
  {
   "cell_type": "code",
   "execution_count": null,
   "id": "513f8309",
   "metadata": {},
   "outputs": [],
   "source": [
    "with open('data/names/names_short.txt', encoding='utf-8') as fh:\n",
    "    clean_names = [line.rstrip() for line in fh.readlines()]\n",
    "sorted_names = sorted(clean_names)\n",
    "print(clean_names[:10])\n",
    "print(sorted_names[:10])"
   ]
  },
  {
   "cell_type": "markdown",
   "id": "9c7e53f5",
   "metadata": {},
   "source": [
    "The `sort()` method must be provided by the data type whose method it is. Of the types presented so far, only `list` has such a method. The function `sorted()`, on the other hand, can be applied to all `iterables`. Here first an example with a set:"
   ]
  },
  {
   "cell_type": "code",
   "execution_count": null,
   "id": "827d013c",
   "metadata": {},
   "outputs": [],
   "source": [
    "distinct_names = set(clean_names)\n",
    "print(type(distinct_names))\n",
    "sorted_distinct_names = sorted(distinct_names)\n",
    "print(sorted_distinct_names[:10])\n",
    "print(type(sorted_distinct_names))"
   ]
  },
  {
   "cell_type": "markdown",
   "id": "62a83952",
   "metadata": {},
   "source": [
    "As we can see, `sorted()` here returns a sorted list of the elements of the set. The result returned by `sorted()` is always a list, regardless of the data type being sorted."
   ]
  },
  {
   "cell_type": "markdown",
   "id": "5f53a3cb",
   "metadata": {},
   "source": [
    "To illustrate this, here is another example with a dictionary:"
   ]
  },
  {
   "cell_type": "code",
   "execution_count": null,
   "id": "91507b26",
   "metadata": {},
   "outputs": [],
   "source": [
    "mydict = {'X': 4, 'A': 3}\n",
    "mydict"
   ]
  },
  {
   "cell_type": "code",
   "execution_count": null,
   "id": "ec094e36",
   "metadata": {},
   "outputs": [],
   "source": [
    "sorted(mydict)"
   ]
  },
  {
   "cell_type": "markdown",
   "id": "285ba1a6",
   "metadata": {},
   "source": [
    "So here the keys are sorted. We get a sorted list of values like this:"
   ]
  },
  {
   "cell_type": "code",
   "execution_count": null,
   "id": "8215280b",
   "metadata": {},
   "outputs": [],
   "source": [
    "sorted(mydict.values())"
   ]
  },
  {
   "cell_type": "markdown",
   "id": "a78c1575",
   "metadata": {},
   "source": [
    "Using the method `items()` we get a sorted list of tuples, each containing the Key and the Value from the Dictionary:"
   ]
  },
  {
   "cell_type": "code",
   "execution_count": null,
   "id": "855a4359",
   "metadata": {},
   "outputs": [],
   "source": [
    "sorted(mydict.items())"
   ]
  },
  {
   "cell_type": "markdown",
   "id": "08af175c",
   "metadata": {},
   "source": [
    "## Reverse sort order\n",
    "\n",
    "Both `sort()` and `sorted()` have the `reverse` parameter. If this is set to `True`, the sort order will be reversed.\n"
   ]
  },
  {
   "cell_type": "code",
   "execution_count": null,
   "id": "7660f934",
   "metadata": {},
   "outputs": [],
   "source": [
    "sorted(clean_names, reverse=True)"
   ]
  },
  {
   "cell_type": "markdown",
   "id": "2b7105ad",
   "metadata": {},
   "source": [
    "## Sorting of more complex data\n",
    "\n",
    "As long as a list consists only of single values, sorting is easy. But what if we want to sort a list of lists or a list of tuples? Let's remember the example with the temperature measurements in the notebook to the lists:"
   ]
  },
  {
   "cell_type": "code",
   "execution_count": null,
   "id": "6847186b",
   "metadata": {},
   "outputs": [],
   "source": [
    "temperatures = [\n",
    "    (20, 35, 29),\n",
    "    (17, 28, 24),\n",
    "    (20, 32, 29),\n",
    "    (17, 31, 28)\n",
    "]\n",
    "sorted(temperatures)"
   ]
  },
  {
   "cell_type": "markdown",
   "id": "b5324404",
   "metadata": {},
   "source": [
    "Here we see that lists of tuples are sorted first by the value of the first element (17, 17, 20, 20), then as an additional sorting criterion by the value of the second element, and so on."
   ]
  },
  {
   "cell_type": "markdown",
   "id": "de78efe9",
   "metadata": {},
   "source": [
    "### Do not sort by the first element\n",
    "But what if we don't want to sort by morning temperatures, but by noon temperatures?\n",
    "\n",
    "This is where things get a bit more complicated. Both `sort()` and `sorted()` have a parameter `key=`, which expects as argument a function that returns the value to sort by. "
   ]
  },
  {
   "cell_type": "code",
   "execution_count": null,
   "id": "564683c9",
   "metadata": {},
   "outputs": [],
   "source": [
    "def get_noon_temperature(day_temperatures):\n",
    "    \"Return the noon temperature\"\n",
    "    return day_temperatures[1]\n",
    "\n",
    "sorted(temperatures, key=get_noon_temperature)"
   ]
  },
  {
   "cell_type": "markdown",
   "id": "99459e8e",
   "metadata": {},
   "source": [
    "You can see that here the daily measurements have been sorted by noon temperatures: 28, 31, 32, 35."
   ]
  },
  {
   "cell_type": "markdown",
   "id": "92de6fcd",
   "metadata": {},
   "source": [
    "Since in our case this function does nothing but return the second value of each tuple, we do not need to write our own function, but can make do with a lambda expression. "
   ]
  },
  {
   "cell_type": "markdown",
   "id": "a66ebd7f",
   "metadata": {},
   "source": [
    "#### Digression: Lamba Expressions\n",
    "\n",
    "A lambda expression is a kind of simple and anonymous function and has this form:\n",
    "\n",
    "~~~\n",
    "lambda argument[, argument]: action\n",
    "~~~\n",
    "\n",
    "~~~\n",
    "lambda mytuple: mytuple[1].\n",
    "~~~\n",
    "\n",
    "thus does nothing but pass a tuple (`mytuple`) to the lambda expression, which returns the second value of the tuple.\n",
    "\n",
    "To sort the by noon temperatures, we can replace the function used above with a lambda expression that returns the second value of each tuple:"
   ]
  },
  {
   "cell_type": "code",
   "execution_count": null,
   "id": "3a06bca6",
   "metadata": {},
   "outputs": [],
   "source": [
    "sorted(temperatures, key=lambda temperature: temperature[1])"
   ]
  },
  {
   "cell_type": "markdown",
   "id": "d9e0f1df",
   "metadata": {},
   "source": [
    "<div class=\"alert alert-block alert-info\">\n",
    "<b>Exercise Sort-1</b>\n",
    "<p>Sort the temperatures by the evening values!\n",
    "</div>"
   ]
  },
  {
   "cell_type": "code",
   "execution_count": null,
   "id": "dbe23e4f",
   "metadata": {},
   "outputs": [],
   "source": []
  },
  {
   "cell_type": "markdown",
   "id": "78fbdc23",
   "metadata": {},
   "source": [
    "<div class=\"alert alert-block alert-info\">\n",
    "<b>Exercise Sort-2</b>\n",
    "<p>Sort the temperatures according to the morning values as the primary sorting criterion and the evening values as the secondary sorting criterion! I.e.: If two morning temperatures are the same, they should be sorted according to the evening temperatures.</p>\n",
    "<p>Hint: To do this, have the lambda expression return a tuple of two integers instead of an integer.\n",
    "</div>"
   ]
  },
  {
   "cell_type": "code",
   "execution_count": null,
   "id": "28607aec",
   "metadata": {},
   "outputs": [],
   "source": []
  },
  {
   "cell_type": "markdown",
   "id": "5c838ebe",
   "metadata": {},
   "source": [
    "### Sort dictionaries\n",
    "\n",
    "Let's recall the dictionary for counting first names from the Notebook on Dictionaries. This contains the names as keys and the number of occurrences of the name as value."
   ]
  },
  {
   "cell_type": "code",
   "execution_count": null,
   "id": "4c11e8e9",
   "metadata": {},
   "outputs": [],
   "source": [
    "with open('data/names/names_short.txt', encoding='utf-8') as fh:\n",
    "    clean_names = [line.rstrip() for line in fh.readlines()]\n",
    "\n",
    "name_counter = {}\n",
    "for name in clean_names:\n",
    "    name_counter[name] = name_counter.get(name, 0) + 1\n",
    "print(name_counter)"
   ]
  },
  {
   "cell_type": "markdown",
   "id": "3f089c0a",
   "metadata": {},
   "source": [
    "The variable `name_counter` now contains for each name (key) how often it occurs (value)."
   ]
  },
  {
   "cell_type": "markdown",
   "id": "f0dcbcda",
   "metadata": {},
   "source": [
    "We can't sort dictionaries directly because they don't have a `sort()` method. However, as already known, we can have the keys and values of the dictionary delivered as a kind of list of tuples:"
   ]
  },
  {
   "cell_type": "code",
   "execution_count": null,
   "id": "6c9662b4",
   "metadata": {},
   "outputs": [],
   "source": [
    "name_counter.items()"
   ]
  },
  {
   "cell_type": "markdown",
   "id": "25502a1a",
   "metadata": {},
   "source": [
    "With this information, the next two tasks should be easy to solve:"
   ]
  },
  {
   "cell_type": "markdown",
   "id": "99ec7616",
   "metadata": {},
   "source": [
    "<div class=\"alert alert-block alert-info\">\n",
    "<b>Exercise Sort-3</b>\n",
    "<p>Sort the <tt>name_counter</tt> dictionary so that names (and the number of occurrences of that name) are returned sorted by name.\n",
    "The output should look like this:\n",
    "<pre>\n",
    "Anna: 3\n",
    "Anna-Lena: 1\n",
    "Astrid: 1\n",
    "Bianca: 1\n",
    "...\n",
    "</pre>\n",
    "</div>"
   ]
  },
  {
   "cell_type": "code",
   "execution_count": null,
   "id": "33833ab2",
   "metadata": {},
   "outputs": [],
   "source": []
  },
  {
   "cell_type": "markdown",
   "id": "c407bc00",
   "metadata": {},
   "source": [
    "<div class=\"alert alert-block alert-info\">\n",
    "<b>Exercise Sort-4</b>\n",
    "<p>Sort the <tt>name_counter</tt> dictionary to return the occurrence count and names. The sorting should be in descending order (highest value first) according to the number of occurrences.\n",
    "The output should look like this:\n",
    "<pre>\n",
    "4: Thomas\n",
    "4: Manuel\n",
    "3: Florian\n",
    "3: Christopher\n",
    "3: Anna\n",
    "2: Verena\n",
    "2: Simon\n",
    "...\n",
    "</pre>\n",
    "</div>"
   ]
  },
  {
   "cell_type": "code",
   "execution_count": null,
   "id": "ca57949f",
   "metadata": {},
   "outputs": [],
   "source": []
  }
 ],
 "metadata": {
  "kernelspec": {
   "display_name": "Python 3 (ipykernel)",
   "language": "python",
   "name": "python3"
  },
  "language_info": {
   "codemirror_mode": {
    "name": "ipython",
    "version": 3
   },
   "file_extension": ".py",
   "mimetype": "text/x-python",
   "name": "python",
   "nbconvert_exporter": "python",
   "pygments_lexer": "ipython3",
   "version": "3.9.7"
  }
 },
 "nbformat": 4,
 "nbformat_minor": 5
}
