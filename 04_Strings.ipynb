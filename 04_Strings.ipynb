{
 "cells": [
  {
   "cell_type": "markdown",
   "id": "81ab44ba",
   "metadata": {},
   "source": [
    "## Strings are sequences of characters\n",
    "\n",
    "*Strings* or *character strings* consist of single characters in a certain sequence. \n",
    "Python knows a number of such data types, where multiple elements are stored in a particular sequence. Such data types are called *sequence types* and can all be used in a similar way in Python. Many of the functions and methods we will learn about in connection with strings can later be applied to other sequence types. These are:\n",
    "\n",
    "* Strings\n",
    "* bytes\n",
    "* byte arrays\n",
    "* lists\n",
    "* tuples\n",
    "\n",
    "But some things are also applicable to other data structures like dictionaries or sets."
   ]
  },
  {
   "cell_type": "code",
   "execution_count": null,
   "id": "e30988c2",
   "metadata": {},
   "outputs": [],
   "source": [
    "from IPython.display import Image\n",
    "Image(\"img/Python-data-structure.jpg\")"
   ]
  },
  {
   "cell_type": "markdown",
   "id": "dbf493df",
   "metadata": {},
   "source": [
    "But let's start with a first sequence type: strings.\n",
    "\n",
    "Strings are ordered sequences of characters. \n",
    "\n",
    "![string1.png](img/string1.png)\n",
    "\n",
    "A string is created by enclosing a value in quotes (whether single or double):\n",
    "\n",
    "~~~\n",
    "name = 'Santa Claus'\n",
    "name = \"Santa Claus\"\n",
    "~~~\n",
    "\n",
    "We have already learned this and other basics about strings in the notebook on data types."
   ]
  },
  {
   "cell_type": "markdown",
   "id": "67e22073",
   "metadata": {},
   "source": [
    "### Determine the length of the sequence\n",
    "The number of elements in the sequence (i.e. the number of characters in the string) can be determined with the function `len()`:"
   ]
  },
  {
   "cell_type": "code",
   "execution_count": null,
   "id": "98c66df5",
   "metadata": {},
   "outputs": [],
   "source": [
    "sentence = 'A string is a chain of characters.'\n",
    "len(sentence)"
   ]
  },
  {
   "cell_type": "markdown",
   "id": "2987d0fa",
   "metadata": {},
   "source": [
    "### Addressing individual elements\n",
    "Each element in the sequence can be addressed individually by its position:\n",
    "\n",
    "![String2.png](img/string2.png)\n",
    "\n",
    "Note that the first element of the sequence has index 0!"
   ]
  },
  {
   "cell_type": "code",
   "execution_count": null,
   "id": "434268d3",
   "metadata": {},
   "outputs": [],
   "source": [
    "# For the following examples a short string is clearer\n",
    "sentence = \"A string\"\n",
    "sentence[0]"
   ]
  },
  {
   "cell_type": "markdown",
   "id": "a824b6d3",
   "metadata": {},
   "source": [
    "<div class=\"alert alert-block alert-info\">\n",
    "<b>Exercise 1</b>\n",
    "    \n",
    "\n",
    "Try to address more characters from the string in the code cell above. For example, output the element with index 3. You will see that a space is a normal character in the string.\n",
    "\n",
    "</div>"
   ]
  },
  {
   "cell_type": "code",
   "execution_count": null,
   "id": "24916d13",
   "metadata": {},
   "outputs": [],
   "source": []
  },
  {
   "cell_type": "markdown",
   "id": "230f6ec6",
   "metadata": {},
   "source": [
    "<div class=\"alert alert-block alert-info\">\n",
    "<b>Exercise 2</b>\n",
    "    \n",
    "What happens if we try to access `sentence[10]` (a non-existing character)?\n",
    "\n",
    "</div>\n",
    "\n"
   ]
  },
  {
   "cell_type": "code",
   "execution_count": null,
   "id": "dd684f42",
   "metadata": {},
   "outputs": [],
   "source": [
    "sentence[10]"
   ]
  },
  {
   "cell_type": "markdown",
   "id": "7115a92b",
   "metadata": {},
   "source": [
    "### Negative index numbers\n",
    "Python has a nice feature that has since been adopted by other languages: You can use negative index numbers to move from right to left in the sequence. `-1` is the last element,\n",
    "`-2` the last second to last and so on.\n",
    "\n",
    "![String2.png](img/string3.png)"
   ]
  },
  {
   "cell_type": "code",
   "execution_count": null,
   "id": "29d666b5",
   "metadata": {},
   "outputs": [],
   "source": [
    "sentence[-1]"
   ]
  },
  {
   "cell_type": "markdown",
   "id": "77f94dc2",
   "metadata": {},
   "source": [
    "Without the negative indexing we would always have to determine the length of the string first and calculate the index of the last element starting from this value:"
   ]
  },
  {
   "cell_type": "code",
   "execution_count": null,
   "id": "5b65755b",
   "metadata": {},
   "outputs": [],
   "source": [
    "sentence[len(sentence)-1]"
   ]
  },
  {
   "cell_type": "markdown",
   "id": "0af8163c",
   "metadata": {},
   "source": [
    "So,  ``sentence[-1]`` is easier to use."
   ]
  },
  {
   "cell_type": "markdown",
   "id": "253ce87b",
   "metadata": {},
   "source": [
    "<div class=\"alert alert-block alert-info\">\n",
    "<b>Exercise 3</b>\n",
    "<p>\n",
    "Experiment with different index values.\n",
    "</p>\n",
    "</div>"
   ]
  },
  {
   "cell_type": "code",
   "execution_count": null,
   "id": "3ca5447a",
   "metadata": {},
   "outputs": [],
   "source": []
  },
  {
   "cell_type": "markdown",
   "id": "ba01563b",
   "metadata": {},
   "source": [
    "### Slicing: Cutting out a substring\n",
    "By specifying two values separated by a colon (index of the first element to be sliced out and the first element that is no longer to be sliced out), you can extract a substring from a string:\n",
    "\n",
    "![string4.png](img/string4.png)"
   ]
  },
  {
   "cell_type": "code",
   "execution_count": null,
   "id": "bd2e7b62",
   "metadata": {},
   "outputs": [],
   "source": [
    "sentence[0:3]"
   ]
  },
  {
   "cell_type": "markdown",
   "id": "ce0a5daf",
   "metadata": {},
   "source": [
    "If the first value is `0`, it can be omitted:"
   ]
  },
  {
   "cell_type": "code",
   "execution_count": null,
   "id": "749a60c7",
   "metadata": {},
   "outputs": [],
   "source": [
    "sentence[:3]"
   ]
  },
  {
   "cell_type": "markdown",
   "id": "9222fd43",
   "metadata": {},
   "source": [
    "If the second value is omitted, it is equivalent to \"to the end of the string\":"
   ]
  },
  {
   "cell_type": "code",
   "execution_count": null,
   "id": "9ecad75f",
   "metadata": {},
   "outputs": [],
   "source": [
    "sentence[3:]"
   ]
  },
  {
   "cell_type": "markdown",
   "id": "010063fe",
   "metadata": {},
   "source": [
    "<div class=\"alert alert-block alert-info\">\n",
    "<b>Exercise 4</b>\n",
    "    \n",
    "<p>\n",
    "Slice the <tt>sentence</tt> in a way that the result is <tt>stri</tt>.\n",
    "</p>\n",
    "</div>"
   ]
  },
  {
   "cell_type": "code",
   "execution_count": null,
   "id": "7aa185d6",
   "metadata": {},
   "outputs": [],
   "source": [
    "sentence[2:6]"
   ]
  },
  {
   "cell_type": "markdown",
   "id": "9971a5b7",
   "metadata": {},
   "source": [
    "Slicing also works with negative index values:"
   ]
  },
  {
   "cell_type": "code",
   "execution_count": null,
   "id": "de1dcbc6",
   "metadata": {},
   "outputs": [],
   "source": [
    "sentence[-4:]"
   ]
  },
  {
   "cell_type": "markdown",
   "id": "b2533a86",
   "metadata": {},
   "source": [
    "<div class=\"alert alert-block alert-info\">\n",
    "<b>Exercise 5</b>\n",
    "    \n",
    "<p>\n",
    "Slice the <tt>sentence</tt>in a way that the result is <tt>stri</tt>.Use negative values.\n",
    "</p>\n",
    "</div>"
   ]
  },
  {
   "cell_type": "code",
   "execution_count": null,
   "id": "7d88bd81",
   "metadata": {},
   "outputs": [],
   "source": [
    "sentence[-6:-2]"
   ]
  },
  {
   "cell_type": "markdown",
   "id": "2c8c4386",
   "metadata": {},
   "source": [
    "Inside the square brackets there can be a third numeric value that defines the step size:"
   ]
  },
  {
   "cell_type": "code",
   "execution_count": null,
   "id": "72b6ecf6",
   "metadata": {},
   "outputs": [],
   "source": [
    "print(sentence)\n",
    "sentence[0:8:2]"
   ]
  },
  {
   "cell_type": "markdown",
   "id": "d7e5850e",
   "metadata": {},
   "source": [
    "If the third value is set to `2`, only every second character is taken into account, with `3` only every third character and so on."
   ]
  },
  {
   "cell_type": "markdown",
   "id": "d50896dd",
   "metadata": {},
   "source": [
    "This third value can also be negative, which reverses the direction. This makes it very easy to \"flip\" a string:"
   ]
  },
  {
   "cell_type": "code",
   "execution_count": null,
   "id": "1fc91e6e",
   "metadata": {},
   "outputs": [],
   "source": [
    "sentence[::-1]"
   ]
  },
  {
   "cell_type": "markdown",
   "id": "a7ca2939",
   "metadata": {},
   "source": [
    "## Strings are immutable\n",
    "\n",
    "Unlike other data types, which we will learn about a little later, once a string has been created, it cannot be changed afterwards. Every change leads to a new String object with a new Id."
   ]
  },
  {
   "cell_type": "code",
   "execution_count": null,
   "id": "8191ee03",
   "metadata": {},
   "outputs": [],
   "source": [
    "mystring = 'foo'\n",
    "print(id(mystring))\n",
    "mystring = 'bar'\n",
    "print(id(mystring))"
   ]
  },
  {
   "cell_type": "markdown",
   "id": "668ac439",
   "metadata": {},
   "source": [
    "Adding a character, for example, also results in a new object:"
   ]
  },
  {
   "cell_type": "code",
   "execution_count": null,
   "id": "c02929a4",
   "metadata": {},
   "outputs": [],
   "source": [
    "mystring = 'foo'\n",
    "print(id(mystring))\n",
    "mystring = mystring + 'x'\n",
    "print(id(mystring))"
   ]
  },
  {
   "cell_type": "markdown",
   "id": "ba723fad",
   "metadata": {},
   "source": [
    "## String methods\n",
    "\n",
    "The string data type (``str``) provides a set of methods (i.e., functionalities that can be applied to the string). As we will learn in the object orientation section, methods are functions bound to an object. For now, we just need to know how to call methods: you append -- separated by a period -- the name of the function to the value (or the variable referring to the value). Here is a simple example:"
   ]
  },
  {
   "cell_type": "code",
   "execution_count": null,
   "id": "42cb1194",
   "metadata": {},
   "outputs": [],
   "source": [
    "'abc'.upper()"
   ]
  },
  {
   "cell_type": "markdown",
   "id": "f1093de8",
   "metadata": {},
   "source": [
    "### upper() and lower()\n",
    "\n",
    "These two methods create a new string with all characters of the original string converted to upper and lower case respectively."
   ]
  },
  {
   "cell_type": "code",
   "execution_count": null,
   "id": "cd420c24",
   "metadata": {},
   "outputs": [],
   "source": [
    "sentence = 'I am a string'\n",
    "print(sentence.upper())\n",
    "print(sentence.lower())"
   ]
  },
  {
   "cell_type": "markdown",
   "id": "bc256de3",
   "metadata": {},
   "source": [
    "### replace()\n",
    "\n",
    "The `replace` method of a String object replaces all occurrences of a character (or substring) with another character (or substring). This is done by first specifying the substring to be replaced, and then the replacement: "
   ]
  },
  {
   "cell_type": "code",
   "execution_count": null,
   "id": "d4e22c71",
   "metadata": {},
   "outputs": [],
   "source": [
    "sentence = 'I am a string'\n",
    "sentence.replace('a', 'y')"
   ]
  },
  {
   "cell_type": "code",
   "execution_count": null,
   "id": "75a1dd8c",
   "metadata": {},
   "outputs": [],
   "source": [
    "'I am a string'.replace('a string', 'a cat')"
   ]
  },
  {
   "cell_type": "markdown",
   "id": "a81ba96a",
   "metadata": {},
   "source": [
    "### find()\n",
    "\n",
    "The find() method returns the position (index) of the first found occurrence of the searched character in the string."
   ]
  },
  {
   "cell_type": "code",
   "execution_count": null,
   "id": "38e4de69",
   "metadata": {},
   "outputs": [],
   "source": [
    "sentence = 'I am a string'\n",
    "sentence.find('I')"
   ]
  },
  {
   "cell_type": "markdown",
   "id": "11b32f89",
   "metadata": {},
   "source": [
    "`find()` also works with more than one character:"
   ]
  },
  {
   "cell_type": "code",
   "execution_count": null,
   "id": "84f8573e",
   "metadata": {},
   "outputs": [],
   "source": [
    "sentence.find('am')"
   ]
  },
  {
   "cell_type": "markdown",
   "id": "c34ebbb3",
   "metadata": {},
   "source": [
    "If the searched character or string is not found, `find()` returns `-1`:"
   ]
  },
  {
   "cell_type": "code",
   "execution_count": null,
   "id": "a7daf11b",
   "metadata": {},
   "outputs": [],
   "source": [
    "sentence.find('y')"
   ]
  },
  {
   "cell_type": "markdown",
   "id": "1a3766ea",
   "metadata": {},
   "source": [
    "The data type `str` knows many more methods, which we will get to know bit by bit."
   ]
  },
  {
   "cell_type": "markdown",
   "id": "b40c3c77",
   "metadata": {},
   "source": [
    "## String Formatting / String Templates\n",
    "Until now, if we wanted to print more than one value, we wrote the two values separated by a comma into the `print()` function:\n",
    "\n",
    "~~~\n",
    "print('foo', 'bar')\n",
    "~~~\n",
    "\n",
    "This is a pretty lousy trick (we actually created a tuple and printed it). Normally, you should use one of the methods presented below for such cases.\n",
    "\n",
    "Python knows several ways to include variables or expressions in a string."
   ]
  },
  {
   "cell_type": "markdown",
   "id": "586cf8e4",
   "metadata": {},
   "source": [
    "### f-Strings\n",
    "A relatively new, but recommended way of formatting strings since Python 3.6 are so-called f-strings (*formatted string literals*). (The examples therefore only work if you have at least Python version 3.6 installed). The great innovation here is that the variables or expressions can be written directly on the spot in the curly braces. f-Strings are indicated by a preceding `f`."
   ]
  },
  {
   "cell_type": "code",
   "execution_count": null,
   "id": "6d625fda",
   "metadata": {},
   "outputs": [],
   "source": [
    "name = input('Input your name: ')\n",
    "age = int(input('Input your age: '))\n",
    "print(f'Hi {name}. you are approximately {age * 365.25} days old.')"
   ]
  },
  {
   "cell_type": "markdown",
   "id": "7f4a2b26",
   "metadata": {},
   "source": [
    "A very detailed description of f-strings can be found at https://docs.python.org/3/reference/lexical_analysis.html#f-strings. However, since this may be too formal for beginners, you should google for 'python f-string'. You will find a number of simple introductions."
   ]
  },
  {
   "cell_type": "markdown",
   "id": "73fa41cb",
   "metadata": {},
   "source": [
    "### format()\n",
    "A somewhat older, but still much used type of string formatting is the string method `format()`. It is supported since Python 3.2. In the simplest form, each pair of curly braces is replaced by a value in the order of the arguments to `format()`:"
   ]
  },
  {
   "cell_type": "markdown",
   "id": "fd08af67",
   "metadata": {},
   "source": [
    "The parameters of the ``format()`` method can be:\n",
    "\n",
    "* Literals: ``\"=> {}\".format(\"Santa Claus\")` # Literals don't really make sense here.\n",
    "* Variable: ``\"=> {}\".format(name)`\n",
    "* Expressions: ``\"=> {}\".format(age * 365.25)``"
   ]
  },
  {
   "cell_type": "markdown",
   "id": "96ae2b23",
   "metadata": {},
   "source": [
    "The output can also be formatted, here for example we specify that the floating point number should be output with two decimal places:"
   ]
  },
  {
   "cell_type": "code",
   "execution_count": null,
   "id": "081ae9f3",
   "metadata": {},
   "outputs": [],
   "source": [
    "print(\"Hi {}! You are approx. {:.2f} days old.\".format(name, age * 365.25))"
   ]
  },
  {
   "cell_type": "markdown",
   "id": "96c2ebb3",
   "metadata": {},
   "source": [
    "If needed, you can find all formatting options here: https://docs.python.org/3/library/string.html#formatstrings"
   ]
  },
  {
   "cell_type": "markdown",
   "id": "99962fb3",
   "metadata": {},
   "source": [
    "### Formatting via the % operator\n",
    "\n",
    "The oldest kind of string formatting works, as in other languages, via the `%` operator. This type is still widely used, but is no longer recommended.\n",
    "Here, `%s` stands as a placeholder for a string, `%d` as a placeholder for an integer, and `%f` for a float:"
   ]
  },
  {
   "cell_type": "code",
   "execution_count": null,
   "id": "f3de1342",
   "metadata": {},
   "outputs": [],
   "source": [
    "print('Hi %s! You are approx. %f days old!' % (name, age * 365.25))"
   ]
  },
  {
   "cell_type": "markdown",
   "id": "e7d7381f",
   "metadata": {},
   "source": [
    "<div class=\"alert alert-block alert-info\">\n",
    "<b>Exercise 6</b>\n",
    "    \n",
    "<p>\n",
    "Write a program that: \n",
    "<ol>\n",
    "\n",
    "<li>Prompts for the input of a name </li>\n",
    "<li>Assigns this input to a variable </li>\n",
    "<li>Generates the following output: </li>\n",
    "    </ol>\n",
    "<pre>Your name is XYZ and consists of n characters.\n",
    "It starts with X and ends with Z. \n",
    "Read from behind it is ZYX.</pre>\n",
    "\n",
    "</p>\n",
    "</div>"
   ]
  },
  {
   "cell_type": "code",
   "execution_count": null,
   "id": "172d9057",
   "metadata": {},
   "outputs": [],
   "source": []
  }
 ],
 "metadata": {
  "kernelspec": {
   "display_name": "Python 3 (ipykernel)",
   "language": "python",
   "name": "python3"
  },
  "language_info": {
   "codemirror_mode": {
    "name": "ipython",
    "version": 3
   },
   "file_extension": ".py",
   "mimetype": "text/x-python",
   "name": "python",
   "nbconvert_exporter": "python",
   "pygments_lexer": "ipython3",
   "version": "3.9.7"
  }
 },
 "nbformat": 4,
 "nbformat_minor": 5
}
