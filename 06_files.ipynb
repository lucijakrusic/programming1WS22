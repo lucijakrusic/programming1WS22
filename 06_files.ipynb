{
 "cells": [
  {
   "cell_type": "markdown",
   "id": "ff5e944f",
   "metadata": {},
   "source": [
    "# Working with files\n",
    "\n",
    "Before a file can be read from or written to, it must be opened with the `open()` function. `open()` expects at least one argument: The name (possibly with path) of the file:"
   ]
  },
  {
   "cell_type": "code",
   "execution_count": null,
   "id": "125c30ee",
   "metadata": {},
   "outputs": [],
   "source": [
    "fh = open('data/names/names_short.txt')"
   ]
  },
  {
   "cell_type": "markdown",
   "id": "8eb779fd",
   "metadata": {},
   "source": [
    "If necessary (and generally recommended), the encoding of the file can be specified explicitly, if it is known:"
   ]
  },
  {
   "cell_type": "code",
   "execution_count": null,
   "id": "8e6cb43e",
   "metadata": {},
   "outputs": [],
   "source": [
    "fh = open('data/names/names_short.txt', encoding='utf-8')"
   ]
  },
  {
   "cell_type": "markdown",
   "id": "31fb2f97",
   "metadata": {},
   "source": [
    "Excursus on encoding: Encoding determines how a computer interprets bit sequences as characters.  We will cover this topic in more detail in one of the live sessions. For more in-depth coverage (or if you need to know on the spot), I recommend these texts:\n",
    "\n",
    "* https://www.joelonsoftware.com/2003/10/08/the-absolute-minimum-every-software-developer-absolutely-positively-must-know-about-unicode-and-character-sets-no-excuses/\n",
    "* https://docs.python.org/3/howto/unicode.html"
   ]
  },
  {
   "cell_type": "markdown",
   "id": "082d745a",
   "metadata": {},
   "source": [
    "When we don't need the file anymore, i.e. when we have read the file, it should be closed again so that the operating system can release the resource."
   ]
  },
  {
   "cell_type": "code",
   "execution_count": null,
   "id": "7c59c401",
   "metadata": {},
   "outputs": [],
   "source": [
    "fh.close()"
   ]
  },
  {
   "cell_type": "markdown",
   "id": "acb5a1da",
   "metadata": {},
   "source": [
    "The object representing the open file provides several ways to access the contents of the file, including an iterator that we can use in a `for` loop. \n"
   ]
  },
  {
   "cell_type": "code",
   "execution_count": null,
   "id": "c645168c",
   "metadata": {},
   "outputs": [],
   "source": [
    "fh = open('data/names/names_short.txt', encoding='utf-8')\n",
    "for line in fh:\n",
    "    print(line)\n",
    "fh.close()"
   ]
  },
  {
   "cell_type": "markdown",
   "id": "7a694e21",
   "metadata": {},
   "source": [
    "## Open a file in a context manager\n",
    "It is good style to close an opened file as well. But if, for example, the program crashes while the file is open, the `close()` method can no longer be executed. To avoid such problems it is recommended to use a context manager:"
   ]
  },
  {
   "cell_type": "code",
   "execution_count": null,
   "id": "b5abd733",
   "metadata": {},
   "outputs": [],
   "source": [
    "with open('data/names/names_short.txt', encoding='utf-8') as fh:\n",
    "    for line in fh:\n",
    "        print(line)"
   ]
  },
  {
   "cell_type": "markdown",
   "id": "094c00ea",
   "metadata": {},
   "source": [
    "## Other methods to read from a file\n",
    "\n",
    "### read()\n",
    "The `read()` method reads the entire file contents as a string. So we get the whole file content as a (sometimes very long) string:"
   ]
  },
  {
   "cell_type": "code",
   "execution_count": null,
   "id": "954cfb1c",
   "metadata": {},
   "outputs": [],
   "source": [
    "with open('data/names/names_short.txt', encoding='utf-8') as fh:\n",
    "    data = fh.read()\n",
    "print(data)    "
   ]
  },
  {
   "cell_type": "markdown",
   "id": "3c9ff2c2",
   "metadata": {},
   "source": [
    "### readlines()\n",
    "This method reads each line of the file as an element in a list (a list is another sequence type we will learn about soon):"
   ]
  },
  {
   "cell_type": "code",
   "execution_count": null,
   "id": "4cfbf44a",
   "metadata": {},
   "outputs": [],
   "source": [
    "with open('data/names/names_short.txt', encoding='utf-8') as fh:\n",
    "    lines = fh.readlines()\n",
    "print(lines)    "
   ]
  },
  {
   "cell_type": "markdown",
   "id": "bbfa634f",
   "metadata": {},
   "source": [
    "<div class=\"alert alert-block alert-info\">\n",
    "<b>Exercise 1</b><p>How many lines does the file names_short.txt have?</p></div>"
   ]
  },
  {
   "cell_type": "code",
   "execution_count": null,
   "id": "e84fe582",
   "metadata": {},
   "outputs": [],
   "source": []
  },
  {
   "cell_type": "markdown",
   "id": "66d935ec",
   "metadata": {},
   "source": [
    "## Write to a file\n",
    "So far we have only read from files. To be able to write to a file, we need to open it in a special way. The `open()` function expects as second argument a string specifying how to open a file. If we do not specify, the default value `r` (for `read`) is assumed.\n",
    "\n",
    "```\n",
    "with open('data/first_name/names_short.txt', encoding='utf-8') as fh:\n",
    "```\n",
    "leads to the same result as \n",
    "\n",
    "```\n",
    "with open('data/first_name/names_short.txt', 'r', encoding='utf-8') as fh:\n",
    "```\n",
    "\n",
    "\n",
    "If we want to open a file for writing, we use `'w'` (for `write`) instead of `'r'`."
   ]
  },
  {
   "cell_type": "code",
   "execution_count": null,
   "id": "597d2177",
   "metadata": {},
   "outputs": [],
   "source": [
    "with open('data/testfile.txt', 'a', encoding='utf-8') as fh:\n",
    "    fh.write('I am a text.')"
   ]
  },
  {
   "cell_type": "markdown",
   "id": "d19e5151",
   "metadata": {},
   "source": [
    "<div class=\"alert alert-block alert-info\">\n",
    "<b>Exercise 2</b><p>\n",
    "Write a program that does the following:\n",
    "<ol>\n",
    "<li>Read in the contents of the file \"data/names/names_short.txt\".</li>\n",
    "<li>Write the content of the read file into a new file \"mynames.txt\"</li>\n",
    "<li>Ask (with input()) the user for his/her first name and store it in a variable </li>\n",
    "<li>Append the requested name to the end of the \"mynames.txt\" file</li>\n",
    "</ol>\n",
    "</div>"
   ]
  },
  {
   "cell_type": "code",
   "execution_count": null,
   "id": "796bf1b1",
   "metadata": {},
   "outputs": [],
   "source": []
  },
  {
   "cell_type": "markdown",
   "id": "6aa9d839",
   "metadata": {},
   "source": [
    "## Write binary data\n",
    "So far we have always assumed that we are reading text from a file or writing to a file. If we're dealing with binary data (i.e. anything that isn't plain text, e.g. images, PDF files, Word files, etc.), we need to specify that explicitly with the letter `'b'`:"
   ]
  },
  {
   "cell_type": "code",
   "execution_count": null,
   "id": "bd6142e5",
   "metadata": {},
   "outputs": [],
   "source": [
    "with open('img/string1.png', 'rb') as fh_in, open('img/testimage.png', 'wb') as fh_out:\n",
    "    data = fh_in.read()\n",
    "    fh_out.write(data)"
   ]
  },
  {
   "cell_type": "markdown",
   "id": "d860bf2d",
   "metadata": {},
   "source": [
    "## Literature\n",
    "\n",
    "\n",
    "  * Python Tutorial: \n",
    "\t(https://docs.python.org/3/tutorial/inputoutput.html#reading-and-writing-files)\n",
    "  * Sweigart: https://automatetheboringstuff.com/2e/chapter9/\n",
    "  * https://www.w3schools.com/python/python_file_handling.asp\n",
    "  * https://www.geeksforgeeks.org/file-handling-python/\n",
    "  "
   ]
  },
  {
   "cell_type": "code",
   "execution_count": null,
   "id": "d798f5c7",
   "metadata": {},
   "outputs": [],
   "source": []
  }
 ],
 "metadata": {
  "kernelspec": {
   "display_name": "Python 3 (ipykernel)",
   "language": "python",
   "name": "python3"
  },
  "language_info": {
   "codemirror_mode": {
    "name": "ipython",
    "version": 3
   },
   "file_extension": ".py",
   "mimetype": "text/x-python",
   "name": "python",
   "nbconvert_exporter": "python",
   "pygments_lexer": "ipython3",
   "version": "3.9.7"
  }
 },
 "nbformat": 4,
 "nbformat_minor": 5
}
