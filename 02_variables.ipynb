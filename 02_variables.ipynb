{
 "cells": [
  {
   "cell_type": "markdown",
   "id": "1992d245",
   "metadata": {},
   "source": [
    "# Variables\n",
    "\n",
    "One of the most powerful features of a programming language is the ability to manipulate variables. A variable is a name that refers to a value. Or perhaps a more visual explanation - a variable is a container for storing values.\n",
    "\n",
    "So: a variable is a name that we give (we define it ourselves) that points to a certain value. \n",
    "This gives us the possibility to reference it and use it in various places in the program by simply using its name. \n",
    "This is practical because we can create a value in one place (line) and use it in other places (lines).\n",
    "\n"
   ]
  },
  {
   "cell_type": "markdown",
   "id": "3d6e4789",
   "metadata": {},
   "source": [
    "In Python there is no command for declaring a variable, but it's created the first time we assign a value to it. E.g."
   ]
  },
  {
   "cell_type": "code",
   "execution_count": 1,
   "id": "ce840b82",
   "metadata": {},
   "outputs": [
    {
     "name": "stdout",
     "output_type": "stream",
     "text": [
      "4\n"
     ]
    }
   ],
   "source": [
    "a = 4\n",
    "print(a)"
   ]
  },
  {
   "cell_type": "markdown",
   "id": "4b2056fe",
   "metadata": {},
   "source": [
    "In which a is the name of the variable, and 4 is the value of the variable."
   ]
  },
  {
   "cell_type": "markdown",
   "id": "6c0fad2f",
   "metadata": {},
   "source": [
    "# Assigning values to variables"
   ]
  },
  {
   "cell_type": "markdown",
   "id": "1f3c0775",
   "metadata": {},
   "source": [
    "A variable is assigned a value with the assignment operator '='"
   ]
  },
  {
   "cell_type": "code",
   "execution_count": 2,
   "id": "d54cb1a6",
   "metadata": {},
   "outputs": [],
   "source": [
    "name = 'Lucija'"
   ]
  },
  {
   "cell_type": "markdown",
   "id": "8b14cac1",
   "metadata": {},
   "source": [
    "We can use the variable 'name' later in the program to access the value. For example, to output (print) it:"
   ]
  },
  {
   "cell_type": "code",
   "execution_count": 3,
   "id": "959e397f",
   "metadata": {},
   "outputs": [
    {
     "name": "stdout",
     "output_type": "stream",
     "text": [
      "Lucija\n"
     ]
    }
   ],
   "source": [
    "print (name)"
   ]
  },
  {
   "cell_type": "markdown",
   "id": "288ff6c9",
   "metadata": {},
   "source": [
    "**Note on the use of print()**: Normally, we always have to use the `print()` function when we want to print a value to the screen. But in a Jupyter notebook, as in other REPL shells, this works without the `print()`, because here we always print the result of the last expression or statement.  So to print the value of the variable `name`, we can simply write the variable name without `print()` in a notebook. But this works only here and not in normal IDEs!\n",
    "\n",
    "For all who want to know: REPL stands for *Read-Eval-Print-Loop* and describes programs that allow direct interaction, i.e. statement by statement). In Python, for example, in the form of the Python console or IPython, which forms the basis of Jupyter Notebooks."
   ]
  },
  {
   "cell_type": "code",
   "execution_count": 4,
   "id": "11e8ec3c",
   "metadata": {},
   "outputs": [
    {
     "data": {
      "text/plain": [
       "'Lucija'"
      ]
     },
     "execution_count": 4,
     "metadata": {},
     "output_type": "execute_result"
    }
   ],
   "source": [
    "name"
   ]
  },
  {
   "cell_type": "markdown",
   "id": "aa246b3e",
   "metadata": {},
   "source": [
    "# Variables are variable"
   ]
  },
  {
   "cell_type": "markdown",
   "id": "99c25b43",
   "metadata": {},
   "source": [
    "As the name already expresses, a variable can be assigned a new value at runtime as often as desired. \n",
    "\n",
    "*Note: However, this does not apply to all programming languages. With languages like XSLT or according to the functional paradigm (e.g. Haskell), a value can be assigned to a variable only once."
   ]
  },
  {
   "cell_type": "code",
   "execution_count": 6,
   "id": "e821c7be",
   "metadata": {},
   "outputs": [
    {
     "name": "stdout",
     "output_type": "stream",
     "text": [
      "Santa\n",
      "Claus\n"
     ]
    }
   ],
   "source": [
    "name = 'Santa'\n",
    "print (name)\n",
    "name ='Claus'\n",
    "print(name)"
   ]
  },
  {
   "cell_type": "markdown",
   "id": "0b1503c9",
   "metadata": {},
   "source": [
    "Here we first assigned the value `Santa` to the variable `name` and later in the program we assigned the new value `Claus`. The variable `name` points to the new value from this point on. \n",
    "\n",
    "But what happens to the original value `Santa`? This initially remains in memory, but is automatically cleaned up by Python via a mechanism called \"garbage collection\". Somewhat simplified, Python removes values from memory when there are no more references to that value, e.g. when the variable initially referencing it now references another value. This is very convenient, but also costs some processing power. In other languages, such as C, programmers have to clean up (i.e. free) the occupied memory themselves; forgetting to do so can cause problems."
   ]
  },
  {
   "cell_type": "markdown",
   "id": "4cd695f9",
   "metadata": {},
   "source": [
    "# Variable names"
   ]
  },
  {
   "cell_type": "markdown",
   "id": "bcdc7086",
   "metadata": {},
   "source": [
    "Since we have to or can assign variable names ourselves, we should try to find good names for our variables from the beginning. Here are a few tips:\n",
    "\n",
    "* A variable name should be a noun (`firstname`, `score`). Only for boolean variables (`true/false`) it is often better to use a name starting with `is` or `has` (e.g. `is_student`, `has_payed`).\n",
    "* Variable names should be as meaningful as possible. If you need to understand your code again in a few weeks (e.g. to fix a bug), you will be grateful if a variable is called `firstname` instead of `n1` (or even worse: `x`).\n",
    "* It is highly recommended to use English words as variable names. The only exception to this rule is if you are 100% convinced that no one else will ever see your source code, which is really only true for scripts that you know will run exactly once and then be deleted. To the point: Use English identifiers from the beginning! \n",
    "* Variable names should start with a lowercase letter (`firstname` and not `Firstname`)"
   ]
  },
  {
   "cell_type": "markdown",
   "id": "6da4e337",
   "metadata": {},
   "source": [
    "### Snakes or camels? \n",
    "\n",
    "Compound words are usually good (because easy to follow) names (`max_num_of_participants`). Two ways have been developed to improve the readability of such names:\n",
    "\n",
    "  * Snake style: `max_num_of_participants`. This form is recommended by the official [Style Guide for Python Code](https://www.python.org/dev/peps/pep-0008/).\n",
    "  * CamelCase Style: `maxNumOfParticipants`. This form is preferred by other programming languages (e.g. Java or JavaScript). \n",
    "  \n",
    "Which form they use is up to them (often this is also dictated by the project if multiple people are involved, to keep the code consistent). The only important thing is that you stick to it consistently. That said, I would suggest that we stick to snake style for the exercises in this course as per the Python Style Guide."
   ]
  },
  {
   "cell_type": "markdown",
   "id": "82c60055",
   "metadata": {},
   "source": [
    "## Multiple variables can point to the same value\n",
    "\n",
    "Sometimes it is useful if two or more variables point to one value."
   ]
  },
  {
   "cell_type": "code",
   "execution_count": 8,
   "id": "ca9d1aa3",
   "metadata": {},
   "outputs": [
    {
     "data": {
      "text/plain": [
       "('Santa Claus', 'Santa Claus')"
      ]
     },
     "execution_count": 8,
     "metadata": {},
     "output_type": "execute_result"
    }
   ],
   "source": [
    "name ='Santa Claus'\n",
    "othername = name\n",
    "name, othername"
   ]
  },
  {
   "cell_type": "markdown",
   "id": "166ff256",
   "metadata": {},
   "source": [
    "We can verify that the two variables really point to the same value by using the `id()` function. Each object (i.e. each value in Python) has a unique id that can be read with the `id()` function:"
   ]
  },
  {
   "cell_type": "code",
   "execution_count": 9,
   "id": "3c95d9b9",
   "metadata": {},
   "outputs": [
    {
     "data": {
      "text/plain": [
       "(1972618217264, 1972618217264)"
      ]
     },
     "execution_count": 9,
     "metadata": {},
     "output_type": "execute_result"
    }
   ],
   "source": [
    "id(name), id(othername)"
   ]
  },
  {
   "cell_type": "markdown",
   "id": "23d05601",
   "metadata": {},
   "source": [
    "Both are identical, which means they both point to the same value."
   ]
  },
  {
   "cell_type": "markdown",
   "id": "8273afde",
   "metadata": {},
   "source": [
    "If, on the other hand, we assign a value (the same one) twice, the two variables point to different objects, i.e. two different values:"
   ]
  },
  {
   "cell_type": "code",
   "execution_count": 10,
   "id": "2b92b97f",
   "metadata": {},
   "outputs": [],
   "source": [
    "name ='Santa Claus'\n",
    "othername = 'Santa Claus'"
   ]
  },
  {
   "cell_type": "code",
   "execution_count": 11,
   "id": "741343c6",
   "metadata": {},
   "outputs": [
    {
     "data": {
      "text/plain": [
       "(1972618335344, 1972618334768)"
      ]
     },
     "execution_count": 11,
     "metadata": {},
     "output_type": "execute_result"
    }
   ],
   "source": [
    "id(name), id(othername)"
   ]
  },
  {
   "cell_type": "markdown",
   "id": "b49862c3",
   "metadata": {},
   "source": [
    "The only exceptions are small integers and Boolean values:"
   ]
  },
  {
   "cell_type": "code",
   "execution_count": 16,
   "id": "2087ee56",
   "metadata": {},
   "outputs": [
    {
     "data": {
      "text/plain": [
       "(1972514220432, 1972514220432)"
      ]
     },
     "execution_count": 16,
     "metadata": {},
     "output_type": "execute_result"
    }
   ],
   "source": [
    "first_score = 256\n",
    "final_score = 256\n",
    "id(first_score), id(final_score)"
   ]
  },
  {
   "cell_type": "code",
   "execution_count": 14,
   "id": "b797409b",
   "metadata": {},
   "outputs": [
    {
     "data": {
      "text/plain": [
       "(140723059447912, 140723059447912)"
      ]
     },
     "execution_count": 14,
     "metadata": {},
     "output_type": "execute_result"
    }
   ],
   "source": [
    "is_known = True\n",
    "has_payed = True\n",
    "id(is_known), id(has_payed)"
   ]
  },
  {
   "cell_type": "markdown",
   "id": "8269909a",
   "metadata": {},
   "source": [
    "# Values and non- values\n",
    "\n",
    "Python has a special datatype `NoneType` that can only accept a single value: `None`."
   ]
  },
  {
   "cell_type": "code",
   "execution_count": 17,
   "id": "6eefc327",
   "metadata": {},
   "outputs": [
    {
     "data": {
      "text/plain": [
       "NoneType"
      ]
     },
     "execution_count": 17,
     "metadata": {},
     "output_type": "execute_result"
    }
   ],
   "source": [
    "type(None)"
   ]
  },
  {
   "cell_type": "markdown",
   "id": "9bbf5adf",
   "metadata": {},
   "source": [
    "`None` is a non-value that is used wherever no value is present. For example, a variable can initially be initialized with the value `None` and only later in the program flow be given a different value.\n",
    "If you want to test whether the value of a variable is `None`, you should use the `is` operator:"
   ]
  },
  {
   "cell_type": "code",
   "execution_count": 19,
   "id": "2f2c6801",
   "metadata": {},
   "outputs": [
    {
     "data": {
      "text/plain": [
       "True"
      ]
     },
     "execution_count": 19,
     "metadata": {},
     "output_type": "execute_result"
    }
   ],
   "source": [
    "firstname = None # assignment\n",
    "firstname is None # comparison"
   ]
  },
  {
   "cell_type": "markdown",
   "id": "c1f3211a",
   "metadata": {},
   "source": [
    "# Variables and datatypes\n",
    "\n",
    "Because variables (names) point to values with certain data types, a variable is said to have a certain type. `name` in the example above is of type `str`."
   ]
  },
  {
   "cell_type": "code",
   "execution_count": 20,
   "id": "31319280",
   "metadata": {},
   "outputs": [
    {
     "data": {
      "text/plain": [
       "str"
      ]
     },
     "execution_count": 20,
     "metadata": {},
     "output_type": "execute_result"
    }
   ],
   "source": [
    "first_name ='Lucija'\n",
    "type(first_name)"
   ]
  },
  {
   "cell_type": "markdown",
   "id": "d1aa2da7",
   "metadata": {},
   "source": [
    "<div class=\"alert alert-block alert-info\">\n",
    "<b>Exercise 1</b>\n",
    "<p>\n",
    "Create a variable named number and assign it a 3 digit number. Then print out the value\n",
    "</p>\n",
    "</div>"
   ]
  },
  {
   "cell_type": "code",
   "execution_count": null,
   "id": "c3019073",
   "metadata": {},
   "outputs": [],
   "source": []
  },
  {
   "cell_type": "markdown",
   "id": "8992926f",
   "metadata": {},
   "source": [
    "### Python as a dynamically typed language\n",
    "Unlike statically typed languages such as C or Java, where you must specify the type of a variable at initialization, and that variable retains the data type throughout the runtime of the program, Python is a dynamically typed language. This means that a variable can be assigned a new value with a different data type at runtime.\n"
   ]
  },
  {
   "cell_type": "code",
   "execution_count": 21,
   "id": "263c9ea6",
   "metadata": {},
   "outputs": [
    {
     "name": "stdout",
     "output_type": "stream",
     "text": [
      "27 <class 'int'>\n",
      "twenty seven <class 'str'>\n"
     ]
    }
   ],
   "source": [
    "age = 27\n",
    "print(age, type(age))\n",
    "age = 'twenty seven'\n",
    "print(age, type(age))"
   ]
  },
  {
   "cell_type": "markdown",
   "id": "616e4692",
   "metadata": {},
   "source": [
    "### Test for variable type\n",
    "Since variables (not values!) can change their type during program execution, sometimes a way is needed to test whether a variable has a certain type.\n",
    "The `isistance()` function is used for this purpose: "
   ]
  },
  {
   "cell_type": "code",
   "execution_count": 22,
   "id": "28931dbe",
   "metadata": {},
   "outputs": [
    {
     "data": {
      "text/plain": [
       "True"
      ]
     },
     "execution_count": 22,
     "metadata": {},
     "output_type": "execute_result"
    }
   ],
   "source": [
    "age = 27\n",
    "isinstance(age, int)"
   ]
  },
  {
   "cell_type": "code",
   "execution_count": 23,
   "id": "3b15ef19",
   "metadata": {},
   "outputs": [
    {
     "data": {
      "text/plain": [
       "False"
      ]
     },
     "execution_count": 23,
     "metadata": {},
     "output_type": "execute_result"
    }
   ],
   "source": [
    "isinstance (age, str)"
   ]
  },
  {
   "cell_type": "markdown",
   "id": "0b72a9cb",
   "metadata": {},
   "source": [
    "<div class=\"alert alert-block alert-info\">\n",
    "<b>Exercise 2</b>\n",
    "<p>\n",
    "Create a variable named carname, assign the value 'Volvo' to it and then check if it is an `int`.\n",
    "</p>\n",
    "</div>"
   ]
  },
  {
   "cell_type": "code",
   "execution_count": null,
   "id": "1becb07f",
   "metadata": {},
   "outputs": [],
   "source": []
  },
  {
   "cell_type": "markdown",
   "id": "c2df6401",
   "metadata": {},
   "source": [
    "# Literature\n",
    "\n",
    "* Python Tutorial: Kapitel 3 (3.1.1 und 3.2.1)\n",
    "    (http://docs.python.org/3/tutorial/introduction.html)\n",
    "* W3Schools : https://www.w3schools.com/python/default.asp\n",
    "* Think Python book - https://greenteapress.com/thinkpython/html/thinkpython001.html "
   ]
  },
  {
   "cell_type": "code",
   "execution_count": null,
   "id": "05e6d535",
   "metadata": {},
   "outputs": [],
   "source": []
  }
 ],
 "metadata": {
  "kernelspec": {
   "display_name": "Python 3 (ipykernel)",
   "language": "python",
   "name": "python3"
  },
  "language_info": {
   "codemirror_mode": {
    "name": "ipython",
    "version": 3
   },
   "file_extension": ".py",
   "mimetype": "text/x-python",
   "name": "python",
   "nbconvert_exporter": "python",
   "pygments_lexer": "ipython3",
   "version": "3.9.7"
  }
 },
 "nbformat": 4,
 "nbformat_minor": 5
}
