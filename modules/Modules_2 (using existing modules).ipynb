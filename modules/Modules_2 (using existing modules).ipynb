{
 "cells": [
  {
   "cell_type": "markdown",
   "id": "d1094f91",
   "metadata": {},
   "source": [
    "# Use existing modules\n",
    "\n",
    "Before you start implementing a certain functionality, you should check if someone else has already done this work. Such \"foreign code\" is available in the form of modules and packages, which you can easily import into your program if needed. We have to distinguish between packages/modules\n",
    "\n",
    " * from the standard library\n",
    " * from a third party\n",
    "\n",
    "## The standard library\n",
    "\n",
    "Python comes with *batteries included*. What is meant by this is that when Python is installed, numerous modules and packages for a wide variety of purposes are installed along with it and are thus immediately usable. This \"standard library\" is documented in detail: https://docs.python.org/3/library/index.html.\n",
    "This very extensive documentation, which covers more than 2000 pages as PDF, describes all modules of the installed Standard Library. The description is organized according to possible applications. In the table of contents you find (here only excerpts taken) these main points:\n",
    "\n",
    "* Built-in Constants\n",
    "* Built-in Types\n",
    "* Built-in Exceptions\n",
    "* Text Processing Services\n",
    "* Binary Data Services\n",
    "* Data Types\n",
    "* Numeric and Mathematical Modules\n",
    "* Functional Programming Modules\n",
    "* File and Directory Access\n",
    "* Data Persistence\n",
    "* Data Compression and Archiving\n",
    "* File Formats\n",
    "* Cryptographic Services\n",
    "* Generic Operating System Services\n",
    "* Concurrent Execution\n",
    "* Structured Markup Processing Tools\n",
    "* Internet Protocols and Support\n",
    "* Multimedia Services\n",
    "* Internationalization\n",
    "* Graphical User Interfaces with Tk\n",
    "* Development Tools\n",
    "* Debugging and Profiling\n",
    "* ...\n",
    "\n",
    "Under `Numeric and Mathematical Modules` we find e.g. a module `random - Generate pseudo-random numbers`:\n",
    "https://docs.python.org/3/library/random.html, which we can look at as an example. At first it is described what the module can be used for. This is followed by an enumeration of constants (if any) and all functions of the module, often with a small example. E.g. the function `choice()` is described like this:\n",
    "\n",
    "\n",
    "#### random.choice(seq)\n",
    "\n",
    "Return a random element from the non-empty sequence seq. If seq is empty, raises IndexError.\n",
    "\n"
   ]
  },
  {
   "cell_type": "markdown",
   "id": "54eb5553",
   "metadata": {},
   "source": [
    "### Using a module from the standard library\n",
    "\n",
    "To use the `choice()` function described above, we must first import the module into our program. After that the function is available to us:"
   ]
  },
  {
   "cell_type": "code",
   "execution_count": null,
   "id": "c7836ea0",
   "metadata": {},
   "outputs": [],
   "source": [
    "import random\n",
    "\n",
    "students = ['Otto', 'Anna', 'Santa', 'Claus', 'Kat']\n",
    "print(random.choice(students))"
   ]
  },
  {
   "cell_type": "markdown",
   "id": "4dd83c12",
   "metadata": {},
   "source": [
    "So `choice()` randomly chooses an element from our list. Try it out by running the code snippet multiple times!"
   ]
  },
  {
   "cell_type": "markdown",
   "id": "21495a72",
   "metadata": {},
   "source": [
    "To check if `choice()` works reliably, we can run it in a loop and then count how many times each element was selected. For this we do not use the self-written counter from the notebook to the dictionaries, but a counter object provided by the standard library. If we call `choice()` 100 000 times, at the end each of the five names should occur about 20 000 times."
   ]
  },
  {
   "cell_type": "code",
   "execution_count": null,
   "id": "313ba286",
   "metadata": {},
   "outputs": [],
   "source": [
    "from collections import Counter\n",
    "import random\n",
    "\n",
    "students = ['Otto', 'Anna', 'Santa', 'Claus', 'Kat']\n",
    "\n",
    "random_students = []\n",
    "for _ in range(100000):\n",
    "    random_students.append(random.choice(students))\n",
    "\n",
    "counter = Counter(random_students)\n",
    "print(counter)"
   ]
  },
  {
   "cell_type": "markdown",
   "id": "df74d2bf",
   "metadata": {},
   "source": [
    "<div class=\"alert alert-block alert-info\">\n",
    "<b>Exercise StdLib-1</b>\n",
    "    \n",
    "As an exercise, you should consult the standard library documentation to see what the Counter object can do and trz to solve the previouis task in a different way.\n",
    "</div>"
   ]
  },
  {
   "cell_type": "markdown",
   "id": "a789f64c",
   "metadata": {},
   "source": [
    "With the Standard Library you have a really powerful tool at hand. You should therefore also invest time to read at least the table of contents and some module descriptions to get an idea of what is covered by the Standard Library."
   ]
  },
  {
   "cell_type": "markdown",
   "id": "85efdbd0",
   "metadata": {},
   "source": [
    "## External libraries\n",
    "\n",
    "Although the Standard Library provides many modules, this covers only a small fraction of what is available in terms of useful modules. Many programmers make the libraries they have written available for reuse. These, as we will see in a moment, can be easily installed and then imported like a module of the Standard Library. The central resource for such third-party modules is the **Py**thon **P**ackage **I**ndex: https://pypi.org/\n",
    "\n",
    "On this page you can search for existing modules by simply entering one or more search terms. PyPi currently contains more than 300 000 projects. So the chance that you will find what you are looking for is relatively high. Many of the projects also provide a link to documentation, which you should definitely look at before using a library. If you plan to share your code, you should also take a look at how the libraries you use are licensed, because the license determines how you are allowed to use other people's code.\n",
    "\n",
    "### Installing a library from pypi\n",
    "\n",
    "The easiest way to use a module from pypi is to use `pip`. This is a package manager that you can use to install, update or uninstall things from PyPi (possibly from elsewhere). If you have a Conda-based Python installation, `pip` also works, but here it is recommended to use `conda` as package manager instead of pip. Conda does not use pypi, but its own (smaller) package collection. If a package is not available with Conda, there is nothing against working with `pip` here as well.\n",
    "\n",
    "A big advantage of a package manager, besides the very easy possibility to reinstall modules and packages, is that it recognizes and takes dependencies into account. So if we install module A with pip (or conda), the package manager recognizes that A itself needs certain libraries again (so e.g. module B and package C) and installs them as well."
   ]
  },
  {
   "cell_type": "markdown",
   "id": "e4961e80",
   "metadata": {},
   "source": [
    "### Crash course pip\n",
    "\n",
    "Basically it is recommended to use a *virtual environment* for such experiments, as described in a separate notebook. The advantage is that `pip` then installs things in the virtual environment and not in the system-wide Python environment. So we first create a venv named `piptest` and activate it. **Important**: This will not work in a notebook. You need to type the commands in a prompt/shell like cmd, powershell or a terminal.\n",
    "\n",
    "First we create the `venv` named `piptest` (in a directory with the same name).\n",
    "```\n",
    "python3 -m venv piptest\n",
    "```\n",
    "Then we have to activate the `venv`:\n",
    "\n",
    "On Windows:\n",
    "\n",
    "```\n",
    "piptest\\Scripts\\activate\n",
    "```\n",
    "\n",
    "or for Powershell\n",
    "```\n",
    "piptest\\Scripts\\activate.ps1\n",
    "```\n",
    "\n",
    "On OSX or Linux, type this:\n",
    "\n",
    "```\n",
    "source piptest\\Scripts\\activate\n",
    "```\n",
    "\n",
    "You should now see that you are in a venv, because (piptest) is displayed in the prompt.\n",
    "\n",
    "If we now install something with `pip`, it will only be installed in the venv `piptest`, and not in normal Python.\n",
    "\n",
    "Now let's install e.g. the `requests` library, with which we can comfortably make http requests on the WWW:\n",
    "\n",
    "```\n",
    "pip install requests\n",
    "```\n",
    "\n",
    "Before the installation we could have displayed details about the package:\n",
    "\n",
    "```\n",
    "pip show requests\n",
    "```\n",
    "\n",
    "We could even install a specific (older) version. \n",
    "\n",
    "```\n",
    "pip install requests==1.2.3\n",
    "```\n",
    "\n",
    "The package can be updated (i.e. brought to the current version):\n",
    "\n",
    "```\n",
    "pip install --upgrade requests\n",
    "```\n",
    "\n",
    "If we don't need it anymore, we can remove a package:\n",
    "\n",
    "```\n",
    "pip uninstall requests\n",
    "```"
   ]
  },
  {
   "cell_type": "markdown",
   "id": "e2df99bf",
   "metadata": {},
   "source": [
    " ### (Read for HW4)\n",
    "\n",
    "## Digression - important NLP (Natural Language Processing) modules:\n",
    "\n",
    "\n",
    "* <b>NLTK</b> - Natural Language Toolkit (https://www.nltk.org/, https://pypi.org/project/nltk/)\n",
    "    * a toolkit for computational linguistics in Python\n",
    "    * most popular for NLP(Natural Language Processing)\n",
    "    * provides corpora, lexical resources and libraries for all sorts of NLP tasks such as classification, tokenization, pasrsing, stemming, tagging, etc.\n",
    "*<b> Spacy</b> (https://spacy.io/, https://spacy.io/usage)\n",
    "    * a library for advanced NLP in PYthon \n",
    "    * an industry standard\n",
    "    * offers models for a large variety of languages for taks such as tokenization, summarization, sentiment analysis, topic modelling, etc.\n",
    "    \n",
    "*<b> Textblob</b>(https://textblob.readthedocs.io/en/dev/)\n",
    "    * library for processing textual data\n",
    "    * offers  part-of-speech tagging, noun phrase extraction, sentiment analysis, classification, translation, and more\n",
    "    \n",
    "<b>These libraries acount for a variety of common NLP(Natural Language Processing) tasks.</b>\n",
    "Such as:\n",
    "  * <b> tokenization</b> - separating the text into smaller units (usually sentences or words words)\n",
    "  * <b> automatic summarization (extractive, abstractive) </b> - a process of shortening a set of data computationally, to create a subset (a summary) that represents the most important or relevant information within the original content\n",
    "  * <b> POS (part-of-speech) tagging</b> - categorizing words in a text (corpus) in correspondence with a particular part of speech, depending on the definition of the word and its context (e.g. noun phrase, noun, verb, preposition...)\n",
    "  *  <b>sentiment analysis</b> - automatic detection of sentiments, emotions, and opinions in textual data\n",
    "  *  <b>Named Entity Recognition </b>- identification of key information in the text and classification into a set of predefined categories (e.g. person, place, organization)\n",
    "  *  <b>Topic Modelling </b> - identifying most relevant terms/ concepts of a text\n"
   ]
  },
  {
   "cell_type": "code",
   "execution_count": null,
   "id": "51af14e3",
   "metadata": {},
   "outputs": [],
   "source": []
  }
 ],
 "metadata": {
  "kernelspec": {
   "display_name": "Python 3 (ipykernel)",
   "language": "python",
   "name": "python3"
  },
  "language_info": {
   "codemirror_mode": {
    "name": "ipython",
    "version": 3
   },
   "file_extension": ".py",
   "mimetype": "text/x-python",
   "name": "python",
   "nbconvert_exporter": "python",
   "pygments_lexer": "ipython3",
   "version": "3.9.7"
  }
 },
 "nbformat": 4,
 "nbformat_minor": 5
}
