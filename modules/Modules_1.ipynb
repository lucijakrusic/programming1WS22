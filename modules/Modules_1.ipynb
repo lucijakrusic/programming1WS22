{
 "cells": [
  {
   "cell_type": "markdown",
   "id": "12239a18",
   "metadata": {},
   "source": [
    "# Modules\n",
    "\n",
    "- files with a .py extension\n",
    "- a module is a piece of code written by other people (or you) that you can reuse inside of your code to preform certain things (previously made solutions for specific problems)\n",
    "\n",
    "### Why modules are useful:\n",
    "* to organize larger projects into several smaller source code files - through this parts of code that belong together are stored together in a .py file - a <b> module </b>\n",
    "* to make code more reusable, since modules can be imported selectively into new code\n",
    "* smaller scripts can be easily packed into single files\n",
    "\n",
    "- Small scripts can be easily packed into a single file.\n",
    "- However, as soon as a program has more than a few hundred lines, we need to split the code into several modules, also because this makes the code easier to test and maintain\n",
    "\n",
    "### There's a lot of existing modules\n",
    "- Python's standard library is organized into modules (and packages that bundle multiple modules)\n",
    "- third-party libraries are also available as modules"
   ]
  },
  {
   "cell_type": "markdown",
   "id": "231cac79",
   "metadata": {},
   "source": [
    "## 1. How to create a module"
   ]
  },
  {
   "cell_type": "markdown",
   "id": "7cfcf347",
   "metadata": {},
   "source": [
    "A module is nothing else than a .py file.\n",
    "We can create a module by writing the file, which is often also called <i>script</i> in an IDE or a text editor, such as PyCharm or Spyder.\n",
    "\n",
    "Then, the next step would be using a module by <i> importing </i> it. We will import our first module in the following paragraph.\n",
    "\n",
    "\n"
   ]
  },
  {
   "cell_type": "markdown",
   "id": "08101cf8",
   "metadata": {},
   "source": [
    "* to start, I will create a new file in this folder called 'my_module.py'. Jupyter Notebooks open a text editor. This is not the best solution (because a text editor like this does not provide us with indentation, syntax highlighting,  debugging etc like an IDE - such as Pycharm or Spyder. Usually I would reccomend writing scripts in an IDE)"
   ]
  },
  {
   "cell_type": "markdown",
   "id": "35a0f15c",
   "metadata": {},
   "source": [
    "* in the [my_module.py](my_module.py) script, I've written a function called 'greeting' that returns  \"Hello\" and the desired name. Let's try it out in the next step.\n"
   ]
  },
  {
   "cell_type": "markdown",
   "id": "14611d29",
   "metadata": {},
   "source": [
    "## 2. How to use an existing module (importing modules)\n"
   ]
  },
  {
   "cell_type": "markdown",
   "id": "e89d24b5",
   "metadata": {},
   "source": [
    "In order to use a module in your own program, the module must be imported first:\n",
    "\n",
    "~~~\n",
    "import <module name>\n",
    "~~~\n",
    "    \n",
    "After that the module is available with the functionality defined there. Let's try importing the module that we've created in the previous step:"
   ]
  },
  {
   "cell_type": "code",
   "execution_count": null,
   "id": "a148eff5",
   "metadata": {},
   "outputs": [],
   "source": [
    "import my_module"
   ]
  },
  {
   "cell_type": "markdown",
   "id": "ce6c8fb5",
   "metadata": {},
   "source": [
    "Now, that we've imported it, let's actually use it. the syntax is:\n",
    "~~~\n",
    "<module name>.<function call>\n",
    "~~~"
   ]
  },
  {
   "cell_type": "code",
   "execution_count": null,
   "id": "a232c33b",
   "metadata": {},
   "outputs": [],
   "source": [
    "my_module.greeting('Lucija')"
   ]
  },
  {
   "cell_type": "markdown",
   "id": "72f0f333",
   "metadata": {},
   "source": [
    "We see that we can now, since we've imported the module, use the function that the module contains. We can do it however many times we want, we only need to import it once in a file."
   ]
  },
  {
   "cell_type": "markdown",
   "id": "9c0c7b53",
   "metadata": {},
   "source": [
    "Now, let's try using a module that is available in the standard Python library.The module `random` available in the standard library installed with Python provides a set of random functions. In order to use them, we must first import the module. "
   ]
  },
  {
   "cell_type": "code",
   "execution_count": null,
   "id": "5322e6d0",
   "metadata": {},
   "outputs": [],
   "source": [
    "import random"
   ]
  },
  {
   "cell_type": "markdown",
   "id": "83afaa67",
   "metadata": {},
   "source": [
    "After that, we can have a random number generated, for example:"
   ]
  },
  {
   "cell_type": "code",
   "execution_count": null,
   "id": "088d19e3",
   "metadata": {},
   "outputs": [],
   "source": [
    "random.randint(0, 100)"
   ]
  },
  {
   "cell_type": "markdown",
   "id": "f9fec1dc",
   "metadata": {},
   "source": [
    "\n",
    "* randint is a <b>function</b> available in the random module (https://docs.python.org/3/library/random.html). So, we can also say that a module contains a collection of functions, or that functions are a subset of modules. "
   ]
  },
  {
   "cell_type": "markdown",
   "id": "b7ebfaca",
   "metadata": {},
   "source": [
    "## 3. Namespaces"
   ]
  },
  {
   "cell_type": "markdown",
   "id": "771df71a",
   "metadata": {},
   "source": [
    "In the last example we did not use just any function named `randint`, but exactly the one provided by the module `random`.\n",
    "\n",
    "Modules therefore not only structure the source code, but also form namespaces,\n",
    "which prevents, for example, that two modules with the same name defined in different\n",
    "modules from overlapping each other. \n",
    "\n",
    "To show this,there are two minimal modules in the directory where this notebook is located:\n",
    "\n",
    "* first.py\n",
    "* second.py\n",
    "\n",
    "In both modules there is a function `echo()`, which we can use both in our program by using the namespaces."
   ]
  },
  {
   "cell_type": "code",
   "execution_count": null,
   "id": "f1e6d68f",
   "metadata": {},
   "outputs": [],
   "source": [
    "import first\n",
    "import second"
   ]
  },
  {
   "cell_type": "code",
   "execution_count": null,
   "id": "a51f1db3",
   "metadata": {},
   "outputs": [],
   "source": [
    "\n",
    "first.some_function()"
   ]
  },
  {
   "cell_type": "code",
   "execution_count": null,
   "id": "ab88dccb",
   "metadata": {},
   "outputs": [],
   "source": [
    "second.some_function()"
   ]
  },
  {
   "cell_type": "markdown",
   "id": "ff94a6e0",
   "metadata": {},
   "source": [
    "The namespace is simply the name of the module (i.e. the file that defines the module).\n",
    "\n",
    "So in the above example there is a module `first` (i.e. a file `first.py`) and a second module `second` (`second.py`).\n",
    "\n"
   ]
  },
  {
   "cell_type": "markdown",
   "id": "ddbec07e",
   "metadata": {},
   "source": [
    "## Import modules\n",
    "We have already heard that we need to import modules before we can use them. There are several ways to do this. The simplest one we have already learned: We import the whole module while keeping the module name. As an example we use again a module from the standard library: `sys` provides information about the current system environment:"
   ]
  },
  {
   "cell_type": "code",
   "execution_count": null,
   "id": "82a344a0",
   "metadata": {},
   "outputs": [],
   "source": [
    "import sys\n",
    "sys.version"
   ]
  },
  {
   "cell_type": "code",
   "execution_count": null,
   "id": "c96a0038",
   "metadata": {},
   "outputs": [],
   "source": [
    "sys.platform"
   ]
  },
  {
   "cell_type": "markdown",
   "id": "83bcd16f",
   "metadata": {},
   "source": [
    "### Import only a part of a module\n",
    "Sometimes we are only interested in a small part of a module, for example if we only want to find out the currently used platform:"
   ]
  },
  {
   "cell_type": "code",
   "execution_count": null,
   "id": "81c8886a",
   "metadata": {},
   "outputs": [],
   "source": [
    "from sys import platform\n",
    "platform"
   ]
  },
  {
   "cell_type": "markdown",
   "id": "f53f26f7",
   "metadata": {},
   "source": [
    "**Caution**: Here we have imported something from a module into the global (or our own) namespace. We save ourselves some typing work by doing this, but we also get ourselves into some trouble for polluting our own namespace. There are good reasons not to do this:\n",
    "\n",
    "* We have made it harder to trace our code, because when reading the code you have to figure out what this `platform` is all about - `sys.platform` is much clearer here.\n",
    "* We can get side effects if we override our own variables, possibly unintentionally.\n",
    "\n",
    "Here is an example:"
   ]
  },
  {
   "cell_type": "code",
   "execution_count": null,
   "id": "1ebe7762",
   "metadata": {},
   "outputs": [],
   "source": [
    "version = '0.9 beta' # this is the version of our program\n",
    "\n",
    "# imports should always happen at the top, but you can use them everywhere\n",
    "from sys import version \n",
    "print(f'You are using MyProgram in version {version}')\n",
    "print(f'You are using Python version {version}')"
   ]
  },
  {
   "cell_type": "markdown",
   "id": "7a9ab149",
   "metadata": {},
   "source": [
    "We have here (unintentionally) overlaid a previously existing variable `version` with `sys.version` during import. "
   ]
  },
  {
   "cell_type": "markdown",
   "id": "74aba1ae",
   "metadata": {},
   "source": [
    "Even worse is this variant:"
   ]
  },
  {
   "cell_type": "code",
   "execution_count": null,
   "id": "d894cb64",
   "metadata": {},
   "outputs": [],
   "source": [
    "version = '0.9 beta'\n",
    "\n",
    "# Imports should always happen at the top, but you can use them everywhere\n",
    "from sys import *\n",
    "print(f'You are using MyProgram in version {version}')\n",
    "print(f'You are using Python version {version}')"
   ]
  },
  {
   "cell_type": "markdown",
   "id": "ca488dcf",
   "metadata": {},
   "source": [
    "Here we have imported **everything** from the `sys` module into our own namespace. We may not have been aware that there is a variable `version` in `sys` that overlays our own variable. Hard-to-find errors are bound to happen this way! If we had kept the namespace, this would not have happened:"
   ]
  },
  {
   "cell_type": "code",
   "execution_count": null,
   "id": "09357604",
   "metadata": {},
   "outputs": [],
   "source": [
    "version = '0.9 beta'\n",
    "\n",
    "# Imports should always happen at the top, but you can use them everywhere\n",
    "import sys\n",
    "print(f'You are using MyProgram in version {version}')\n",
    "print(f'You are using Python version {sys.version}')"
   ]
  },
  {
   "cell_type": "markdown",
   "id": "2711c966",
   "metadata": {},
   "source": [
    "Small digression: if you want to determine what is present in a module (and what we imported all into our namespace in the last example), you can use the `dir()` function:"
   ]
  },
  {
   "cell_type": "code",
   "execution_count": null,
   "id": "f4c6720e",
   "metadata": {},
   "outputs": [],
   "source": [
    "import sys\n",
    "dir(sys)"
   ]
  },
  {
   "cell_type": "markdown",
   "id": "92b3aab0",
   "metadata": {},
   "source": [
    "### Redefining namespaces\n",
    "Some namespace names are very long and it is therefore tedious to always type them in. Therefore it is possible to assign a module its own name. `pyplot` is a module of the powerful `matplotlib` package. \n",
    "\n",
    "Attention: This package is not in the standard library and may have to be installed first. You can do this directly from the notebook (replace `pip` with `conda`,\n",
    "if you are working in an Anaconda environment):"
   ]
  },
  {
   "cell_type": "code",
   "execution_count": null,
   "id": "1ecdb975",
   "metadata": {},
   "outputs": [],
   "source": [
    "!pip install matplotlib"
   ]
  },
  {
   "cell_type": "markdown",
   "id": "ddd5068e",
   "metadata": {},
   "source": [
    "Here first the cumbersome namespace variant:"
   ]
  },
  {
   "cell_type": "code",
   "execution_count": null,
   "id": "fe6f0527",
   "metadata": {},
   "outputs": [],
   "source": [
    "import matplotlib.pyplot\n",
    "matplotlib.pyplot.plot([1, 2, 3, 4, 4, 3, 5, 6, 6, 3, 3, 4])\n",
    "matplotlib.pyplot.show()"
   ]
  },
  {
   "cell_type": "markdown",
   "id": "6ecc7fdc",
   "metadata": {},
   "source": [
    "Normally, however, you write it this way to save yourself typing work:"
   ]
  },
  {
   "cell_type": "markdown",
   "id": "b2d03927",
   "metadata": {},
   "source": [
    "import matplotlib.pyplot as plt\n",
    "plt.plot([1, 2, 3, 4, 4, 3, 5, 6, 6, 3, 3, 4])\n",
    "plt.show()"
   ]
  },
  {
   "cell_type": "markdown",
   "id": "48bf025a",
   "metadata": {},
   "source": [
    "By the `as` we have assigned an alias `plt` to the namespace `matplotlib.pyplot` in our program."
   ]
  },
  {
   "cell_type": "markdown",
   "id": "c48a8b91",
   "metadata": {},
   "source": [
    "### Modules and docstrings\n",
    "Just as a function can be described by a docstring, this also works for modules. To do this, simply insert the appropriate docstring right at the beginning of the module file. In the directory of this notebook you will find a file (i.e. a module) [mystring.py](mystring.py). Since this module has a DocString, you can read it:"
   ]
  },
  {
   "cell_type": "code",
   "execution_count": null,
   "id": "010b39bb",
   "metadata": {},
   "outputs": [],
   "source": [
    "import my_string\n",
    "help(my_string)"
   ]
  },
  {
   "cell_type": "code",
   "execution_count": null,
   "id": "74e66477",
   "metadata": {},
   "outputs": [],
   "source": [
    "mystring.reverse('abc')"
   ]
  },
  {
   "cell_type": "code",
   "execution_count": null,
   "id": "97152d8d",
   "metadata": {},
   "outputs": [],
   "source": [
    "help(my_string.reverse)"
   ]
  },
  {
   "cell_type": "code",
   "execution_count": null,
   "id": "df67109e",
   "metadata": {},
   "outputs": [],
   "source": [
    "mystring.distinct_len('Mississippi')"
   ]
  },
  {
   "cell_type": "code",
   "execution_count": null,
   "id": "a849c496",
   "metadata": {},
   "outputs": [],
   "source": [
    "help(mystring.distinct_len)"
   ]
  },
  {
   "cell_type": "markdown",
   "id": "ff4ac2f0",
   "metadata": {},
   "source": [
    "## How are modules found?\n",
    "Modules can be located in different places in the file system. Here is a short description of where and how Python searches for modules. Thereby a certain order is used. As soon as the module to be imported (or -- attention! -- a module with the same name) is found, it is used. This order is:\n",
    "\n",
    "1. the current directory.\n",
    "1. all directories defined in the `PYTHONPATH` environment variable.\n",
    "1. depending on the called Python version in certain directories, where for example the standard library is located.\n",
    "\n",
    "The `sys` module knows where to search:"
   ]
  },
  {
   "cell_type": "code",
   "execution_count": null,
   "id": "22f74d35",
   "metadata": {},
   "outputs": [],
   "source": [
    "import sys\n",
    "sys.path"
   ]
  },
  {
   "cell_type": "markdown",
   "id": "d1cf4191",
   "metadata": {},
   "source": [
    "By the way, `sys.path` is a normal list which can be extended, for example (but which is not a very good idea if you want to pass on your program)."
   ]
  },
  {
   "cell_type": "markdown",
   "id": "3665f512",
   "metadata": {},
   "source": [
    "## Modules and bytecode\n",
    "The first time a module is loaded, Python translates the code into bytecode and saves it to a separate file. This has the advantage that the module can be loaded faster the next time it is used. These bytecode files have the filename extension `.pyc` and are located under Python3 in the directory `__pycache__`. Both this directory and individual `pyc` files can be safely deleted because they are automatically regenerated when needed. They are also automatically regenerated if the contents of the corresponding `.py` file change."
   ]
  },
  {
   "cell_type": "markdown",
   "id": "d186d41b",
   "metadata": {},
   "source": [
    "# Packages\n",
    "If you want to organize larger projects more deeply, you can combine multiple modules\n",
    "(and even subpackages) into one package.\n",
    "\n",
    "A package is nothing more than a directory that contains modules. However, such a directory\n",
    "package is only created when the directory contains a file called\n",
    "directory contains a file `__init__.py`. This file can be empty.\n",
    "\n",
    "Here is a (fictional) example:\n",
    "\n",
    "~~~\n",
    "mypackage\n",
    "|-- __init__.py\n",
    "|-- module1.py\n",
    "|-- module2.py\n",
    "|-- mysubpackage\n",
    "    |-- __init__.py\n",
    "    |-- module_a.py\n",
    "    |-- module_b.py\n",
    "~~~\n",
    "\n",
    "A module in a package is addressed separated by the dot operator:\n",
    "\n",
    "~~~\n",
    ">>> import os\n",
    ">>> if os.path.exists('data.csv'):\n",
    "...\n",
    "~~~\n"
   ]
  },
  {
   "cell_type": "code",
   "execution_count": null,
   "id": "a1620ad6",
   "metadata": {},
   "outputs": [],
   "source": []
  }
 ],
 "metadata": {
  "kernelspec": {
   "display_name": "Python 3 (ipykernel)",
   "language": "python",
   "name": "python3"
  },
  "language_info": {
   "codemirror_mode": {
    "name": "ipython",
    "version": 3
   },
   "file_extension": ".py",
   "mimetype": "text/x-python",
   "name": "python",
   "nbconvert_exporter": "python",
   "pygments_lexer": "ipython3",
   "version": "3.9.7"
  }
 },
 "nbformat": 4,
 "nbformat_minor": 5
}
