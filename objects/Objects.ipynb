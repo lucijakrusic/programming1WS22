{
 "cells": [
  {
   "cell_type": "markdown",
   "id": "8a28a4c6",
   "metadata": {},
   "source": [
    "# Crash Course Object Orientation\n",
    "\n",
    "Object-oriented programming offers powerful concepts that help to keep a program code clearer, more maintainable and more reusable. We will deal with object oriented programming in detail in the summer semester, so this is only a compact introduction.\n"
   ]
  },
  {
   "cell_type": "markdown",
   "id": "959c194d",
   "metadata": {},
   "source": [
    "## What is object-oriented programming?\n",
    "The basic idea of object oriented programming is to divide the functions and data\n",
    "in the program into logically related units as objects in order to reduce the\n",
    "as objects in order to reduce the complexity of the program. We then have, if you will, no longer one large and\n",
    "and complex program, but many small, manageable and with one another\n",
    "interacting programs (objects).\n",
    "\n",
    "An object is thus a \"thing\", which\n",
    "\n",
    "1. is able to hold (store) data, which describes this \"thing\"\n",
    "  (properties)\n",
    "2. provides functionality (\"methods\"), over which\n",
    "\n",
    "    * change its own properties (data)\n",
    "    * the thing can interact with other \"things\" (objects).\n",
    "\n",
    "Objects can describe concrete entities, such as an object or a\n",
    "person, but also abstract things, such as a process or a concept.\n",
    "\n",
    "\n",
    "The essential point is that objects are self-contained entities of data and\n",
    "functions, which offer only a few clearly defined interfaces to the outside world.\n",
    "the outside world does not need to understand how an object works internally,\n",
    "it only needs to understand the interfaces offered to the outside world."
   ]
  },
  {
   "cell_type": "markdown",
   "id": "f47adf53",
   "metadata": {},
   "source": [
    "## Objects\n",
    "Objects are everywhere in Python: every value we create, but also things like functions are objects in Python."
   ]
  },
  {
   "cell_type": "code",
   "execution_count": null,
   "id": "6021aa99",
   "metadata": {},
   "outputs": [],
   "source": [
    "firstname = 'Claus'"
   ]
  },
  {
   "cell_type": "markdown",
   "id": "29cf4c48",
   "metadata": {},
   "source": [
    "creates a string object with the value ``Claus``. "
   ]
  },
  {
   "cell_type": "markdown",
   "id": "2942d485",
   "metadata": {},
   "source": [
    "Each object has:\n",
    "* a type (here: ``str``)\n",
    "* one or more values (here: ``Claus``)\n",
    "* methods (e.g. ``firstname.upper()``)\n",
    "\n",
    "The **type** defines which values and methods make up an object. For example, the type specifies that there is a method ``upper()``. Since we've already covered data types, I won't go into them in more detail.\n",
    "\n",
    "The **value(s)** define the **properties** of an object. In principle, these are just data that are stored in the object and *describe* the object.\n",
    "\n",
    "The **methods** are primarily used to do something with the properties of an object: Set or read them somewhat, or as in the case of ``upper()``, provide a modified form of the data. More generally, we can say that methods do something with or based on properties. For example, they perform a calculation and return the result. \n",
    "\n",
    "In Python, special methods can also be used to specify the behavior of operators. So you can define yourself what happens when two objects are connected with the `+` operator."
   ]
  },
  {
   "cell_type": "markdown",
   "id": "d08c9271",
   "metadata": {},
   "source": [
    "## Classes\n",
    "\n",
    "So where does the type of an object come from? Python provides a large set of predefined data types. However, we can always invent our own types. To do this, we need to define some sort of *plan* the objects of that type. This is done in Python (and many other languages) via so-called *classes*. \n",
    "\n",
    "So a class specifies the properties (values created in the object) and the behavior (i.e. ways of interacting with objects; in other words: *methods*).\n",
    "\n",
    "Writing a class has a lot to do with data modeling: An object represents a section of the real world. The trick now is to specify all the properties you need (but no properties you don't need!).\n",
    "\n",
    "A concrete example: If I want to create a class (i.e. a data type) `Student` to manage your achievements during the semester, I first have to think about what data will be relevant for me:\n",
    "\n",
    "* name\n",
    "* matriculation number\n",
    "* field of study\n",
    "* e-mail address\n",
    "* individual achievements during the semester\n",
    "\n",
    "Not relevant are properties like shoe size or eye color.\n",
    "\n",
    "In a further step I have to think about how such objects should be able to interact with their environment (e.g. my program or other objects). So I define the *behavior* of the object. In the example this could be things like\n",
    "\n",
    "* Add new part\n",
    "* Calculate total score\n",
    "* Save data (properties) (e.g. to a file or a database)\n",
    "* Load data (properties) (e.g. from a file or a database).\n",
    "\n",
    "Each \"behavior\" finds expression in a method.\n",
    "\n",
    "All these things must be recorded in the \"blueprint\", i.e. the class definition:"
   ]
  },
  {
   "cell_type": "code",
   "execution_count": null,
   "id": "28af6435",
   "metadata": {},
   "outputs": [],
   "source": [
    "class Student:\n",
    "    \n",
    "    def __init__(self, firstname, lastname, matrnr):\n",
    "        self.firstname = firstname\n",
    "        self.lastname = lastname\n",
    "        self.matrikelnummer = matrnr\n",
    "        self.grades = []"
   ]
  },
  {
   "cell_type": "markdown",
   "id": "ae6a30a9",
   "metadata": {},
   "source": [
    "Here I define a new data type `Student` by specifying how later an object is to be created from this blueprint. For this I use the special method ``__init__()``. This is called automatically after an object has been created from the blueprint. So I use this method to initialize my object. Typically, this is where the properties of an object are set and assigned initial values.\n",
    "\n",
    "Methods, if you will, are functions that are bound to an object. Like functions, methods can have parameters whose names and values are then available within the method. In the case of the ``__init__()`` method, these parameters specify which arguments must be used to create an object. So in this particular case, I need to specify 3 values: ``firstname``, ``lastname``, and ``matrnr``.\n",
    "\n",
    "Like functions, methods have a scope. So the three variables just mentioned are only available within the ``__init__()`` method. If I want to bind the passed values as properties to the object, I have to do this explicitly. The object is referenced via ``self`` in this case. (Note that ``self`` must also be specified as the first parameter of a method).\n",
    "\n",
    "```python\n",
    "self.firstname = firstname\n",
    "```\n",
    "\n",
    "So takes the value of the variable `firstname` and sets it as the value of the object property of the object just created.\n",
    "\n",
    "Let's try this out:"
   ]
  },
  {
   "cell_type": "code",
   "execution_count": null,
   "id": "ff89bbfb",
   "metadata": {},
   "outputs": [],
   "source": [
    "claus = Student('Santa', 'Claus', '020123456')\n",
    "claus.firstname"
   ]
  },
  {
   "cell_type": "markdown",
   "id": "a45f2b04",
   "metadata": {},
   "source": [
    "What has happened  now?\n",
    "\n",
    "1. we have defined above (class Student ...) a new class (and thus a new data type) 'Student'.\n",
    "2. based on this class we have created a new object of type 'Student' and assigned it to the variable 'claus'.\n",
    "    (You can also say: We have created an **instance** of the class `Student`):\n",
    "\n",
    "   ```python\n",
    "   claus = Student('Santa', 'Claus', '020123456')\n",
    "    ```\n",
    "   \n",
    "   From Python's point of view, this is nothing more than creating a string, because\n",
    "   \n",
    "   ```python\n",
    "   firstname = \"Lucija\"\n",
    "   ```\n",
    "   \n",
    "   is nothing else than the shorthand notation for\n",
    "   \n",
    "   ```python\n",
    "   firstname = str(\"Lucija\")\n",
    "   ```\n",
    "   \n",
    "  "
   ]
  },
  {
   "cell_type": "markdown",
   "id": "57493df3",
   "metadata": {},
   "source": [
    "## Object properties \n",
    "\n",
    "We have seen above that we can access certain properties of an object through the defined property name. The property name is separated from the object by a dot (`.`):"
   ]
  },
  {
   "cell_type": "code",
   "execution_count": null,
   "id": "c05e5fcc",
   "metadata": {},
   "outputs": [],
   "source": [
    "claus.firstname"
   ]
  },
  {
   "cell_type": "markdown",
   "id": "e742e016",
   "metadata": {},
   "source": [
    "<div class=\"alert alert-block alert-info\">\n",
    "<b>Exercise Obj-1.1</b>\n",
    "<p>\n",
    "Exercise: Look in the class definition to see which other properties an object of type `Student` has and have them output as `claus`!</p>\n",
    "</div>"
   ]
  },
  {
   "cell_type": "markdown",
   "id": "02d79df2",
   "metadata": {},
   "source": [
    "<div class=\"alert alert-block alert-info\">\n",
    "<b>Exercise Obj-1.2</b>\n",
    "<p>\n",
    "Exercise: Extend the `Student` class in such a way that `email` and `student code` are also created as properties.\n",
    "Then create a Student object for yourself.</div>"
   ]
  },
  {
   "cell_type": "markdown",
   "id": "4e1657ce",
   "metadata": {},
   "source": [
    "### Properties can be overridden\n",
    "\n",
    "In Python you can override the value of an object property:"
   ]
  },
  {
   "cell_type": "code",
   "execution_count": null,
   "id": "537af54c",
   "metadata": {},
   "outputs": [],
   "source": [
    "claus.firstname = 'Dida'\n",
    "claus.firstname"
   ]
  },
  {
   "cell_type": "markdown",
   "id": "361b8862",
   "metadata": {},
   "source": [
    "## Methods\n",
    "\n",
    "As already mentioned, methods are the object's interfaces to the outside world. So methods are used to manipulate an object (i.e. change its properties) or to do something with the properties.\n",
    "\n",
    "In the ``__init__()`` method above, we created a `grades` property as an empty list. The grades for the individual partial performances (homework, exams, ...) should end up in this list. Basically we could do it like this:"
   ]
  },
  {
   "cell_type": "code",
   "execution_count": null,
   "id": "3d042097",
   "metadata": {},
   "outputs": [],
   "source": [
    "claus.grades.append(1)"
   ]
  },
  {
   "cell_type": "markdown",
   "id": "f729122e",
   "metadata": {},
   "source": [
    "But if we want to have a little more control (e.g. only certain people are allowed to enter notes) or something simpler: we only allow certain values as notes, then we have to solve this with a method:"
   ]
  },
  {
   "cell_type": "code",
   "execution_count": null,
   "id": "c125231e",
   "metadata": {},
   "outputs": [],
   "source": [
    "class Student:\n",
    "    \n",
    "    def __init__(self, firstname, lastname, matrnr):\n",
    "        self.firstname = firstname\n",
    "        self.lastname = lastname\n",
    "        self.matrikelnummer = matrnr\n",
    "        self.grades = []\n",
    "        \n",
    "    def add_grade(self, grade):\n",
    "        if grade >= 1 and grade <= 5:\n",
    "            self.grades.append(grade)\n",
    "        else:\n",
    "            raise ValueError(f'Not a valid grade: {grade}')"
   ]
  },
  {
   "cell_type": "markdown",
   "id": "0b5b107f",
   "metadata": {},
   "source": [
    "We have added here a method ``add_grade()`` which, before entering the grade in .grades, checks,\n",
    "whether the value passed is in the allowed range. If an attempt is made to enter an invalid grade, we throw an exception (we haven't handled exceptions yet, but will).\n",
    "\n",
    "Let's try it out:"
   ]
  },
  {
   "cell_type": "code",
   "execution_count": null,
   "id": "1ff83e5d",
   "metadata": {},
   "outputs": [],
   "source": [
    "claus = Student('Santa', 'Claus', '123456789')\n",
    "print(claus.grades)\n",
    "claus.add_grade(2)\n",
    "print(claus.grades)\n",
    "claus.add_grade(1)\n",
    "claus.grades"
   ]
  },
  {
   "cell_type": "markdown",
   "id": "d76e26dc",
   "metadata": {},
   "source": [
    "If we now use a wrong value, we get an error:"
   ]
  },
  {
   "cell_type": "code",
   "execution_count": null,
   "id": "b6b64f3d",
   "metadata": {},
   "outputs": [],
   "source": [
    "claus.add_grade(9)"
   ]
  },
  {
   "cell_type": "markdown",
   "id": "470e7555",
   "metadata": {},
   "source": [
    "Another useful method would be ``compute_final_grade``, which calculates the final grade from the partial grades:"
   ]
  },
  {
   "cell_type": "code",
   "execution_count": null,
   "id": "fa7c65b3",
   "metadata": {},
   "outputs": [],
   "source": [
    "class Student:\n",
    "    \n",
    "    def __init__(self, firstname, lastname, matrnr):\n",
    "        self.firstname = firstname\n",
    "        self.lastname = lastname\n",
    "        self.matrikelnummer = matrnr\n",
    "        self.grades = []\n",
    "        \n",
    "    def add_grade(self, grade):\n",
    "        if grade >= 1 and grade <= 5:\n",
    "            self.grades.append(grade)\n",
    "        else:\n",
    "            raise ValueError(f'Not a valid grade: {grade}')\n",
    "            \n",
    "    def compute_final_grade(self):\n",
    "        if not self.grades:\n",
    "            return 0\n",
    "        return round(sum(self.grades) / len(self.grades))"
   ]
  },
  {
   "cell_type": "markdown",
   "id": "ac9e24ab",
   "metadata": {},
   "source": [
    "Let's try it out:"
   ]
  },
  {
   "cell_type": "code",
   "execution_count": null,
   "id": "5f719358",
   "metadata": {},
   "outputs": [],
   "source": [
    "claus = Student('Santa', 'Claus', '123456789')\n",
    "claus.compute_final_grade()"
   ]
  },
  {
   "cell_type": "code",
   "execution_count": null,
   "id": "ab49b591",
   "metadata": {},
   "outputs": [],
   "source": [
    "claus.add_grade(3)\n",
    "claus.add_grade(2)\n",
    "claus.add_grade(1)\n",
    "claus.add_grade(1)\n",
    "claus.add_grade(4)"
   ]
  },
  {
   "cell_type": "code",
   "execution_count": null,
   "id": "ad42d3fb",
   "metadata": {},
   "outputs": [],
   "source": [
    "claus.compute_final_grade()"
   ]
  },
  {
   "cell_type": "markdown",
   "id": "76eae606",
   "metadata": {},
   "source": [
    "## Further topics\n",
    "\n",
    "Object-oriented programming has the advantage that we can think in relatively simple objects, and do not always have to have the entire program in the head. It offers however still another set of further advantages, which are only briefly touched here.\n",
    "\n",
    "## Inheritance\n",
    "\n",
    "We can always derive specialized classes from existing classes. This procedure is called inheritance, because the derived class *inherits* all the properties and methods of the base class.\n",
    "\n",
    "As a simple example, we could derive from `Student` a specialized class `GuestStudent`, which differs from Student only in that it does not allow grading:"
   ]
  },
  {
   "cell_type": "code",
   "execution_count": null,
   "id": "7c2937f2",
   "metadata": {},
   "outputs": [],
   "source": [
    "class GuestStudent(Student):\n",
    "    \n",
    "    def add_grade(self, grade):\n",
    "        print('Warning: Guest students cannot be graded!')"
   ]
  },
  {
   "cell_type": "markdown",
   "id": "deaf80a7",
   "metadata": {},
   "source": [
    "Let's try it out"
   ]
  },
  {
   "cell_type": "code",
   "execution_count": null,
   "id": "cb313f0a",
   "metadata": {},
   "outputs": [],
   "source": [
    "fairy = GuestStudent('Tooth', 'Fairy', '1234567')\n",
    "fairy.add_grade(4)\n",
    "fairy.compute_final_grade()"
   ]
  },
  {
   "cell_type": "markdown",
   "id": "13223efe",
   "metadata": {},
   "source": [
    "So `GuestStudent` is a `Student` which differs from the base object only in a few properties and/or methods: When we call add_grade(), the grade is not set, but a warning is issued.\n",
    "\n",
    "Python knows that there is a specialization here and we can even query that:"
   ]
  },
  {
   "cell_type": "code",
   "execution_count": null,
   "id": "23edeb6b",
   "metadata": {},
   "outputs": [],
   "source": [
    "claus = Student('Santa', 'Claus', '123456789')\n",
    "fairy = GuestStudent('Tooth', 'Fairy', '1234567')\n",
    "print('Claus: ', type(claus))\n",
    "print('Fairy: ', type(fairy))\n",
    "\n",
    "print(f'Is Claus a student? -> {isinstance(claus, Student)}')\n",
    "print(f'Is Fairy a student? -> {isinstance(fairy, Student)}')"
   ]
  },
  {
   "cell_type": "markdown",
   "id": "d81cc959",
   "metadata": {},
   "source": [
    "We see that `claus` and `fairy` have different data types. But since `GuestStudent` is derived from `Student` (specialization), automatically every `GuestStudent` is also a `Student`."
   ]
  },
  {
   "cell_type": "markdown",
   "id": "54caafe0",
   "metadata": {},
   "source": [
    "<div class=\"alert alert-block alert-info\">\n",
    "<b>Exercise Obj-2</b>\n",
    "<p>\n",
    "Exercise: Create a  `Person` class that will have an ``__init__()`` method with properties self, name and age. Create another method ``introduction()`` that will give out an introduction such as \"Hello, my name is ___\". Assign the object Person to a variable and try out the introduction method. .</div>"
   ]
  },
  {
   "cell_type": "markdown",
   "id": "e7e0bd86",
   "metadata": {},
   "source": [
    "## For those who want to learn more:"
   ]
  },
  {
   "cell_type": "markdown",
   "id": "1e9932dd",
   "metadata": {},
   "source": [
    "## Encapsulation\n",
    "\n",
    "By *encapsulation* one understands the principle that in an object properties can create, which one can \"see\" and/or change only within the object. The only access to such properties is then possible only over methods, where the access can be limited or completely prevented.\n",
    "\n",
    "This prevents anyone from maliciously or unintentionally modifying data. In the summer semester we will deal with this in more detail."
   ]
  },
  {
   "cell_type": "markdown",
   "id": "fc25106c",
   "metadata": {},
   "source": [
    "## Polymorphism\n",
    "\n",
    "By *polymorphism* we mean that different objects provide similar interfaces, and thus can be treated in the same way. An example of this would be if we write our own types for geometric shapes (circle, rectangle, triangle), making sure that each of these classes provides, for example, a get_area() method that returns the area of the shape. "
   ]
  },
  {
   "cell_type": "markdown",
   "id": "e4b65bf8",
   "metadata": {},
   "source": [
    "## More in-depth literature on this section\n",
    "\n",
    "\n",
    "* Python Tutorial: Chapters 9.1 - 9.6\n",
    "\t(http://docs.python.org/3/tutorial/classes.html)\n",
    "\n",
    "* Downey: \n",
    "\t* Chapter 15: Classes and objects\n",
    "\t  (http://www.greenteapress.com/thinkpython/html/thinkpython016.html)\n",
    "\t* Chapter 16: Classes and functions\n",
    "\t  (http://www.greenteapress.com/thinkpython/html/thinkpython017.html)\n",
    "\t* Chapter 17: Classes and methods\n",
    "\t  (http://www.greenteapress.com/thinkpython/html/thinkpython018.html)\n",
    "\t* Chapter 18: Inheritance\n",
    "\t  (http://www.greenteapress.com/thinkpython/html/thinkpython019.html)"
   ]
  },
  {
   "cell_type": "code",
   "execution_count": null,
   "id": "0c6c1999",
   "metadata": {},
   "outputs": [],
   "source": []
  }
 ],
 "metadata": {
  "kernelspec": {
   "display_name": "Python 3 (ipykernel)",
   "language": "python",
   "name": "python3"
  },
  "language_info": {
   "codemirror_mode": {
    "name": "ipython",
    "version": 3
   },
   "file_extension": ".py",
   "mimetype": "text/x-python",
   "name": "python",
   "nbconvert_exporter": "python",
   "pygments_lexer": "ipython3",
   "version": "3.9.7"
  }
 },
 "nbformat": 4,
 "nbformat_minor": 5
}
