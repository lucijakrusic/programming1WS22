{
 "cells": [
  {
   "cell_type": "markdown",
   "id": "8268987c",
   "metadata": {},
   "source": [
    "### 1. Which datatype does the following value have?\n",
    "\n",
    "  <i> False <i>"
   ]
  },
  {
   "cell_type": "code",
   "execution_count": null,
   "id": "b406d307",
   "metadata": {},
   "outputs": [],
   "source": [
    "type(False)"
   ]
  },
  {
   "cell_type": "markdown",
   "id": "32577d9c",
   "metadata": {},
   "source": [
    "### 2. Which datatype does the following value have?\n",
    "\n",
    "  '153.12'"
   ]
  },
  {
   "cell_type": "code",
   "execution_count": null,
   "id": "b3fb7217",
   "metadata": {},
   "outputs": [],
   "source": [
    "type('153.12')"
   ]
  },
  {
   "cell_type": "markdown",
   "id": "591530fe",
   "metadata": {},
   "source": [
    "### 3. What does the following expression ouput?\n",
    "\n",
    "Write a one liner to solve this problem:\n",
    "\n",
    "Replace the word 'cold' with 'comfortable' in the following string:\n",
    "\n",
    "string = 'I am feeling cold.'\n",
    "\n"
   ]
  },
  {
   "cell_type": "code",
   "execution_count": null,
   "id": "23771ad2",
   "metadata": {},
   "outputs": [],
   "source": [
    "string = 'I am feeling cold.'\n",
    "string.replace('cold', 'comfortable')"
   ]
  },
  {
   "cell_type": "markdown",
   "id": "119902dc",
   "metadata": {},
   "source": [
    "### 4. What is the output of this loop?"
   ]
  },
  {
   "cell_type": "code",
   "execution_count": null,
   "id": "eb94a292",
   "metadata": {},
   "outputs": [],
   "source": [
    "sum = 0\n",
    "for i in range (1,5):\n",
    "    sum += i\n",
    "print(sum)"
   ]
  },
  {
   "cell_type": "markdown",
   "id": "d5547187",
   "metadata": {},
   "source": [
    "### 5. What is the output of this code?"
   ]
  },
  {
   "cell_type": "code",
   "execution_count": null,
   "id": "a5874a5b",
   "metadata": {},
   "outputs": [],
   "source": [
    "text = 'This quiz is easy peasy lemon squeezy.'\n",
    "i = 0\n",
    "while text[i] != 'p':\n",
    "    print(text[i], end='')\n",
    "    i += 1"
   ]
  },
  {
   "cell_type": "markdown",
   "id": "f7284610",
   "metadata": {},
   "source": [
    "### 6. What is the output of this code?\n"
   ]
  },
  {
   "cell_type": "code",
   "execution_count": null,
   "id": "009bff19",
   "metadata": {},
   "outputs": [],
   "source": [
    "string = 'Santa Claus'\n",
    "string[2:7]"
   ]
  },
  {
   "cell_type": "markdown",
   "id": "7d4a1fcd",
   "metadata": {},
   "source": [
    "### 7. What is the output of this loop?\n"
   ]
  },
  {
   "cell_type": "code",
   "execution_count": null,
   "id": "a06b646f",
   "metadata": {},
   "outputs": [],
   "source": [
    "registrations = ['Anton', 'Otto', 'Anna']\n",
    "if len(registrations) <= 0:\n",
    "    print('cancelled')\n",
    "elif len(registrations) > 6:\n",
    "    print('full')\n",
    "else:\n",
    "    print('available')"
   ]
  },
  {
   "cell_type": "markdown",
   "id": "2d087ff1",
   "metadata": {},
   "source": [
    "### 8. In the following list of lists, replace the (one!) value 'cous cous' with 'pizza'! (Assuming that you know at which position 'pizza' is -- so you don't need to determine the position first!)\n",
    "\n"
   ]
  },
  {
   "cell_type": "code",
   "execution_count": null,
   "id": "b7466407",
   "metadata": {},
   "outputs": [],
   "source": [
    "foods = [\n",
    "\n",
    "    ['beans', 'eggs', 'toast'],\n",
    "\n",
    "    ['pasta', 'cous cous', 'schnitzel'],\n",
    "\n",
    "    ['salad', 'shashuka', 'lasagna']\n",
    "\n",
    "]"
   ]
  },
  {
   "cell_type": "code",
   "execution_count": null,
   "id": "4e8dab4d",
   "metadata": {},
   "outputs": [],
   "source": [
    "foods[1][1] = 'pizza'\n",
    "foods"
   ]
  },
  {
   "cell_type": "markdown",
   "id": "fcf43ac1",
   "metadata": {},
   "source": [
    "### 9. Write a few lines of code that: Opens the imaginary file \"text_file.txt\" and adds the string \"Santa Claus\" to the end of it.\n",
    "\n"
   ]
  },
  {
   "cell_type": "code",
   "execution_count": null,
   "id": "737b03bc",
   "metadata": {},
   "outputs": [],
   "source": [
    "with open ('test_file.txt', 'a', encoding ='utf8') as fh:\n",
    "    fh.write('Santa Claus')"
   ]
  },
  {
   "cell_type": "markdown",
   "id": "988e9033",
   "metadata": {},
   "source": [
    "###  10. Write a few lines of code that:\n",
    "\n",
    "* creates variables 'a' and 'b' and assignes numerical values to them\n",
    "* checks if b is bigger than a and if so prints 'b is greater than a'\n",
    "* checks if a is equal to b , and if so prints 'a and b are equal'\n",
    "* otherwise prints 'a is greater than b'\n",
    "\n"
   ]
  },
  {
   "cell_type": "code",
   "execution_count": null,
   "id": "a937e480",
   "metadata": {},
   "outputs": [],
   "source": [
    "a = 5\n",
    "b = 10\n",
    "\n",
    "if b > a:\n",
    "    print ('b is greater than a')\n",
    "elif b == a:\n",
    "    print ('a and b are equal')\n",
    "else:\n",
    "    print ('a is greater than b')"
   ]
  },
  {
   "cell_type": "code",
   "execution_count": null,
   "id": "a88ca819",
   "metadata": {},
   "outputs": [],
   "source": []
  }
 ],
 "metadata": {
  "kernelspec": {
   "display_name": "Python 3 (ipykernel)",
   "language": "python",
   "name": "python3"
  },
  "language_info": {
   "codemirror_mode": {
    "name": "ipython",
    "version": 3
   },
   "file_extension": ".py",
   "mimetype": "text/x-python",
   "name": "python",
   "nbconvert_exporter": "python",
   "pygments_lexer": "ipython3",
   "version": "3.9.7"
  }
 },
 "nbformat": 4,
 "nbformat_minor": 5
}
