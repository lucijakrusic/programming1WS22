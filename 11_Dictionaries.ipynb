{
 "cells": [
  {
   "cell_type": "markdown",
   "id": "f47bb4af",
   "metadata": {},
   "source": [
    "# Dictionaries\n",
    "\n",
    "Dictionaries, which in other programming languages are also called *Maps*, *Hashtables* or *Associative Arrays*, are one of the most important data types in Python. In a dictionary\n",
    "each value is referenced by a key. So, each entry consists of a key and its associated value.\n",
    "\n",
    "<img src=\"img/dict.svg\" alt=\"Dictionary\" style=\"height: 120px\">\n",
    "\n",
    "A dictionary is a powerful and flexible tool for caching and retrieving data very quickly.\n",
    "and find it again very quickly.\n",
    "\n",
    "Dictionaries can be extended and shortened at any time. As with lists, the\n",
    "values stored in a dictionary can be overwritten. Thus, dictionaries belong to the mutable data types.\n",
    "\n",
    "With Python 3.6 the type dictionary was newly implemented, whereby (at least internally) the\n",
    "internally) the order of the elements in a dictionary remains stable. This is not guaranteed for older versions.\n"
   ]
  },
  {
   "cell_type": "markdown",
   "id": "0cd625cc",
   "metadata": {},
   "source": [
    "## Intro"
   ]
  },
  {
   "cell_type": "markdown",
   "id": "3c0df5c8",
   "metadata": {},
   "source": [
    "### Creating and filling a dictionary.\n",
    "\n",
    "An empty dictionary is created like this:"
   ]
  },
  {
   "cell_type": "code",
   "execution_count": 1,
   "id": "5f361328",
   "metadata": {},
   "outputs": [],
   "source": [
    "phone_numbers = {}"
   ]
  },
  {
   "cell_type": "markdown",
   "id": "efcb9d76",
   "metadata": {},
   "source": [
    "so, <b>values</b> and <b>keys</b> can be added afterwards"
   ]
  },
  {
   "cell_type": "code",
   "execution_count": 2,
   "id": "dba8a7bf",
   "metadata": {},
   "outputs": [
    {
     "data": {
      "text/plain": [
       "{'Santa': '0316 123456', 'Maus': '0664 345678', 'Willy': '0660 987654'}"
      ]
     },
     "execution_count": 2,
     "metadata": {},
     "output_type": "execute_result"
    }
   ],
   "source": [
    "phone_numbers['Santa'] = '0316 123456'\n",
    "phone_numbers['Maus'] = '0664 345678'\n",
    "phone_numbers['Willy'] = '0660 987654'\n",
    "\n",
    "phone_numbers"
   ]
  },
  {
   "cell_type": "markdown",
   "id": "dbd84338",
   "metadata": {},
   "source": [
    "You can also create the key-value pairs directly when creating the dictionary:"
   ]
  },
  {
   "cell_type": "code",
   "execution_count": 3,
   "id": "af0e26bb",
   "metadata": {},
   "outputs": [
    {
     "data": {
      "text/plain": [
       "{'Santa': '0316 123456', 'Maus': '0664 345678', 'Willy': '0660 987654'}"
      ]
     },
     "execution_count": 3,
     "metadata": {},
     "output_type": "execute_result"
    }
   ],
   "source": [
    "phone_numbers = {\n",
    "    'Santa': '0316 123456',\n",
    "    'Maus': '0664 345678',\n",
    "    'Willy': '0660 987654'\n",
    "}\n",
    "phone_numbers"
   ]
  },
  {
   "cell_type": "markdown",
   "id": "7fa6b884",
   "metadata": {},
   "source": [
    "<div class=\"alert alert-block alert-info\">\n",
    "<b>Exercise Dict-1</b>\n",
    "<p>\n",
    "Create a dictionary containing 5 English words and their definitions (Google).\n",
    "</p>"
   ]
  },
  {
   "cell_type": "code",
   "execution_count": null,
   "id": "15b2b280",
   "metadata": {},
   "outputs": [],
   "source": []
  },
  {
   "cell_type": "markdown",
   "id": "967504bb",
   "metadata": {},
   "source": [
    "### Keys - duplicates not allowed"
   ]
  },
  {
   "cell_type": "markdown",
   "id": "5bb32d71",
   "metadata": {},
   "source": [
    "A key can only be used once in a dictionary. If it is used a second time, the original value is overwritten."
   ]
  },
  {
   "cell_type": "code",
   "execution_count": 5,
   "id": "ff48ee02",
   "metadata": {},
   "outputs": [
    {
     "name": "stdout",
     "output_type": "stream",
     "text": [
      "0316 123456\n"
     ]
    },
    {
     "data": {
      "text/plain": [
       "{'Santa': 'new number', 'Maus': '0664 345678', 'Willy': '0660 987654'}"
      ]
     },
     "execution_count": 5,
     "metadata": {},
     "output_type": "execute_result"
    }
   ],
   "source": [
    "print(phone_numbers['Santa'])\n",
    "phone_numbers['Santa'] = 'new number'\n",
    "phone_numbers"
   ]
  },
  {
   "cell_type": "markdown",
   "id": "169790d0",
   "metadata": {},
   "source": [
    "Strings are mostly used as key. However, dictionaries allow any immutable data type as a key. You can also use integers, floats or tuples as keys, for example. However, changeable data types such as lists, sets or dictionaries are not permitted as keys."
   ]
  },
  {
   "cell_type": "code",
   "execution_count": 6,
   "id": "15b97d7a",
   "metadata": {},
   "outputs": [
    {
     "name": "stdout",
     "output_type": "stream",
     "text": [
      "{42: 'Solution', 3.14: 'Pi'}\n"
     ]
    }
   ],
   "source": [
    "my_dict = {}\n",
    "\n",
    "my_dict[42] = 'Solution'\n",
    "my_dict[3.14] = 'Pi'\n",
    "print(my_dict)"
   ]
  },
  {
   "cell_type": "markdown",
   "id": "bca167a4",
   "metadata": {},
   "source": [
    "Here is an invalid data type as a key:"
   ]
  },
  {
   "cell_type": "code",
   "execution_count": 8,
   "id": "ae8ddfaf",
   "metadata": {},
   "outputs": [
    {
     "ename": "TypeError",
     "evalue": "unhashable type: 'list'",
     "output_type": "error",
     "traceback": [
      "\u001b[1;31m---------------------------------------------------------------------------\u001b[0m",
      "\u001b[1;31mTypeError\u001b[0m                                 Traceback (most recent call last)",
      "\u001b[1;32m~\\AppData\\Local\\Temp/ipykernel_19944/1919768706.py\u001b[0m in \u001b[0;36m<module>\u001b[1;34m\u001b[0m\n\u001b[1;32m----> 1\u001b[1;33m \u001b[0mmy_dict\u001b[0m\u001b[1;33m[\u001b[0m\u001b[1;33m[\u001b[0m\u001b[1;34m'a'\u001b[0m\u001b[1;33m,\u001b[0m \u001b[1;34m'b'\u001b[0m\u001b[1;33m,\u001b[0m \u001b[1;34m'c'\u001b[0m\u001b[1;33m]\u001b[0m\u001b[1;33m]\u001b[0m \u001b[1;33m=\u001b[0m \u001b[1;34m'abc'\u001b[0m\u001b[1;33m\u001b[0m\u001b[1;33m\u001b[0m\u001b[0m\n\u001b[0m",
      "\u001b[1;31mTypeError\u001b[0m: unhashable type: 'list'"
     ]
    }
   ],
   "source": [
    "my_dict[['a', 'b', 'c']] = 'abc'"
   ]
  },
  {
   "cell_type": "markdown",
   "id": "78536466",
   "metadata": {},
   "source": [
    "<div class=\"alert alert-block alert-info\">\n",
    "<b>Exercise Dict-3</b>\n",
    "<p>\n",
    "Replace a value from the dictionary from exercise Dict-1 with \n",
    "    another term!\n",
    "</p>\n",
    "</div>"
   ]
  },
  {
   "cell_type": "code",
   "execution_count": null,
   "id": "bb91f5f6",
   "metadata": {},
   "outputs": [],
   "source": []
  },
  {
   "cell_type": "markdown",
   "id": "4bb4f08b",
   "metadata": {},
   "source": [
    "## Get the number of elements\n",
    "\n",
    "The `len()` method, which we have already seen for some other data types, also works for dictionaries. It determines the number of key-value pairs in the dict."
   ]
  },
  {
   "cell_type": "code",
   "execution_count": 9,
   "id": "2e6a140f",
   "metadata": {},
   "outputs": [
    {
     "data": {
      "text/plain": [
       "3"
      ]
     },
     "execution_count": 9,
     "metadata": {},
     "output_type": "execute_result"
    }
   ],
   "source": [
    "phone_numbers = {\n",
    "    'Santa': '0316 123456',\n",
    "    'Maus': '0664 345678',\n",
    "    'Willy': '0660 987654'\n",
    "}\n",
    "len(phone_numbers)"
   ]
  },
  {
   "cell_type": "markdown",
   "id": "2103aeac",
   "metadata": {},
   "source": [
    "## Iterate over a dictionary with a for loop"
   ]
  },
  {
   "cell_type": "markdown",
   "id": "59c0cdf0",
   "metadata": {},
   "source": [
    "The well-known `for ... in` loop also works with dictionaries."
   ]
  },
  {
   "cell_type": "code",
   "execution_count": 10,
   "id": "da1f56dd",
   "metadata": {},
   "outputs": [
    {
     "name": "stdout",
     "output_type": "stream",
     "text": [
      "Santa\n",
      "Maus\n",
      "Willy\n"
     ]
    }
   ],
   "source": [
    "for key in phone_numbers:\n",
    "    print(key)"
   ]
  },
  {
   "cell_type": "markdown",
   "id": "8e2156cd",
   "metadata": {},
   "source": [
    "As we can see, `for ... in` returns one key after the other. We can read out the corresponding value in a known way:"
   ]
  },
  {
   "cell_type": "code",
   "execution_count": 12,
   "id": "16be2ba7",
   "metadata": {},
   "outputs": [
    {
     "name": "stdout",
     "output_type": "stream",
     "text": [
      "Santa -> 0316 123456\n",
      "Maus -> 0664 345678\n",
      "Willy -> 0660 987654\n"
     ]
    }
   ],
   "source": [
    "for key in phone_numbers:\n",
    "    print(f\"{key} -> {phone_numbers[key]}\")"
   ]
  },
  {
   "cell_type": "markdown",
   "id": "3c698d74",
   "metadata": {},
   "source": [
    "### The items() method\n",
    "Alternatively, we can use the `items()` method, which returns each key and value as a tuple:"
   ]
  },
  {
   "cell_type": "code",
   "execution_count": 13,
   "id": "891e0a4d",
   "metadata": {},
   "outputs": [
    {
     "name": "stdout",
     "output_type": "stream",
     "text": [
      "Santa -> 0316 123456\n",
      "Maus -> 0664 345678\n",
      "Willy -> 0660 987654\n"
     ]
    }
   ],
   "source": [
    "for key, value in phone_numbers.items():\n",
    "    print('{} -> {}'.format(key, value))"
   ]
  },
  {
   "cell_type": "markdown",
   "id": "f5f07ec6",
   "metadata": {},
   "source": [
    "### The values() method\n",
    "\n",
    "If we are not interested in the keys, we can only iterate over the values in a loop:"
   ]
  },
  {
   "cell_type": "code",
   "execution_count": 14,
   "id": "a421e18c",
   "metadata": {},
   "outputs": [
    {
     "name": "stdout",
     "output_type": "stream",
     "text": [
      "0316 123456\n",
      "0664 345678\n",
      "0660 987654\n"
     ]
    }
   ],
   "source": [
    "for value in phone_numbers.values():\n",
    "    print(value)"
   ]
  },
  {
   "cell_type": "markdown",
   "id": "83017a52",
   "metadata": {},
   "source": [
    "<div class=\"alert alert-block alert-info\">\n",
    "<b>Exercise Dict-4</b>\n",
    "<p>\n",
    "Iterate through the dictionary from Exercise Dict-1. For each entry in your dictionary, output a line that (example) should look like this:\n",
    "<pre>\n",
    "'dictionary' is a 'a book or electronic resource that lists the words of a language (typically in alphabetical order) and gives their meaning.'\n",
    "</pre>\n",
    "</p>\n",
    "</div>"
   ]
  },
  {
   "cell_type": "markdown",
   "id": "4fe554c9",
   "metadata": {},
   "source": [
    "## A dictionary as counter\n",
    "We can use a dictionary to count the names in the names file. Let's read the names back from the file first:"
   ]
  },
  {
   "cell_type": "code",
   "execution_count": 17,
   "id": "290d8e48",
   "metadata": {},
   "outputs": [],
   "source": [
    "with open('data/names/names_short.txt', encoding='utf-8') as fh:\n",
    "    clean_names = [line.rstrip() for line in fh.readlines()]"
   ]
  },
  {
   "cell_type": "markdown",
   "id": "e11935ee",
   "metadata": {},
   "source": [
    "The `clean_names` list now contains all names read from the file. In the next step\n",
    "we create an empty dictionary. Then we iterate through the list of first names. We use the dictionary to count for each key (i.e. for each first name) how many times it appears (i.e. key is the first name, value is a number representing the number of occurrences of the name):"
   ]
  },
  {
   "cell_type": "code",
   "execution_count": 19,
   "id": "976bfd1a",
   "metadata": {},
   "outputs": [
    {
     "name": "stdout",
     "output_type": "stream",
     "text": [
      "{'Astrid': 1, 'Ines': 1, 'Christoph': 3, 'Markus': 1, 'Çınar': 1, 'Đželila': 1, 'Niklas': 1, 'Anna': 3, 'Stefanie': 1, 'Raphael': 1, 'Anna-Lena': 1, 'Silvia': 1, 'Julian': 1, 'Simon': 2, 'Katharina': 1, 'Michael': 2, 'Dominik': 1, 'Maria': 2, 'Kevin': 1, 'Bianca': 1, 'Thomas': 4, 'Nora': 1, 'Manuel': 4, 'Selina': 2, 'Gabriel': 1, 'Daniel': 2, 'Nina': 2, 'Fabio': 1, 'Theresa': 1, 'Carina': 2, 'Philipp': 1, 'Lukas': 2, 'Wolfgang': 1, 'Doris': 1, 'Muhammed': 1, 'Lisa-Marie': 1, 'Jessica': 1, 'Florian': 3, 'Martin': 1, 'Oliver': 2, 'Gregor': 1, 'Helmut': 1, 'Matteo': 1, 'David': 2, 'Marlene': 1, 'Vanessa': 1, 'Lea': 2, 'Jan': 1, 'Béla': 1, 'Verena': 2, 'Björn': 1, 'Tobias': 1, 'Denise': 1, 'Emma': 1, 'Sarah': 1, 'Janine': 1, 'Georg': 1, 'Lorenz': 1, 'Caroline': 1, 'Laura': 1, 'Felix': 1, 'Peter': 1, 'Sandra': 1, 'Julia': 1, 'Sophie': 1, 'Jacqueline': 1, 'Sebastian': 1, 'Matthias': 1, 'Patrick': 1, 'Fabian': 2, 'Sabine': 1, 'Josef': 1, 'Lisa': 1, 'Viktoria': 1, 'Emilia': 1}\n"
     ]
    }
   ],
   "source": [
    "name_counter = {}\n",
    "for name in clean_names:\n",
    "    if name in name_counter:  # we saw the name before\n",
    "        name_counter[name] += 1\n",
    "    else:  # new name: create counter with 1\n",
    "        name_counter[name] = 1\n",
    "print(name_counter)        "
   ]
  },
  {
   "cell_type": "markdown",
   "id": "106bf93b",
   "metadata": {},
   "source": [
    "If we are only interested in names that appear at least twice, we can solve it like this:"
   ]
  },
  {
   "cell_type": "code",
   "execution_count": 22,
   "id": "749a5d0d",
   "metadata": {},
   "outputs": [
    {
     "name": "stdout",
     "output_type": "stream",
     "text": [
      "Christoph appears 3 times\n",
      "Anna appears 3 times\n",
      "Simon appears 2 times\n",
      "Michael appears 2 times\n",
      "Maria appears 2 times\n",
      "Thomas appears 4 times\n",
      "Manuel appears 4 times\n",
      "Selina appears 2 times\n",
      "Daniel appears 2 times\n",
      "Nina appears 2 times\n",
      "Carina appears 2 times\n",
      "Lukas appears 2 times\n",
      "Florian appears 3 times\n",
      "Oliver appears 2 times\n",
      "David appears 2 times\n",
      "Lea appears 2 times\n",
      "Verena appears 2 times\n",
      "Fabian appears 2 times\n"
     ]
    }
   ],
   "source": [
    "for name in name_counter:\n",
    "    if name_counter[name] > 1:\n",
    "        print(f'{name} appears {name_counter[name]} times')"
   ]
  },
  {
   "cell_type": "markdown",
   "id": "2f217a4f",
   "metadata": {},
   "source": [
    "## Nested dictionaries\n",
    "\n",
    "Just as an element of a list can again be a list, in a dictionary the value assigned to a key can again be a dictionary:"
   ]
  },
  {
   "cell_type": "code",
   "execution_count": 25,
   "id": "51ac3cc0",
   "metadata": {},
   "outputs": [],
   "source": [
    "colors = {\n",
    "  'red': { \n",
    "      'de': 'rot ' , \n",
    "      'fr': 'rouge ' , \n",
    "      'it': 'rosso '\n",
    "  } ,\n",
    "  'blue': { \n",
    "      'de': 'blau' , \n",
    "      'fr': 'bleu' , \n",
    "      'it': 'blu'\n",
    "  } ,\n",
    "  'yellow': { \n",
    "      'de': 'gelb' , \n",
    "      'fr': 'jaune' , \n",
    "      'it': 'giallo'\n",
    "  }\n",
    "}"
   ]
  },
  {
   "cell_type": "markdown",
   "id": "0f2d3c89",
   "metadata": {},
   "source": [
    "As already known from the lists, we can (with difficulty) access a single translation like this:"
   ]
  },
  {
   "cell_type": "code",
   "execution_count": 26,
   "id": "e687be7e",
   "metadata": {},
   "outputs": [
    {
     "data": {
      "text/plain": [
       "'bleu'"
      ]
     },
     "execution_count": 26,
     "metadata": {},
     "output_type": "execute_result"
    }
   ],
   "source": [
    "blue_translations = colors['blue']\n",
    "blue_translations['fr']"
   ]
  },
  {
   "cell_type": "markdown",
   "id": "9f03698e",
   "metadata": {},
   "source": [
    "Normally, however, the much more compact notation is used:"
   ]
  },
  {
   "cell_type": "code",
   "execution_count": 28,
   "id": "b6823628",
   "metadata": {},
   "outputs": [
    {
     "data": {
      "text/plain": [
       "'bleu'"
      ]
     },
     "execution_count": 28,
     "metadata": {},
     "output_type": "execute_result"
    }
   ],
   "source": [
    "colors['blue']['fr']"
   ]
  },
  {
   "cell_type": "markdown",
   "id": "8aedd39f",
   "metadata": {},
   "source": [
    "# Literature\n",
    "* https://www.w3schools.com/python/python_dictionaries.asp\n",
    "* https://realpython.com/python-dicts/\n",
    "* https://www.tutorialspoint.com/python/python_dictionary.htm "
   ]
  }
 ],
 "metadata": {
  "kernelspec": {
   "display_name": "Python 3 (ipykernel)",
   "language": "python",
   "name": "python3"
  },
  "language_info": {
   "codemirror_mode": {
    "name": "ipython",
    "version": 3
   },
   "file_extension": ".py",
   "mimetype": "text/x-python",
   "name": "python",
   "nbconvert_exporter": "python",
   "pygments_lexer": "ipython3",
   "version": "3.9.7"
  }
 },
 "nbformat": 4,
 "nbformat_minor": 5
}
