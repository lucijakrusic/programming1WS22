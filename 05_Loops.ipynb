{
 "cells": [
  {
   "cell_type": "markdown",
   "id": "e31432bc",
   "metadata": {},
   "source": [
    "# Loops\n",
    "When programming, one or more statements often need to be repeated. For example, for each element of a sequence (e.g. for each character of a string) do something. For this purpose the `for` loop is best suited."
   ]
  },
  {
   "cell_type": "markdown",
   "id": "adee7f65",
   "metadata": {},
   "source": [
    "## The for loop\n",
    "\n",
    "The `for` loop goes element by element through a data type consisting of several elements and applies the code in the *loop body* to each element. The loop automatically terminates when there are no more elements. \n",
    "\n",
    "In the following example, we output each character of a string by looping in a `for` loop. After the last character, the loop terminates."
   ]
  },
  {
   "cell_type": "code",
   "execution_count": null,
   "id": "a1e4e5ee",
   "metadata": {},
   "outputs": [],
   "source": [
    "sentence = \"I am a sentence.\"\n",
    "for char in sentence:\n",
    "    print(char)"
   ]
  },
  {
   "cell_type": "markdown",
   "id": "916284eb",
   "metadata": {},
   "source": [
    "This construct (`for element in sequence`) works for all data types that are able to supply one element after the other. This is called an **iterable**. Such iterables are numerous in Python. So in this way it is possible to iterate not only through the characters of a string, but also, for example, through the elements of a list, the lines of a file, or simply through a sequence of numbers:"
   ]
  },
  {
   "cell_type": "code",
   "execution_count": null,
   "id": "745b29d1",
   "metadata": {},
   "outputs": [],
   "source": [
    "# the range function creates an object that returns numbers in order from \n",
    "# a certain range: here from 1 (inclusive) to 11 (exclusive)\n",
    "# What exactly a function is, we will learn shortly\n",
    "\n",
    "for i in range(1, 11):\n",
    "    print(i)"
   ]
  },
  {
   "cell_type": "markdown",
   "id": "dc539822",
   "metadata": {},
   "source": [
    "<div class=\"alert alert-block alert-info\">\n",
    "<b>Exercise 1<b>\n",
    "\n",
    "Find the sum of all numbers between 1 and 50000 in a loop\n",
    "\n",
    "</div>    "
   ]
  },
  {
   "cell_type": "code",
   "execution_count": null,
   "id": "e2a01840",
   "metadata": {},
   "outputs": [],
   "source": []
  },
  {
   "cell_type": "markdown",
   "id": "4e5b436c",
   "metadata": {},
   "source": [
    "### Digression: Python and indentations\n"
   ]
  },
  {
   "cell_type": "markdown",
   "id": "7299cf37",
   "metadata": {},
   "source": [
    "Here we have seen for the first time a peculiarity of Python, which is not not all programmers are happy about: Logically related blocks are marked by indentations.\n",
    "\n",
    "~~~\n",
    "for i in range(1, 11):\n",
    "    print(i)\n",
    "~~~\n",
    "\n",
    "By the colon at the end of the first line and the indentation of `print(i)` the interpreter knows that this is the loop body, i.e. statement(s) to be executed at each loop pass.\n",
    "\n",
    "Recommended indentation is 4 spaces, but basically any number of spaces will work. Alternatively, tab indentations can be used (not recommended). The only important thing is that you never mix tabs and spaces, because you may not be able to distinguish them in the editor, but Python balks at them. But you have this problem only with simple editors. Integrated development environments like PyCharm or VS Code, but also specialized tools like Jupyter Notebooks, automatically take care of consistency here.\n",
    "\n",
    "Most other programming languages use curly braces instead of indentations. Here is the same example in JavaScript:\n",
    "\n",
    "~~~\n",
    "for(i=0; i<11; i++) {\n",
    "    console.log(i);\n",
    "}\n",
    "~~~\n",
    "\n",
    "Here the indentation is not mandatory. You could also write it like this:\n",
    "\n",
    "~~~\n",
    "for(i=0; i<11; i++) {\n",
    "console.log(i);\n",
    "}\n",
    "~~~\n",
    "\n",
    "or even like this:\n",
    "\n",
    "~~~\n",
    "for(i=0; i<11; i++) { console.log(i); }\n",
    "~~~\n",
    "\n",
    "From experience, especially beginners tend not to care about the formatting of the source code, because they are happy that the code works at all. But this makes the traceability of the code massively more difficult.\n",
    "\n",
    "Therefore, I personally welcome the compulsion to use clean indentations in Python. On the one hand, it forces you to write cleanly formatted code, and on the other hand, Python code is usually easier to read because of the indentations and the lack of curly braces."
   ]
  },
  {
   "cell_type": "markdown",
   "id": "1efe6967",
   "metadata": {},
   "source": [
    "### Loop counter\n",
    "Sometimes you need a running counter in addition to the values, i.e. the number of the current iteration. In most programming languages, you would do this (``i`` here is the counter, which is incremented by 1 at each loop pass):"
   ]
  },
  {
   "cell_type": "code",
   "execution_count": null,
   "id": "1428fc6f",
   "metadata": {},
   "outputs": [],
   "source": [
    "i = 0\n",
    "for j in range(50, 60):\n",
    "    print(i, j)\n",
    "    i += 1"
   ]
  },
  {
   "cell_type": "markdown",
   "id": "a4857f7e",
   "metadata": {},
   "source": [
    "In Python this also works, but it is more elegant with the `enumerate()` function:"
   ]
  },
  {
   "cell_type": "code",
   "execution_count": null,
   "id": "c798442c",
   "metadata": {},
   "outputs": [],
   "source": [
    "for i, j in enumerate(range(50, 60)):\n",
    "    print(i, j)"
   ]
  },
  {
   "cell_type": "markdown",
   "id": "c8f08c4e",
   "metadata": {},
   "source": [
    "``enumerate(iterable)`` returns two values for each loop pass:\n",
    "\n",
    "* the counter (i.e. how many iterations, starting with 0)\n",
    "* the actual value from the iterable"
   ]
  },
  {
   "cell_type": "markdown",
   "id": "f2d3e232",
   "metadata": {},
   "source": [
    "### Nested loops\n",
    "You can nest two (or more - however, this is usually not recommended because it may create a huge number of loop passes) loops inside each other. This allows, for example, to combine all elements from 2 sequences. For counters in loops the variable names ``i``, ``j`` and ``k`` have become common (which should not be used for anything else than counters!)."
   ]
  },
  {
   "cell_type": "code",
   "execution_count": null,
   "id": "81ad450a",
   "metadata": {},
   "outputs": [],
   "source": [
    "for i in range(1, 11):\n",
    "    for j in range(1, 11):\n",
    "        print(f'{j} x {i} = {i*j}')"
   ]
  },
  {
   "cell_type": "markdown",
   "id": "883fe482",
   "metadata": {},
   "source": [
    "<div class=\"alert alert-block alert-info\">\n",
    "<b>Exercise 2a</b><p>Think of which steps happen while a nested loop is looping.</p></div>"
   ]
  },
  {
   "cell_type": "markdown",
   "id": "9ca759a4",
   "metadata": {},
   "source": [
    "**Note**: This ability to imagine what will happen during the program run is essential! So already now always try to understand what will happen in your program. Later on we will get to know ways to \"see\" what a program is doing."
   ]
  },
  {
   "cell_type": "markdown",
   "id": "89a7a38c",
   "metadata": {},
   "source": [
    "### Deep nesting\n",
    "\n",
    "Here is another small example to show how quickly a large number of loop passes can occur when nesting loops. Try yourself to slowly increase the value of the variable `loops_per_loop`. e.g. from 10 to 100, 200, 300 and so on. Reminder: as long as a `*` is displayed next to the cell, Python is busy looping. With \"Kernel -> Interrupt\" you can abort the process if it takes too long."
   ]
  },
  {
   "cell_type": "code",
   "execution_count": null,
   "id": "40ef03a5",
   "metadata": {},
   "outputs": [],
   "source": [
    "loops_per_loop = 10 # num of loops per loop\n",
    "\n",
    "counter = 0\n",
    "for i in range(loops_per_loop):\n",
    "    for j in range(loops_per_loop):\n",
    "        for k in range(loops_per_loop):\n",
    "            counter += 1\n",
    "print(\"{} Loop passes\".format(counter))            \n",
    "    "
   ]
  },
  {
   "cell_type": "markdown",
   "id": "3e9cc928",
   "metadata": {},
   "source": [
    "<div class=\"alert alert-block alert-info\">\n",
    "<b>Exercise 3</b>\n",
    "<p>Make the value of the variable `loops_per_loop` higher until the program takes a noticably long time.</p>\n",
    "</div>"
   ]
  },
  {
   "cell_type": "markdown",
   "id": "05fbe1ad",
   "metadata": {},
   "source": [
    "## The while loop\n",
    "While the `for` loop iterates over all elements of a sequence (or, more generally, an iterable), the `while` loop checks a condition on each loop pass and terminates when that condition is no longer satisfied. \n",
    "\n",
    "In the following example, the condition is that the current character must not be `'x'`. So as soon as the compared character is `'x', the `while` loop is terminated:"
   ]
  },
  {
   "cell_type": "code",
   "execution_count": null,
   "id": "db8f4fc4",
   "metadata": {},
   "outputs": [],
   "source": [
    "text = 'I am very very excited about sleeping a bit.'\n",
    "i = 0\n",
    "while text[i] != 'x':\n",
    "    print(text[i], end='')\n",
    "    i += 1\n",
    "   "
   ]
  },
  {
   "cell_type": "markdown",
   "id": "4d1b9cf2",
   "metadata": {},
   "source": [
    "*Note: The `end=''` in the `print()` function prevents `print()` from inserting a newline character at the end of its output."
   ]
  },
  {
   "cell_type": "markdown",
   "id": "b2403c89",
   "metadata": {},
   "source": [
    "<div class=\"alert alert-block alert-info\">\n",
    "<b>Exercise 4</b>\n",
    "<p>What would happen if we omitted the last line (i += 1)? To do this, think through the first few loop passes.</p>\n",
    "</div>"
   ]
  },
  {
   "cell_type": "markdown",
   "id": "b9102fd8",
   "metadata": {},
   "source": [
    "<div class=\"alert alert-block alert-info\">\n",
    "<b>Exercise 5</b>\n",
    "\n",
    "Write a while loop that outputs all numbers up to the number (previously queried via `input()`).\n",
    "</div>"
   ]
  },
  {
   "cell_type": "markdown",
   "id": "41d0aa13",
   "metadata": {},
   "source": [
    "## Influence loops: break and continue"
   ]
  },
  {
   "cell_type": "markdown",
   "id": "1d44065c",
   "metadata": {},
   "source": [
    "Both `for` and `while` loops can be terminated prematurely with the `break` statement. This is usually connected with a condition (to come). Here as an example a simple addition program that asks for input until a `=` is entered:"
   ]
  },
  {
   "cell_type": "code",
   "execution_count": null,
   "id": "5843e0c9",
   "metadata": {},
   "outputs": [],
   "source": [
    "total = 0\n",
    "while True:  # Runs forever\n",
    "    user_input = input(\"Input number or '=': \")\n",
    "    if user_input == \"=\":  # user has entered '='\n",
    "        break\n",
    "    else:\n",
    "        # normally we should test here if user really entered a number.\n",
    "        # But we do not know how to do so, yet\n",
    "        total += int(user_input)\n",
    "# the next statement is not part of the loop as it is not indented\n",
    "print(total)"
   ]
  },
  {
   "cell_type": "markdown",
   "id": "e909dcff",
   "metadata": {},
   "source": [
    "If there is a `continue` in a loop, the current loop pass is terminated (i.e. everything in the loop body below is ignored) and the next pass is started. Here is an example that outputs only numbers divisible by 7:"
   ]
  },
  {
   "cell_type": "code",
   "execution_count": null,
   "id": "0460922c",
   "metadata": {},
   "outputs": [],
   "source": [
    "for i in range(1, 101):  \n",
    "    if i % 7 != 0:\n",
    "        continue\n",
    "    print(i)"
   ]
  },
  {
   "cell_type": "markdown",
   "id": "587d5890",
   "metadata": {},
   "source": [
    "**If you are tempted to use `continue`, there is almost always a better way to solve the problem. In such a case, think again! Here is a better solution for the last code, without `continue`: (something we'll learn about next time)"
   ]
  },
  {
   "cell_type": "code",
   "execution_count": null,
   "id": "660c9c37",
   "metadata": {},
   "outputs": [],
   "source": [
    "for i in range(100):\n",
    "    if i % 7 == 0:\n",
    "        print(i)"
   ]
  },
  {
   "cell_type": "markdown",
   "id": "76673bdb",
   "metadata": {},
   "source": [
    "or (rather *pythonic*) like this:"
   ]
  },
  {
   "cell_type": "code",
   "execution_count": null,
   "id": "29078685",
   "metadata": {},
   "outputs": [],
   "source": [
    "for i in range(0, 100, 7):\n",
    "    print(i)"
   ]
  },
  {
   "cell_type": "markdown",
   "id": "d61d1cb0",
   "metadata": {},
   "source": [
    "## Literature\n",
    "\n",
    "\n",
    "  * Python Tutorial: \n",
    "\t* `for`:http://docs.python.org/3/tutorial/controlflow.html#for-statements\n",
    "    https://www.w3schools.com/python/python_for_loops.asp \n",
    "    * `while`: https://www.w3schools.com/python/python_while_loops.asp\n",
    "       https://realpython.com/python-while-loop/\n",
    "       https://www.geeksforgeeks.org/python-while-loop/\n",
    "  \n"
   ]
  },
  {
   "cell_type": "code",
   "execution_count": null,
   "id": "6e1a3a5b",
   "metadata": {},
   "outputs": [],
   "source": []
  }
 ],
 "metadata": {
  "kernelspec": {
   "display_name": "Python 3 (ipykernel)",
   "language": "python",
   "name": "python3"
  },
  "language_info": {
   "codemirror_mode": {
    "name": "ipython",
    "version": 3
   },
   "file_extension": ".py",
   "mimetype": "text/x-python",
   "name": "python",
   "nbconvert_exporter": "python",
   "pygments_lexer": "ipython3",
   "version": "3.9.7"
  }
 },
 "nbformat": 4,
 "nbformat_minor": 5
}
