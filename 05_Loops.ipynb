{
 "cells": [
  {
   "cell_type": "markdown",
   "id": "8dbf68f7",
   "metadata": {},
   "source": [
    "# Loops\n",
    "When programming, one or more statements often need to be repeated. For example, for each element of a sequence (e.g. for each character of a string) do something. For this purpose the `for` loop is best suited."
   ]
  },
  {
   "cell_type": "markdown",
   "id": "5bd148ea",
   "metadata": {},
   "source": [
    "## The for loop\n",
    "\n",
    "The `for` loop goes element by element through a data type consisting of several elements and applies the code in the *loop body* to each element. The loop automatically terminates when there are no more elements. \n",
    "\n",
    "In the following example, we output each character of a string by looping in a `for` loop. After the last character, the loop terminates."
   ]
  },
  {
   "cell_type": "code",
   "execution_count": 2,
   "id": "0498bcd8",
   "metadata": {},
   "outputs": [
    {
     "name": "stdout",
     "output_type": "stream",
     "text": [
      "I\n",
      " \n",
      "a\n",
      "m\n",
      " \n",
      "a\n",
      " \n",
      "s\n",
      "e\n",
      "n\n",
      "t\n",
      "e\n",
      "n\n",
      "c\n",
      "e\n",
      ".\n"
     ]
    }
   ],
   "source": [
    "sentence = \"I am a sentence.\"\n",
    "for char in sentence:\n",
    "    print(char)"
   ]
  },
  {
   "cell_type": "markdown",
   "id": "073e7b5c",
   "metadata": {},
   "source": [
    "This construct (`for element in sequence`) works for all data types that are able to supply one element after the other. This is called an **iterable**. Such iterables are numerous in Python. So in this way it is possible to iterate not only through the characters of a string, but also, for example, through the elements of a list, the lines of a file, or simply through a sequence of numbers:"
   ]
  },
  {
   "cell_type": "code",
   "execution_count": 3,
   "id": "72b7b8ad",
   "metadata": {},
   "outputs": [
    {
     "name": "stdout",
     "output_type": "stream",
     "text": [
      "1\n",
      "2\n",
      "3\n",
      "4\n",
      "5\n",
      "6\n",
      "7\n",
      "8\n",
      "9\n",
      "10\n"
     ]
    }
   ],
   "source": [
    "# the range function creates an object that returns numbers in order from \n",
    "# a certain range: here from 1 (inclusive) to 11 (exclusive)\n",
    "# What exactly a function is, we will learn shortly\n",
    "\n",
    "for i in range(1, 11):\n",
    "    print(i)"
   ]
  },
  {
   "cell_type": "markdown",
   "id": "f7ccd61d",
   "metadata": {},
   "source": [
    "<div class=\"alert alert-block alert-info\">\n",
    "<b>Exercise 1<b>\n",
    "\n",
    "Find the sum of all numbers between 1 and 50000 in a loop\n",
    "\n",
    "</div>    "
   ]
  },
  {
   "cell_type": "code",
   "execution_count": null,
   "id": "14f5515c",
   "metadata": {},
   "outputs": [],
   "source": []
  },
  {
   "cell_type": "markdown",
   "id": "47f764be",
   "metadata": {},
   "source": [
    "### Digression: Python and indentations\n"
   ]
  },
  {
   "cell_type": "markdown",
   "id": "11130fd4",
   "metadata": {},
   "source": [
    "Here we have seen for the first time a peculiarity of Python, which is not not all programmers are happy about: Logically related blocks are marked by indentations.\n",
    "\n",
    "~~~\n",
    "for i in range(1, 11):\n",
    "    print(i)\n",
    "~~~\n",
    "\n",
    "By the colon at the end of the first line and the indentation of `print(i)` the interpreter knows that this is the loop body, i.e. statement(s) to be executed at each loop pass.\n",
    "\n",
    "Recommended indentation is 4 spaces, but basically any number of spaces will work. Alternatively, tab indentations can be used (not recommended). The only important thing is that you never mix tabs and spaces, because you may not be able to distinguish them in the editor, but Python balks at them. But you have this problem only with simple editors. Integrated development environments like PyCharm or VS Code, but also specialized tools like Jupyter Notebooks, automatically take care of consistency here.\n",
    "\n",
    "Most other programming languages use curly braces instead of indentations. Here is the same example in JavaScript:\n",
    "\n",
    "~~~\n",
    "for(i=0; i<11; i++) {\n",
    "    console.log(i);\n",
    "}\n",
    "~~~\n",
    "\n",
    "Here the indentation is not mandatory. You could also write it like this:\n",
    "\n",
    "~~~\n",
    "for(i=0; i<11; i++) {\n",
    "console.log(i);\n",
    "}\n",
    "~~~\n",
    "\n",
    "or even like this:\n",
    "\n",
    "~~~\n",
    "for(i=0; i<11; i++) { console.log(i); }\n",
    "~~~\n",
    "\n",
    "From experience, especially beginners tend not to care about the formatting of the source code, because they are happy that the code works at all. But this makes the traceability of the code massively more difficult.\n",
    "\n",
    "Therefore, I personally welcome the compulsion to use clean indentations in Python. On the one hand, it forces you to write cleanly formatted code, and on the other hand, Python code is usually easier to read because of the indentations and the lack of curly braces."
   ]
  },
  {
   "cell_type": "markdown",
   "id": "ddb3e6bf",
   "metadata": {},
   "source": [
    "### Loop counter\n",
    "Sometimes you need a running counter in addition to the values, i.e. the number of the current iteration. In most programming languages, you would do this (``i`` here is the counter, which is incremented by 1 at each loop pass):"
   ]
  },
  {
   "cell_type": "code",
   "execution_count": 8,
   "id": "add0c3e8",
   "metadata": {},
   "outputs": [
    {
     "name": "stdout",
     "output_type": "stream",
     "text": [
      "0 50\n",
      "1 51\n",
      "2 52\n",
      "3 53\n",
      "4 54\n",
      "5 55\n",
      "6 56\n",
      "7 57\n",
      "8 58\n",
      "9 59\n"
     ]
    }
   ],
   "source": [
    "i = 0\n",
    "for j in range(50, 60):\n",
    "    print(i, j)\n",
    "    i += 1"
   ]
  },
  {
   "cell_type": "markdown",
   "id": "34fdafb1",
   "metadata": {},
   "source": [
    "In Python this also works, but it is more elegant with the `enumerate()` function:"
   ]
  },
  {
   "cell_type": "code",
   "execution_count": 9,
   "id": "83d4c3af",
   "metadata": {},
   "outputs": [
    {
     "name": "stdout",
     "output_type": "stream",
     "text": [
      "0 50\n",
      "1 51\n",
      "2 52\n",
      "3 53\n",
      "4 54\n",
      "5 55\n",
      "6 56\n",
      "7 57\n",
      "8 58\n",
      "9 59\n"
     ]
    }
   ],
   "source": [
    "for i, j in enumerate(range(50, 60)):\n",
    "    print(i, j)"
   ]
  },
  {
   "cell_type": "markdown",
   "id": "030bd179",
   "metadata": {},
   "source": [
    "``enumerate(iterable)`` returns two values for each loop pass:\n",
    "\n",
    "* the counter (i.e. how many iterations, starting with 0)\n",
    "* the actual value from the iterable"
   ]
  },
  {
   "cell_type": "markdown",
   "id": "2a2c3f3a",
   "metadata": {},
   "source": [
    "### Nested loops\n",
    "You can nest two (or more - however, this is usually not recommended because it may create a huge number of loop passes) loops inside each other. This allows, for example, to combine all elements from 2 sequences. For counters in loops the variable names ``i``, ``j`` and ``k`` have become common (which should not be used for anything else than counters!)."
   ]
  },
  {
   "cell_type": "code",
   "execution_count": 11,
   "id": "7875e924",
   "metadata": {},
   "outputs": [
    {
     "name": "stdout",
     "output_type": "stream",
     "text": [
      "1 x 1 = 1\n",
      "2 x 1 = 2\n",
      "3 x 1 = 3\n",
      "4 x 1 = 4\n",
      "5 x 1 = 5\n",
      "6 x 1 = 6\n",
      "7 x 1 = 7\n",
      "8 x 1 = 8\n",
      "9 x 1 = 9\n",
      "10 x 1 = 10\n",
      "1 x 2 = 2\n",
      "2 x 2 = 4\n",
      "3 x 2 = 6\n",
      "4 x 2 = 8\n",
      "5 x 2 = 10\n",
      "6 x 2 = 12\n",
      "7 x 2 = 14\n",
      "8 x 2 = 16\n",
      "9 x 2 = 18\n",
      "10 x 2 = 20\n",
      "1 x 3 = 3\n",
      "2 x 3 = 6\n",
      "3 x 3 = 9\n",
      "4 x 3 = 12\n",
      "5 x 3 = 15\n",
      "6 x 3 = 18\n",
      "7 x 3 = 21\n",
      "8 x 3 = 24\n",
      "9 x 3 = 27\n",
      "10 x 3 = 30\n",
      "1 x 4 = 4\n",
      "2 x 4 = 8\n",
      "3 x 4 = 12\n",
      "4 x 4 = 16\n",
      "5 x 4 = 20\n",
      "6 x 4 = 24\n",
      "7 x 4 = 28\n",
      "8 x 4 = 32\n",
      "9 x 4 = 36\n",
      "10 x 4 = 40\n",
      "1 x 5 = 5\n",
      "2 x 5 = 10\n",
      "3 x 5 = 15\n",
      "4 x 5 = 20\n",
      "5 x 5 = 25\n",
      "6 x 5 = 30\n",
      "7 x 5 = 35\n",
      "8 x 5 = 40\n",
      "9 x 5 = 45\n",
      "10 x 5 = 50\n",
      "1 x 6 = 6\n",
      "2 x 6 = 12\n",
      "3 x 6 = 18\n",
      "4 x 6 = 24\n",
      "5 x 6 = 30\n",
      "6 x 6 = 36\n",
      "7 x 6 = 42\n",
      "8 x 6 = 48\n",
      "9 x 6 = 54\n",
      "10 x 6 = 60\n",
      "1 x 7 = 7\n",
      "2 x 7 = 14\n",
      "3 x 7 = 21\n",
      "4 x 7 = 28\n",
      "5 x 7 = 35\n",
      "6 x 7 = 42\n",
      "7 x 7 = 49\n",
      "8 x 7 = 56\n",
      "9 x 7 = 63\n",
      "10 x 7 = 70\n",
      "1 x 8 = 8\n",
      "2 x 8 = 16\n",
      "3 x 8 = 24\n",
      "4 x 8 = 32\n",
      "5 x 8 = 40\n",
      "6 x 8 = 48\n",
      "7 x 8 = 56\n",
      "8 x 8 = 64\n",
      "9 x 8 = 72\n",
      "10 x 8 = 80\n",
      "1 x 9 = 9\n",
      "2 x 9 = 18\n",
      "3 x 9 = 27\n",
      "4 x 9 = 36\n",
      "5 x 9 = 45\n",
      "6 x 9 = 54\n",
      "7 x 9 = 63\n",
      "8 x 9 = 72\n",
      "9 x 9 = 81\n",
      "10 x 9 = 90\n",
      "1 x 10 = 10\n",
      "2 x 10 = 20\n",
      "3 x 10 = 30\n",
      "4 x 10 = 40\n",
      "5 x 10 = 50\n",
      "6 x 10 = 60\n",
      "7 x 10 = 70\n",
      "8 x 10 = 80\n",
      "9 x 10 = 90\n",
      "10 x 10 = 100\n"
     ]
    }
   ],
   "source": [
    "for i in range(1, 11):\n",
    "    for j in range(1, 11):\n",
    "        print(f'{j} x {i} = {i*j}')"
   ]
  },
  {
   "cell_type": "markdown",
   "id": "bae7218e",
   "metadata": {},
   "source": [
    "<div class=\"alert alert-block alert-info\">\n",
    "<b>Exercise 2a</b><p>Think of which steps happen while a nested loop is looping.</p></div>"
   ]
  },
  {
   "cell_type": "markdown",
   "id": "7d6d1348",
   "metadata": {},
   "source": [
    "**Note**: This ability to imagine what will happen during the program run is essential! So already now always try to understand what will happen in your program. Later on we will get to know ways to \"see\" what a program is doing."
   ]
  },
  {
   "cell_type": "markdown",
   "id": "953f4246",
   "metadata": {},
   "source": [
    "### Deep nesting\n",
    "\n",
    "Here is another small example to show how quickly a large number of loop passes can occur when nesting loops. Try yourself to slowly increase the value of the variable `loops_per_loop`. e.g. from 10 to 100, 200, 300 and so on. Reminder: as long as a `*` is displayed next to the cell, Python is busy looping. With \"Kernel -> Interrupt\" you can abort the process if it takes too long."
   ]
  },
  {
   "cell_type": "code",
   "execution_count": 13,
   "id": "64681f7c",
   "metadata": {},
   "outputs": [
    {
     "name": "stdout",
     "output_type": "stream",
     "text": [
      "1000000 Loop passes\n"
     ]
    }
   ],
   "source": [
    "loops_per_loop = 10 # num of loops per loop\n",
    "\n",
    "counter = 0\n",
    "for i in range(loops_per_loop):\n",
    "    for j in range(loops_per_loop):\n",
    "        for k in range(loops_per_loop):\n",
    "            counter += 1\n",
    "print(\"{} Loop passes\".format(counter))            \n",
    "    "
   ]
  },
  {
   "cell_type": "markdown",
   "id": "a71ba299",
   "metadata": {},
   "source": [
    "<div class=\"alert alert-block alert-info\">\n",
    "<b>Exercise 3</b>\n",
    "<p>Make the value of the variable `loops_per_loop` higher until the program takes a noticably long time.</p>\n",
    "</div>"
   ]
  },
  {
   "cell_type": "markdown",
   "id": "a47024c1",
   "metadata": {},
   "source": [
    "## The while loop\n",
    "While the `for` loop iterates over all elements of a sequence (or, more generally, an iterable), the `while` loop checks a condition on each loop pass and terminates when that condition is no longer satisfied. \n",
    "\n",
    "In the following example, the condition is that the current character must not be `'x'`. So as soon as the compared character is `'x', the `while` loop is terminated:"
   ]
  },
  {
   "cell_type": "code",
   "execution_count": 17,
   "id": "8e821c63",
   "metadata": {},
   "outputs": [
    {
     "name": "stdout",
     "output_type": "stream",
     "text": [
      "I am very very e"
     ]
    }
   ],
   "source": [
    "text = 'I am very very excited about sleeping a bit.'\n",
    "i = 0\n",
    "while text[i] != 'x':\n",
    "    print(text[i], end='')\n",
    "    i += 1\n",
    "   "
   ]
  },
  {
   "cell_type": "markdown",
   "id": "940de060",
   "metadata": {},
   "source": [
    "*Note: The `end=''` in the `print()` function prevents `print()` from inserting a newline character at the end of its output."
   ]
  },
  {
   "cell_type": "markdown",
   "id": "ea49d5f3",
   "metadata": {},
   "source": [
    "<div class=\"alert alert-block alert-info\">\n",
    "<b>Exercise 4</b>\n",
    "<p>What would happen if we omitted the last line (i += 1)? To do this, think through the first few loop passes.</p>\n",
    "</div>"
   ]
  },
  {
   "cell_type": "markdown",
   "id": "10ae7968",
   "metadata": {},
   "source": [
    "<div class=\"alert alert-block alert-info\">\n",
    "<b>Exercise 5</b>\n",
    "\n",
    "Write a while loop that outputs all numbers up to the number (previously queried via `input()`).\n",
    "</div>"
   ]
  },
  {
   "cell_type": "markdown",
   "id": "08f89edd",
   "metadata": {},
   "source": [
    "## Influence loops: break and continue"
   ]
  },
  {
   "cell_type": "markdown",
   "id": "e59e4825",
   "metadata": {},
   "source": [
    "Both `for` and `while` loops can be terminated prematurely with the `break` statement. This is usually connected with a condition (to come). Here as an example a simple addition program that asks for input until a `=` is entered:"
   ]
  },
  {
   "cell_type": "code",
   "execution_count": 23,
   "id": "0b8794c5",
   "metadata": {},
   "outputs": [
    {
     "name": "stdout",
     "output_type": "stream",
     "text": [
      "Input number or '=': 10\n",
      "Input number or '=': =\n",
      "10\n"
     ]
    }
   ],
   "source": [
    "total = 0\n",
    "while True:  # Runs forever\n",
    "    user_input = input(\"Input number or '=': \")\n",
    "    if user_input == \"=\":  # user has entered '='\n",
    "        break\n",
    "    else:\n",
    "        # normally we should test here if user really entered a number.\n",
    "        # But we do not know how to do so, yet\n",
    "        total += int(user_input)\n",
    "# the next statement is not part of the loop as it is not indented\n",
    "print(total)"
   ]
  },
  {
   "cell_type": "markdown",
   "id": "c5624986",
   "metadata": {},
   "source": [
    "If there is a `continue` in a loop, the current loop pass is terminated (i.e. everything in the loop body below is ignored) and the next pass is started. Here is an example that outputs only numbers divisible by 7:"
   ]
  },
  {
   "cell_type": "code",
   "execution_count": 25,
   "id": "ef91bf32",
   "metadata": {},
   "outputs": [
    {
     "name": "stdout",
     "output_type": "stream",
     "text": [
      "7\n",
      "14\n",
      "21\n",
      "28\n",
      "35\n",
      "42\n",
      "49\n",
      "56\n",
      "63\n",
      "70\n",
      "77\n",
      "84\n",
      "91\n",
      "98\n"
     ]
    }
   ],
   "source": [
    "for i in range(1, 101):  \n",
    "    if i % 7 != 0:\n",
    "        continue\n",
    "    print(i)"
   ]
  },
  {
   "cell_type": "markdown",
   "id": "87b631a0",
   "metadata": {},
   "source": [
    "**If you are tempted to use `continue`, there is almost always a better way to solve the problem. In such a case, think again! Here is a better solution for the last code, without `continue`: (something we'll learn about next time)"
   ]
  },
  {
   "cell_type": "code",
   "execution_count": 27,
   "id": "24fa2e52",
   "metadata": {},
   "outputs": [
    {
     "name": "stdout",
     "output_type": "stream",
     "text": [
      "0\n",
      "7\n",
      "14\n",
      "21\n",
      "28\n",
      "35\n",
      "42\n",
      "49\n",
      "56\n",
      "63\n",
      "70\n",
      "77\n",
      "84\n",
      "91\n",
      "98\n"
     ]
    }
   ],
   "source": [
    "for i in range(100):\n",
    "    if i % 7 == 0:\n",
    "        print(i)"
   ]
  },
  {
   "cell_type": "markdown",
   "id": "1030ccc8",
   "metadata": {},
   "source": [
    "or (rather *pythonic*) like this:"
   ]
  },
  {
   "cell_type": "code",
   "execution_count": 28,
   "id": "67d5d2ec",
   "metadata": {},
   "outputs": [
    {
     "name": "stdout",
     "output_type": "stream",
     "text": [
      "0\n",
      "7\n",
      "14\n",
      "21\n",
      "28\n",
      "35\n",
      "42\n",
      "49\n",
      "56\n",
      "63\n",
      "70\n",
      "77\n",
      "84\n",
      "91\n",
      "98\n"
     ]
    }
   ],
   "source": [
    "for i in range(0, 100, 7):\n",
    "    print(i)"
   ]
  },
  {
   "cell_type": "markdown",
   "id": "705a6789",
   "metadata": {},
   "source": [
    "## Literature\n",
    "\n",
    "\n",
    "  * Python Tutorial: \n",
    "\t* `for`:http://docs.python.org/3/tutorial/controlflow.html#for-statements\n",
    "    https://www.w3schools.com/python/python_for_loops.asp \n",
    "    * `while`: https://www.w3schools.com/python/python_while_loops.asp\n",
    "       https://realpython.com/python-while-loop/\n",
    "       https://www.geeksforgeeks.org/python-while-loop/\n",
    "  \n"
   ]
  },
  {
   "cell_type": "code",
   "execution_count": null,
   "id": "fa57b2d5",
   "metadata": {},
   "outputs": [],
   "source": []
  }
 ],
 "metadata": {
  "kernelspec": {
   "display_name": "Python 3 (ipykernel)",
   "language": "python",
   "name": "python3"
  },
  "language_info": {
   "codemirror_mode": {
    "name": "ipython",
    "version": 3
   },
   "file_extension": ".py",
   "mimetype": "text/x-python",
   "name": "python",
   "nbconvert_exporter": "python",
   "pygments_lexer": "ipython3",
   "version": "3.9.7"
  }
 },
 "nbformat": 4,
 "nbformat_minor": 5
}
