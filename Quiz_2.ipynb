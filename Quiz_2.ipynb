{
 "cells": [
  {
   "cell_type": "markdown",
   "id": "e97726d5",
   "metadata": {},
   "source": [
    "### 1. What is the output of the following code?"
   ]
  },
  {
   "cell_type": "code",
   "execution_count": 3,
   "id": "ef363d0e",
   "metadata": {},
   "outputs": [],
   "source": [
    "s1 = {\" Andrea\", \"Annabelle\", \"Olaf\"}\n",
    "s2 = {\"Olaf\", \"Claus\", \"Mike\"}"
   ]
  },
  {
   "cell_type": "code",
   "execution_count": 4,
   "id": "149f9bb3",
   "metadata": {},
   "outputs": [
    {
     "name": "stdout",
     "output_type": "stream",
     "text": [
      "{'Olaf'}\n"
     ]
    }
   ],
   "source": [
    "print(s1.intersection(s2))"
   ]
  },
  {
   "cell_type": "markdown",
   "id": "f331ead1",
   "metadata": {},
   "source": [
    "The `intersection()` method returns a set that contains the similarity between two or more sets.\n",
    "\n"
   ]
  },
  {
   "cell_type": "markdown",
   "id": "ae38d310",
   "metadata": {},
   "source": [
    "### 2.  What is the output of the following code? Explain in one sentence why this is the output.\n",
    "\n"
   ]
  },
  {
   "cell_type": "code",
   "execution_count": 38,
   "id": "9b3ab426",
   "metadata": {},
   "outputs": [
    {
     "name": "stdout",
     "output_type": "stream",
     "text": [
      "16\n",
      "None\n"
     ]
    }
   ],
   "source": [
    "def square (x):\n",
    "    y = x*x\n",
    "   \n",
    "    \n",
    "print(square(4))"
   ]
  },
  {
   "cell_type": "markdown",
   "id": "91cd3e59",
   "metadata": {},
   "source": [
    "Since there isn't a `return` statement inside of the function (which would ideally return `y`, and therefore the print function would print out 16), the return value of the function is `None`. \n",
    "\n",
    "<u>From the previous notebook</u>:\n",
    "* `return` is the main way that a function returns a value. All functions will return a value, and if there is no return statement, it will return `None`. The value that is returned by a function can then be further used as an argument passed to another function, stored as a variable, or just printed for the benefit of the human user.\n"
   ]
  },
  {
   "cell_type": "markdown",
   "id": "173aec30",
   "metadata": {},
   "source": [
    "### 3. Write a line of code that gets the value of the key \"marks\".\n",
    "\n"
   ]
  },
  {
   "cell_type": "code",
   "execution_count": 8,
   "id": "dbf08576",
   "metadata": {},
   "outputs": [],
   "source": [
    "student = {\"name\": \"Emma\",\n",
    "           \"class\": 9,\n",
    "           \"marks\":75}"
   ]
  },
  {
   "cell_type": "code",
   "execution_count": 78,
   "id": "6f9b02ed",
   "metadata": {},
   "outputs": [
    {
     "data": {
      "text/plain": [
       "75"
      ]
     },
     "execution_count": 78,
     "metadata": {},
     "output_type": "execute_result"
    }
   ],
   "source": [
    "student.get(\"marks\")"
   ]
  },
  {
   "cell_type": "code",
   "execution_count": 13,
   "id": "2f1fde45",
   "metadata": {},
   "outputs": [
    {
     "data": {
      "text/plain": [
       "75"
      ]
     },
     "execution_count": 13,
     "metadata": {},
     "output_type": "execute_result"
    }
   ],
   "source": [
    "student[\"marks\"]"
   ]
  },
  {
   "cell_type": "markdown",
   "id": "ce996cbf",
   "metadata": {},
   "source": [
    "### 4. Write one line of code which outputs the word 'holidays'.\n",
    "\n"
   ]
  },
  {
   "cell_type": "code",
   "execution_count": 82,
   "id": "4dc04fe6",
   "metadata": {},
   "outputs": [
    {
     "data": {
      "text/plain": [
       "'holidays'"
      ]
     },
     "execution_count": 82,
     "metadata": {},
     "output_type": "execute_result"
    }
   ],
   "source": [
    "greeting = ('Merry', 'Christmas', 'and', 'happy', 'holidays')\n",
    "greeting[-1]"
   ]
  },
  {
   "cell_type": "code",
   "execution_count": 81,
   "id": "820f0e46",
   "metadata": {},
   "outputs": [
    {
     "data": {
      "text/plain": [
       "'holidays'"
      ]
     },
     "execution_count": 81,
     "metadata": {},
     "output_type": "execute_result"
    }
   ],
   "source": [
    "greeting[4]"
   ]
  },
  {
   "cell_type": "markdown",
   "id": "75472ac3",
   "metadata": {},
   "source": [
    "### 5. Write a short function that takes in as patameters: a persons first name, last name (optional) and the date of birth.\n",
    "\n",
    "The function should return first name, last name and current age (if we consider that the person has already had a birthday this year).\n",
    "\n",
    "In the end print out a function call (put in your first name and date of birth).\n",
    "\n"
   ]
  },
  {
   "cell_type": "code",
   "execution_count": 83,
   "id": "d82f1759",
   "metadata": {},
   "outputs": [
    {
     "data": {
      "text/plain": [
       "('Lucija', 28, 'Krušić')"
      ]
     },
     "execution_count": 83,
     "metadata": {},
     "output_type": "execute_result"
    }
   ],
   "source": [
    "def person (firstname, birthdate, lastname = None):\n",
    "        age = 2022 - int(birthdate)\n",
    "        return firstname, age, lastname\n",
    "    \n",
    "person(\"Lucija\", 1994, \"Krušić\")\n"
   ]
  },
  {
   "cell_type": "markdown",
   "id": "571a8a23",
   "metadata": {},
   "source": [
    "### 6. What does this program ouput?"
   ]
  },
  {
   "cell_type": "code",
   "execution_count": 29,
   "id": "1242874c",
   "metadata": {},
   "outputs": [
    {
     "name": "stdout",
     "output_type": "stream",
     "text": [
      "10\n"
     ]
    }
   ],
   "source": [
    "def my_function(a, b=None, c=None):\n",
    "    if b is not None and c is not None:\n",
    "        rv = (a + b) * c\n",
    "    elif b is not None:\n",
    "        rv = a + b\n",
    "    elif c is not None:\n",
    "        rv = a * c\n",
    "    else:\n",
    "        rv = a\n",
    "    return rv\n",
    "\n",
    "print(my_function(5, c=2))"
   ]
  },
  {
   "cell_type": "markdown",
   "id": "e75f5326",
   "metadata": {},
   "source": [
    " ### 7. a) We add a new element to a tuple by using the function add():\n",
    "\n",
    "<b>True or false ?</b>\n",
    "\n"
   ]
  },
  {
   "cell_type": "code",
   "execution_count": 32,
   "id": "fa6168d7",
   "metadata": {},
   "outputs": [
    {
     "ename": "AttributeError",
     "evalue": "'tuple' object has no attribute 'add'",
     "output_type": "error",
     "traceback": [
      "\u001b[1;31m---------------------------------------------------------------------------\u001b[0m",
      "\u001b[1;31mAttributeError\u001b[0m                            Traceback (most recent call last)",
      "\u001b[1;32m~\\AppData\\Local\\Temp/ipykernel_20280/2052792708.py\u001b[0m in \u001b[0;36m<module>\u001b[1;34m\u001b[0m\n\u001b[0;32m      1\u001b[0m \u001b[0mcoordinates\u001b[0m \u001b[1;33m=\u001b[0m \u001b[1;33m(\u001b[0m\u001b[1;36m5\u001b[0m\u001b[1;33m,\u001b[0m\u001b[1;36m12\u001b[0m\u001b[1;33m)\u001b[0m\u001b[1;33m\u001b[0m\u001b[1;33m\u001b[0m\u001b[0m\n\u001b[0;32m      2\u001b[0m \u001b[1;33m\u001b[0m\u001b[0m\n\u001b[1;32m----> 3\u001b[1;33m \u001b[0mcoordinates\u001b[0m\u001b[1;33m.\u001b[0m\u001b[0madd\u001b[0m\u001b[1;33m(\u001b[0m\u001b[1;36m3\u001b[0m\u001b[1;33m)\u001b[0m\u001b[1;33m\u001b[0m\u001b[1;33m\u001b[0m\u001b[0m\n\u001b[0m",
      "\u001b[1;31mAttributeError\u001b[0m: 'tuple' object has no attribute 'add'"
     ]
    }
   ],
   "source": [
    "\n",
    "coordinates = (5,12)\n",
    "\n",
    "coordinates.add(3)\n"
   ]
  },
  {
   "cell_type": "markdown",
   "id": "5bd4933f",
   "metadata": {},
   "source": [
    "`False`, tuples are immutable (cannot be changed)."
   ]
  },
  {
   "cell_type": "markdown",
   "id": "7e495e6c",
   "metadata": {},
   "source": [
    "###  b) Chose the correct method of adding values to the empty set:\n",
    "\n",
    "\n"
   ]
  },
  {
   "cell_type": "code",
   "execution_count": 33,
   "id": "28707584",
   "metadata": {},
   "outputs": [],
   "source": [
    "seasons = set ()\n"
   ]
  },
  {
   "cell_type": "code",
   "execution_count": 34,
   "id": "1c5e24da",
   "metadata": {},
   "outputs": [
    {
     "ename": "AttributeError",
     "evalue": "'set' object has no attribute 'insert'",
     "output_type": "error",
     "traceback": [
      "\u001b[1;31m---------------------------------------------------------------------------\u001b[0m",
      "\u001b[1;31mAttributeError\u001b[0m                            Traceback (most recent call last)",
      "\u001b[1;32m~\\AppData\\Local\\Temp/ipykernel_20280/2905292122.py\u001b[0m in \u001b[0;36m<module>\u001b[1;34m\u001b[0m\n\u001b[1;32m----> 1\u001b[1;33m \u001b[0mseasons\u001b[0m\u001b[1;33m.\u001b[0m\u001b[0minsert\u001b[0m\u001b[1;33m(\u001b[0m\u001b[1;33m-\u001b[0m\u001b[1;36m1\u001b[0m\u001b[1;33m,\u001b[0m\u001b[1;34m'Autumn'\u001b[0m\u001b[1;33m)\u001b[0m\u001b[1;33m\u001b[0m\u001b[1;33m\u001b[0m\u001b[0m\n\u001b[0m\u001b[0;32m      2\u001b[0m \u001b[0mseasons\u001b[0m\u001b[1;33m\u001b[0m\u001b[1;33m\u001b[0m\u001b[0m\n",
      "\u001b[1;31mAttributeError\u001b[0m: 'set' object has no attribute 'insert'"
     ]
    }
   ],
   "source": [
    "seasons.insert(-1,'Autumn')\n",
    "seasons\n"
   ]
  },
  {
   "cell_type": "code",
   "execution_count": 35,
   "id": "a0457a37",
   "metadata": {},
   "outputs": [
    {
     "ename": "AttributeError",
     "evalue": "'set' object has no attribute 'append'",
     "output_type": "error",
     "traceback": [
      "\u001b[1;31m---------------------------------------------------------------------------\u001b[0m",
      "\u001b[1;31mAttributeError\u001b[0m                            Traceback (most recent call last)",
      "\u001b[1;32m~\\AppData\\Local\\Temp/ipykernel_20280/2032254757.py\u001b[0m in \u001b[0;36m<module>\u001b[1;34m\u001b[0m\n\u001b[1;32m----> 1\u001b[1;33m \u001b[0mseasons\u001b[0m\u001b[1;33m.\u001b[0m\u001b[0mappend\u001b[0m\u001b[1;33m(\u001b[0m\u001b[1;34m'Winter'\u001b[0m\u001b[1;33m)\u001b[0m\u001b[1;33m\u001b[0m\u001b[1;33m\u001b[0m\u001b[0m\n\u001b[0m\u001b[0;32m      2\u001b[0m \u001b[0mseasons\u001b[0m\u001b[1;33m\u001b[0m\u001b[1;33m\u001b[0m\u001b[0m\n",
      "\u001b[1;31mAttributeError\u001b[0m: 'set' object has no attribute 'append'"
     ]
    }
   ],
   "source": [
    "seasons.append('Winter')\n",
    "seasons"
   ]
  },
  {
   "cell_type": "code",
   "execution_count": 36,
   "id": "38742bcf",
   "metadata": {},
   "outputs": [
    {
     "data": {
      "text/plain": [
       "{'Summer'}"
      ]
     },
     "execution_count": 36,
     "metadata": {},
     "output_type": "execute_result"
    }
   ],
   "source": [
    "seasons.add('Summer')\n",
    "seasons"
   ]
  },
  {
   "cell_type": "code",
   "execution_count": 37,
   "id": "d7907aa0",
   "metadata": {},
   "outputs": [
    {
     "ename": "TypeError",
     "evalue": "'set' object does not support item assignment",
     "output_type": "error",
     "traceback": [
      "\u001b[1;31m---------------------------------------------------------------------------\u001b[0m",
      "\u001b[1;31mTypeError\u001b[0m                                 Traceback (most recent call last)",
      "\u001b[1;32m~\\AppData\\Local\\Temp/ipykernel_20280/3071833386.py\u001b[0m in \u001b[0;36m<module>\u001b[1;34m\u001b[0m\n\u001b[1;32m----> 1\u001b[1;33m \u001b[0mseasons\u001b[0m\u001b[1;33m[\u001b[0m\u001b[1;36m1\u001b[0m\u001b[1;33m]\u001b[0m \u001b[1;33m=\u001b[0m \u001b[1;34m'Spring'\u001b[0m\u001b[1;33m\u001b[0m\u001b[1;33m\u001b[0m\u001b[0m\n\u001b[0m\u001b[0;32m      2\u001b[0m \u001b[0mseasons\u001b[0m\u001b[1;33m\u001b[0m\u001b[1;33m\u001b[0m\u001b[0m\n",
      "\u001b[1;31mTypeError\u001b[0m: 'set' object does not support item assignment"
     ]
    }
   ],
   "source": [
    "seasons[1] = 'Spring'\n",
    "seasons\n"
   ]
  },
  {
   "cell_type": "markdown",
   "id": "ad56a88f",
   "metadata": {},
   "source": [
    "`add()` works with sets"
   ]
  },
  {
   "cell_type": "markdown",
   "id": "15a8909a",
   "metadata": {},
   "source": [
    "### c) What do the following lines of code return?\n",
    "\n"
   ]
  },
  {
   "cell_type": "code",
   "execution_count": 42,
   "id": "11f0eb52",
   "metadata": {},
   "outputs": [
    {
     "data": {
      "text/plain": [
       "False"
      ]
     },
     "execution_count": 42,
     "metadata": {},
     "output_type": "execute_result"
    }
   ],
   "source": [
    "texts = {\"poem\", \"play\", \"essay\"}\n",
    "\"novel\" in texts"
   ]
  },
  {
   "cell_type": "raw",
   "id": "21f9856d",
   "metadata": {},
   "source": [
    "`in` tests if \"novel\" exists in \"texts\". Since there isn't such an item, the return value is `False`."
   ]
  },
  {
   "cell_type": "markdown",
   "id": "5d1a914a",
   "metadata": {},
   "source": [
    "### d)  Write one line of code to remove the tuple:\n",
    "\n",
    "\n",
    "\n"
   ]
  },
  {
   "cell_type": "code",
   "execution_count": 44,
   "id": "82130ad4",
   "metadata": {},
   "outputs": [
    {
     "ename": "NameError",
     "evalue": "name 'coordinates' is not defined",
     "output_type": "error",
     "traceback": [
      "\u001b[1;31m---------------------------------------------------------------------------\u001b[0m",
      "\u001b[1;31mNameError\u001b[0m                                 Traceback (most recent call last)",
      "\u001b[1;32m~\\AppData\\Local\\Temp/ipykernel_20280/3741167958.py\u001b[0m in \u001b[0;36m<module>\u001b[1;34m\u001b[0m\n\u001b[0;32m      1\u001b[0m \u001b[0mcoordinates\u001b[0m \u001b[1;33m=\u001b[0m \u001b[1;33m(\u001b[0m\u001b[1;36m5\u001b[0m\u001b[1;33m,\u001b[0m\u001b[1;36m17\u001b[0m\u001b[1;33m)\u001b[0m\u001b[1;33m\u001b[0m\u001b[1;33m\u001b[0m\u001b[0m\n\u001b[0;32m      2\u001b[0m \u001b[1;32mdel\u001b[0m \u001b[0mcoordinates\u001b[0m\u001b[1;33m\u001b[0m\u001b[1;33m\u001b[0m\u001b[0m\n\u001b[1;32m----> 3\u001b[1;33m \u001b[0mcoordinates\u001b[0m\u001b[1;33m\u001b[0m\u001b[1;33m\u001b[0m\u001b[0m\n\u001b[0m",
      "\u001b[1;31mNameError\u001b[0m: name 'coordinates' is not defined"
     ]
    }
   ],
   "source": [
    "coordinates = (5,17)\n",
    "del coordinates\n",
    "coordinates"
   ]
  },
  {
   "cell_type": "code",
   "execution_count": null,
   "id": "a6d6adc1",
   "metadata": {},
   "outputs": [],
   "source": [
    "`"
   ]
  },
  {
   "cell_type": "markdown",
   "id": "d2638400",
   "metadata": {},
   "source": [
    "### e) What's the output of the following code?\n",
    "\n",
    "\n",
    "\n",
    "\n"
   ]
  },
  {
   "cell_type": "code",
   "execution_count": 73,
   "id": "e5b1d06b",
   "metadata": {},
   "outputs": [
    {
     "data": {
      "text/plain": [
       "False"
      ]
     },
     "execution_count": 73,
     "metadata": {},
     "output_type": "execute_result"
    }
   ],
   "source": [
    "movies = {'Harry Potter and the Chamber of Secrets', 'The Color Purple', 'The Menu', 'IT', 'Disenchanted', 'Psycho', 'Everything is Illuminated'  }\n",
    "\n",
    "books = {'the Color Purple', 'The Midnight Library', 'Harry Potter and the Chamber of Secrets', 'It', 'Extremely Loud & Incredibly Close'  }\n",
    "\n",
    "books.isdisjoint(movies)"
   ]
  },
  {
   "cell_type": "markdown",
   "id": "3482c970",
   "metadata": {},
   "source": [
    "The `isdisjoint()` method returns `True` if two sets don't have any common items between them, i.e. they are disjoint. Else the returns `False`.\n",
    "\n"
   ]
  },
  {
   "cell_type": "markdown",
   "id": "26e76d0c",
   "metadata": {},
   "source": [
    "### f) Write one line of code that deletes everything from 'students':\n",
    "\n",
    "\n"
   ]
  },
  {
   "cell_type": "code",
   "execution_count": 16,
   "id": "b04773bf",
   "metadata": {},
   "outputs": [
    {
     "name": "stdout",
     "output_type": "stream",
     "text": [
      "set()\n"
     ]
    }
   ],
   "source": [
    "students = {'Tim', 'Tam', 'Tin', 'Tone'}\n",
    "students.clear()\n",
    "print(students)"
   ]
  }
 ],
 "metadata": {
  "kernelspec": {
   "display_name": "Python 3 (ipykernel)",
   "language": "python",
   "name": "python3"
  },
  "language_info": {
   "codemirror_mode": {
    "name": "ipython",
    "version": 3
   },
   "file_extension": ".py",
   "mimetype": "text/x-python",
   "name": "python",
   "nbconvert_exporter": "python",
   "pygments_lexer": "ipython3",
   "version": "3.9.7"
  }
 },
 "nbformat": 4,
 "nbformat_minor": 5
}
