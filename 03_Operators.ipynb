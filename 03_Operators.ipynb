{
 "cells": [
  {
   "cell_type": "markdown",
   "id": "97765a74",
   "metadata": {},
   "source": [
    "# Python operators\n",
    "\n",
    "Operatirs are used to preform operations on variables and values.\n",
    "We already know some of the mathematical operators for a long time, such as `1 + 1`. "
   ]
  },
  {
   "cell_type": "markdown",
   "id": "4c1725e8",
   "metadata": {},
   "source": [
    "<u> Some common types of operators in Python are: </u>\n",
    "* arithmetic (math) operators\n",
    "* assignment operators\n",
    "* comparison operators\n",
    "* logical\n",
    "* and others (identity, membership and bitwise)"
   ]
  },
  {
   "cell_type": "markdown",
   "id": "a34349c7",
   "metadata": {},
   "source": [
    "# Arithmetic (math) operators"
   ]
  },
  {
   "cell_type": "markdown",
   "id": "d39905fa",
   "metadata": {},
   "source": [
    "### Calculating with mathematical operators\n",
    "\n",
    "Python naturally knows the four basic arithmetic operations: \n",
    "\n",
    "* `+`: addition\n",
    "* `-`: subtraction\n",
    "* `*`: multiplication\n",
    "* `/`: division\n",
    "\n",
    "In addition, there are the following mathematical operators:\n",
    "\n",
    "* `**`: exponentiation (``2 ** 8`` stands for 2 to the power of 8)\n",
    "* `%`: modulus (remainder of a division: ``5 % 2`` is 1)\n",
    "* `//`: floor division (rounds the result down to the nearest whole number, such as ``15 // 2`` is 7)\n"
   ]
  },
  {
   "cell_type": "markdown",
   "id": "6745d143",
   "metadata": {},
   "source": [
    "# Exercises"
   ]
  },
  {
   "cell_type": "markdown",
   "id": "74635481",
   "metadata": {},
   "source": [
    "<div class=\"alert alert-block alert-info\">\n",
    "<b>Exercise 1</b>\n",
    "<p>\n",
    "How much is 3429 + 736 - 221?\n",
    "</p>\n",
    "</div>"
   ]
  },
  {
   "cell_type": "code",
   "execution_count": null,
   "id": "aba03e69",
   "metadata": {},
   "outputs": [],
   "source": []
  },
  {
   "cell_type": "markdown",
   "id": "7ae44aea",
   "metadata": {},
   "source": [
    "<div class=\"alert alert-block alert-info\">\n",
    "<b>Exercise 2</b>\n",
    "    \n",
    "<p>\n",
    "   How much is  43 plus 99 devided by 5 multiplied by 3? Try to figure out the result. Try to bracket subexpressions.\n",
    "</p>\n",
    "</div>"
   ]
  },
  {
   "cell_type": "code",
   "execution_count": null,
   "id": "c30c3361",
   "metadata": {},
   "outputs": [],
   "source": []
  },
  {
   "cell_type": "markdown",
   "id": "a260640d",
   "metadata": {},
   "source": [
    "<div class=\"alert alert-block alert-info\">\n",
    "<b>Exercise 3</b>\n",
    "    \n",
    "<p>\n",
    "Try to generate a really large number by multiplication or exponentiation. (Attention: High powers need a lot of computing time. As long as an asterisk is visible next to the code cell, Python is calculating. If necessary, you can cancel the operation by selecting one of the options under the menu item \"Kernel\").\n",
    "    </p>\n",
    "</div>"
   ]
  },
  {
   "cell_type": "code",
   "execution_count": null,
   "id": "19c40220",
   "metadata": {},
   "outputs": [],
   "source": []
  },
  {
   "cell_type": "markdown",
   "id": "1bdad447",
   "metadata": {},
   "source": [
    "<div class=\"alert alert-block alert-info\">\n",
    "<b>Exercise 4</b>\n",
    "    \n",
    "<p>\n",
    "What is remaining when you devide 481 by 17?\n",
    "    </p>\n",
    "</div>"
   ]
  },
  {
   "cell_type": "code",
   "execution_count": null,
   "id": "b90c6d1c",
   "metadata": {},
   "outputs": [],
   "source": []
  },
  {
   "cell_type": "markdown",
   "id": "b3eb581f",
   "metadata": {},
   "source": [
    "<div class=\"alert alert-block alert-info\">\n",
    "<b>Exercise 5</b>\n",
    "    \n",
    "<p>\n",
    "What happens when you add an int to a float? What's the datatype of the result?\n",
    "    </p>\n",
    "</div>"
   ]
  },
  {
   "cell_type": "code",
   "execution_count": null,
   "id": "695d58ac",
   "metadata": {},
   "outputs": [],
   "source": []
  },
  {
   "cell_type": "markdown",
   "id": "4062b590",
   "metadata": {},
   "source": [
    "### Mathematical operators and other data types\n",
    "Especially the `+` operator can be used in Python not only for numeric types, but also for many other data types. For strings, for example, the `+` operator becomes the *concatenation operator*: It joins two strings into one longer string:"
   ]
  },
  {
   "cell_type": "code",
   "execution_count": null,
   "id": "03ed1e57",
   "metadata": {},
   "outputs": [],
   "source": [
    "'Santa' + 'Claus' + 'is' + 'coming' + 'tonight'"
   ]
  },
  {
   "cell_type": "markdown",
   "id": "cc3990bc",
   "metadata": {},
   "source": [
    "<div class=\"alert alert-block alert-info\">\n",
    "<b>Exercise 6</b>\n",
    "    \n",
    "<p>\n",
    "Concantenate your full name with the first and last name. Mind the whitespace.\n",
    "    </p>\n",
    "</div>"
   ]
  },
  {
   "cell_type": "code",
   "execution_count": null,
   "id": "e83d672a",
   "metadata": {},
   "outputs": [],
   "source": []
  },
  {
   "cell_type": "markdown",
   "id": "3aae1997",
   "metadata": {},
   "source": [
    "# Assignment operators\n",
    "\n",
    "\n",
    "We've already discussed the most important assignment operator, which is `=`.\n",
    "\n",
    "There are also others, such as:\n",
    "* `+=`\n",
    "* `-=`\n",
    "* `*=`\n",
    "* `/=`\n",
    "* `%=`\n",
    "\n",
    "Let's try out one:"
   ]
  },
  {
   "cell_type": "code",
   "execution_count": null,
   "id": "a3b8dd0c",
   "metadata": {},
   "outputs": [],
   "source": [
    "number = 1\n",
    "number += 3\n",
    "print (number)"
   ]
  },
  {
   "cell_type": "markdown",
   "id": "1039fec2",
   "metadata": {},
   "source": [
    "As we see `number += 3` actually is the same as `number = number + 3`. It works the same way for the other assignment operators."
   ]
  },
  {
   "cell_type": "markdown",
   "id": "625f2f5e",
   "metadata": {},
   "source": [
    "<div class=\"alert alert-block alert-info\">\n",
    "<b>Exercise 7</b>\n",
    "    \n",
    "<p>\n",
    "Set the value of  number to 200 and devide it by 2 using an assigmnent operator.\n",
    "    </p>\n",
    "</div>"
   ]
  },
  {
   "cell_type": "code",
   "execution_count": null,
   "id": "2dd8636b",
   "metadata": {},
   "outputs": [],
   "source": []
  },
  {
   "cell_type": "markdown",
   "id": "54516da2",
   "metadata": {},
   "source": [
    "A common use for this is when we need to use a counter which will then with a loop (more on that later) iteratively count something. Such as:"
   ]
  },
  {
   "cell_type": "code",
   "execution_count": null,
   "id": "e8f577d5",
   "metadata": {},
   "outputs": [],
   "source": [
    "counter = 0\n",
    "counter = counter + 1\n",
    "print(counter)"
   ]
  },
  {
   "cell_type": "markdown",
   "id": "92684466",
   "metadata": {},
   "source": [
    "Can be shortened such as:"
   ]
  },
  {
   "cell_type": "code",
   "execution_count": null,
   "id": "66589c9a",
   "metadata": {},
   "outputs": [],
   "source": [
    "counter = 0\n",
    "counter +=  1\n",
    "print(counter)"
   ]
  },
  {
   "cell_type": "markdown",
   "id": "85f8b89b",
   "metadata": {},
   "source": [
    "# Comparison operators\n",
    "Comparison operators are used to compare two values.\n",
    "\n",
    "For example, one can test whether two values are equal. The corresponding operator is `==` (two equal characters!). Each comparison returns a truth value (i.e. `True` or `False`).\n",
    "\n",
    "~~~\n",
    "123 == 123\n",
    "True\n",
    "\n",
    "'Graz' == 'Vienna\n",
    "False\n",
    "~~~\n",
    "\n",
    "Of course you can also compare calculated values with each other:\n",
    "\n",
    "~~~\n",
    "100 / 4 == 75 / 3\n",
    "~~~"
   ]
  },
  {
   "cell_type": "markdown",
   "id": "c6422727",
   "metadata": {},
   "source": [
    "<b>Python knows a number of comparison operators:</b>\n",
    "\n",
    "  * `==` returns `True` if the two values are the same.\n",
    "  * `!=` returns `True` if the two values are different\n",
    "  * `<` returns `True` if the left value is smaller than the right value \n",
    "  * `<=` returns `True` if the left value is less than or equal to the right value \n",
    "  * `>` returns `True` if the left value is greater than the right value \n",
    "  * `>=` returns `True` if the left value is greater than or equal to the right value "
   ]
  },
  {
   "cell_type": "markdown",
   "id": "1b127d1c",
   "metadata": {},
   "source": [
    "<div class=\"alert alert-block alert-info\">\n",
    "<b>Exercise 8</b>\n",
    "    \n",
    "<p>\n",
    "Consider if the output of the following expressions is true or false and then try them out in the Notebook.\n",
    "    </p>\n",
    "</div>"
   ]
  },
  {
   "cell_type": "code",
   "execution_count": null,
   "id": "f08d2b8c",
   "metadata": {},
   "outputs": [],
   "source": [
    "'abc' != 'def'"
   ]
  },
  {
   "cell_type": "code",
   "execution_count": null,
   "id": "5dca82eb",
   "metadata": {},
   "outputs": [],
   "source": [
    "'abc' == 'def'"
   ]
  },
  {
   "cell_type": "code",
   "execution_count": null,
   "id": "3cadd45b",
   "metadata": {},
   "outputs": [],
   "source": [
    "5 > 4"
   ]
  },
  {
   "cell_type": "code",
   "execution_count": null,
   "id": "d4373e7a",
   "metadata": {},
   "outputs": [],
   "source": [
    "7 <= 7"
   ]
  },
  {
   "cell_type": "code",
   "execution_count": null,
   "id": "db355fd4",
   "metadata": {},
   "outputs": [],
   "source": [
    "'a' < 'b'"
   ]
  },
  {
   "cell_type": "markdown",
   "id": "c23b70fb",
   "metadata": {},
   "source": [
    "In case you are confused about the last example: In Python, `<`, `>`, `<=` and `>=` can also be applied to strings. The lexical value is used, which is why `a` is smaller than `b`. Feel free to try this with longer strings!"
   ]
  },
  {
   "cell_type": "markdown",
   "id": "0c016a6c",
   "metadata": {},
   "source": [
    "<div class=\"alert alert-block alert-info\">\n",
    "<b>Exercise 9</b>\n",
    "    \n",
    "<p>\n",
    "Can 3459 be divided by 7 without remainder? (Hint: a number is divisible by another number if the remainder is 0).\n",
    "    </p>\n",
    "</div>"
   ]
  },
  {
   "cell_type": "code",
   "execution_count": null,
   "id": "86d5ffee",
   "metadata": {},
   "outputs": [],
   "source": []
  },
  {
   "cell_type": "markdown",
   "id": "d3d4f6c2",
   "metadata": {},
   "source": [
    "### Test for object identity with `is`.\n",
    "Additionally, you can test for object identity. The corresponding operators are ``is`` and ``is not``.\n",
    "They return ``True`` only if both values point to the same object. In practice, these two operators should be used preferably for these datatypes: `bool` and `None`, respectively, when we want to test whether two variables point to the same object."
   ]
  },
  {
   "cell_type": "code",
   "execution_count": null,
   "id": "bf91c3d5",
   "metadata": {},
   "outputs": [],
   "source": [
    "True is True"
   ]
  },
  {
   "cell_type": "code",
   "execution_count": null,
   "id": "0f96ef50",
   "metadata": {},
   "outputs": [],
   "source": [
    "True is False"
   ]
  },
  {
   "cell_type": "code",
   "execution_count": null,
   "id": "516dfab5",
   "metadata": {},
   "outputs": [],
   "source": [
    "5 is None"
   ]
  },
  {
   "cell_type": "markdown",
   "id": "eb3a40d8",
   "metadata": {},
   "source": [
    "# Literature\n",
    "\n",
    "* Python Tutorial: Kapitel 3 (3.1.1 und 3.2.1)\n",
    "    (http://docs.python.org/3/tutorial/introduction.html)\n",
    "* W3Schools : https://www.w3schools.com/python/default.asp\n",
    "* Think Python book - https://greenteapress.com/thinkpython/html/thinkpython001.html "
   ]
  }
 ],
 "metadata": {
  "kernelspec": {
   "display_name": "Python 3 (ipykernel)",
   "language": "python",
   "name": "python3"
  },
  "language_info": {
   "codemirror_mode": {
    "name": "ipython",
    "version": 3
   },
   "file_extension": ".py",
   "mimetype": "text/x-python",
   "name": "python",
   "nbconvert_exporter": "python",
   "pygments_lexer": "ipython3",
   "version": "3.9.7"
  }
 },
 "nbformat": 4,
 "nbformat_minor": 5
}
