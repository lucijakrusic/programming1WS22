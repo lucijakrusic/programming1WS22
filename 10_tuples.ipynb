{
 "cells": [
  {
   "cell_type": "markdown",
   "id": "a40b1fcc",
   "metadata": {},
   "source": [
    "# Tuples\n",
    "\n",
    "Tuples represent related data. A simple example is coodinates in a two-dimensional space (values on the Y and Y axis). A point on this surface can be represented as a tuple like this:\n",
    "\n",
    "```\n",
    "(5, 17) # x=5, y=17\n",
    "```\n",
    "\n",
    "Tuples can contain more than 2 values, such as three values for the coordinates in a three-dimensional space:\n",
    "\n",
    "~~~\n",
    "(5, 17, 3)\n",
    "~~~\n",
    "\n",
    "However, tuples can also contain non-numeric data. For example, I could manage the participants in this course as tuples:\n",
    "\n",
    "~~~\n",
    "('019173377', 'Maria', 'Meier', 3, 2, 3, 1, True, 2)\n",
    "~~~\n",
    "\n",
    "Would read like this: \n",
    "\n",
    "~~~\n",
    "(matriculation number, first name, last name, exam1, exam2, exercise1, exercise2, final project done, grade).\n",
    "~~~"
   ]
  },
  {
   "cell_type": "markdown",
   "id": "6ead7897",
   "metadata": {},
   "source": [
    "### Tuples, sets and lists\n",
    "\n",
    "Tuples are somewhat related to sets, with the difference that the order of the elements in the tuple is fixed, i.e., the elements always occur in the same order (which is not the case with sets).\n",
    "\n",
    "From Python's point of view, tuples are closely related to lists. The most important difference in the way lists and tuples are handled is that tuples are not mutable (changeable). While you can add new elements to a list, delete elements from the list, or replace elements at any time, tuples are not mutable once they are created."
   ]
  },
  {
   "cell_type": "markdown",
   "id": "7fbfc2b8",
   "metadata": {},
   "source": [
    "## Working with tuples\n",
    "\n",
    "### Create a tuple\n",
    "\n",
    "A tuple is identified by the round brackets. A new tuple can therefore be created like this:"
   ]
  },
  {
   "cell_type": "code",
   "execution_count": null,
   "id": "64bf761a",
   "metadata": {},
   "outputs": [],
   "source": [
    "pos1 = (5, 17)\n",
    "print(pos1)\n",
    "print(type(pos1))"
   ]
  },
  {
   "cell_type": "markdown",
   "id": "76c8e026",
   "metadata": {},
   "source": [
    "Adding new values does not work, as said above, because a tuple is immutable:"
   ]
  },
  {
   "cell_type": "code",
   "execution_count": null,
   "id": "d979b816",
   "metadata": {},
   "outputs": [],
   "source": [
    "pos1.append(11)"
   ]
  },
  {
   "cell_type": "code",
   "execution_count": null,
   "id": "7ba0eb07",
   "metadata": {},
   "outputs": [],
   "source": [
    "pos1.add(11)"
   ]
  },
  {
   "cell_type": "markdown",
   "id": "795c7872",
   "metadata": {},
   "source": [
    "### Deleting a tuple\n",
    "\n",
    "The `del` instruction deletes an object from main memory. This is not tuple-specific, but works for all objects. In the following we first create a tuple, then output the value, delete it with `del` and then try again to have the value output:"
   ]
  },
  {
   "cell_type": "code",
   "execution_count": null,
   "id": "021816b7",
   "metadata": {},
   "outputs": [],
   "source": [
    "pos2 = (33, 76)\n",
    "print(pos2)\n",
    "del pos2\n",
    "print(pos2)"
   ]
  },
  {
   "cell_type": "markdown",
   "id": "7ff4651a",
   "metadata": {},
   "source": [
    "## Determine the length of a tuple\n",
    "\n",
    "As with other types, `len()` can be used to determine the number of elements:"
   ]
  },
  {
   "cell_type": "code",
   "execution_count": null,
   "id": "7d785064",
   "metadata": {},
   "outputs": [],
   "source": [
    "mytuple = (3, 7, 2)\n",
    "len(mytuple)"
   ]
  },
  {
   "cell_type": "markdown",
   "id": "99e1e708",
   "metadata": {},
   "source": [
    "### Accessing individual values of a tuple\n",
    "\n",
    "The individual elements (values) of a tuple can be accessed in exactly the same way as the elements of a list:"
   ]
  },
  {
   "cell_type": "code",
   "execution_count": null,
   "id": "1482002b",
   "metadata": {},
   "outputs": [],
   "source": [
    "pos1 = (3, 5, 9)\n",
    "pos1[0]"
   ]
  },
  {
   "cell_type": "markdown",
   "id": "d206f8b0",
   "metadata": {},
   "source": [
    "As with lists, this also works with negative values:"
   ]
  },
  {
   "cell_type": "code",
   "execution_count": null,
   "id": "e91f49d3",
   "metadata": {},
   "outputs": [],
   "source": [
    "pos1[-1]"
   ]
  },
  {
   "cell_type": "markdown",
   "id": "c53d5b6d",
   "metadata": {},
   "source": [
    "Slicing also works with tuples:"
   ]
  },
  {
   "cell_type": "code",
   "execution_count": null,
   "id": "b8f69031",
   "metadata": {},
   "outputs": [],
   "source": [
    "pos1[:2]"
   ]
  },
  {
   "cell_type": "markdown",
   "id": "7dbe1964",
   "metadata": {},
   "source": [
    "<div class=\"alert alert-block alert-info\">\n",
    "<b>Exercise Tuple-1</b>\n",
    "<p>Below is a list of tuples representing points in a space (x,y,z). Create a new list of tuples containing only the x and y values!</p>\n",
    "</div>"
   ]
  },
  {
   "cell_type": "code",
   "execution_count": null,
   "id": "ec86ce05",
   "metadata": {},
   "outputs": [],
   "source": [
    "coordinates = [\n",
    "    (9, 2, 17),\n",
    "    (4, 14, 11),\n",
    "    (8, 10, 6),\n",
    "    (2, 7, 0)\n",
    "]    "
   ]
  },
  {
   "cell_type": "markdown",
   "id": "71072ee4",
   "metadata": {},
   "source": [
    "## Named Tuples\n",
    "\n",
    "As a small anticipation of the Standard Library: With more complex tuples it is sometimes difficult to keep in mind at which position which value is located. Let's remember the example from above:\n",
    "\n",
    "('019173377', 'Maria', 'Meier', 3, 2, 3, 1, True, 2)\n",
    " \n",
    "I just had to check myself what the third numeric value stands for (it was `exercise1`).\n",
    "\n",
    "For this reason there is a datatype *Named Tuple* in the package `collections`, which behaves like a normal tuple, but allows to access the individual tuple elements by a name. Named tuples are used like this:"
   ]
  },
  {
   "cell_type": "code",
   "execution_count": null,
   "id": "45fc54b0",
   "metadata": {},
   "outputs": [],
   "source": [
    "from collections import namedtuple\n",
    "\n",
    "Student = namedtuple('Student', \n",
    "            ('matrikeln', 'firstname', 'lastname', 'exam1', 'exam2', \n",
    "             'assignement1', 'assignment2', 'finished_project', 'final_grade'))\n",
    "\n",
    "maria = Student('019173377', 'Maria', 'Meier', 3, 2, 3, 1, True, 2)\n",
    "                     \n",
    "maria.lastname"
   ]
  },
  {
   "cell_type": "code",
   "execution_count": null,
   "id": "33145489",
   "metadata": {},
   "outputs": [],
   "source": [
    "maria.finished_project"
   ]
  },
  {
   "cell_type": "markdown",
   "id": "c3c05634",
   "metadata": {},
   "source": [
    "Everything we learned for tuples still works:"
   ]
  },
  {
   "cell_type": "code",
   "execution_count": null,
   "id": "1b0c67c0",
   "metadata": {},
   "outputs": [],
   "source": [
    "maria[0]"
   ]
  },
  {
   "cell_type": "markdown",
   "id": "c35896ce",
   "metadata": {},
   "source": [
    "# Literature:\n",
    "* https://www.w3schools.com/python/python_tuples.asp\n",
    "* https://www.tutorialspoint.com/python/python_tuples.htm\n",
    "* https://www.geeksforgeeks.org/tuples-in-python/\n",
    "* https://docs.python.org/3/tutorial/datastructures.html"
   ]
  },
  {
   "cell_type": "code",
   "execution_count": null,
   "id": "c3ece01c",
   "metadata": {},
   "outputs": [],
   "source": []
  }
 ],
 "metadata": {
  "kernelspec": {
   "display_name": "Python 3 (ipykernel)",
   "language": "python",
   "name": "python3"
  },
  "language_info": {
   "codemirror_mode": {
    "name": "ipython",
    "version": 3
   },
   "file_extension": ".py",
   "mimetype": "text/x-python",
   "name": "python",
   "nbconvert_exporter": "python",
   "pygments_lexer": "ipython3",
   "version": "3.9.7"
  }
 },
 "nbformat": 4,
 "nbformat_minor": 5
}
