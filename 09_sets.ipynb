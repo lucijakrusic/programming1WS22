{
 "cells": [
  {
   "cell_type": "markdown",
   "id": "d56332a4",
   "metadata": {},
   "source": [
    "# Sets\n",
    "\n",
    "Sets are an unordered datatype in Python. Sets have two important properties:\n",
    "\n",
    "* They are **unordered**. Thus, the elements of a set are not in a particular order, as they are in a list.\n",
    "* Each element can be contained in a set **only once**. For example, if you have a set of names, each name can only occur exactly once in that set. This is also the reason why mutable data types are not allowed as values in a set. Therefore, you cannot create a set of lists, for example.\n",
    "\n",
    "In Python there are two types of sets:\n",
    "\n",
    "* **set** is the data type for mutable sets. This means that elements can be added and removed as needed.\n",
    "* **frozenset** is the data type for immutable sets. For example, you can convert a list or a `set` into a `frozenset`. This `frozenset` is not changeable afterwards. Since `frozensets` do not differ from normal sets apart from their immutability, we will not delve deeper into it"
   ]
  },
  {
   "cell_type": "code",
   "execution_count": null,
   "id": "0aeaffcb",
   "metadata": {},
   "outputs": [],
   "source": [
    "from IPython.display import Image\n",
    "Image(\"img/Python-data-structure.jpg\")"
   ]
  },
  {
   "cell_type": "markdown",
   "id": "3ca6eb64",
   "metadata": {},
   "source": [
    "## Create sets\n",
    "\n",
    "Just as square brackets create a list, curly brackets create a set:"
   ]
  },
  {
   "cell_type": "code",
   "execution_count": null,
   "id": "5b64bea8",
   "metadata": {},
   "outputs": [],
   "source": [
    "names = {'Santa', 'Claus', 'Klara', 'Marko'}\n",
    "type(names)"
   ]
  },
  {
   "cell_type": "markdown",
   "id": "5de0caaf",
   "metadata": {},
   "source": [
    "Another possibility is to convert other data types (sequence types) into a set. For this we need the function `set()`: "
   ]
  },
  {
   "cell_type": "code",
   "execution_count": null,
   "id": "fad5ffc0",
   "metadata": {},
   "outputs": [],
   "source": [
    "names = ['Santa', 'Claus', 'Klara', 'Marko']\n",
    "nameset = set(names)\n",
    "type(nameset)"
   ]
  },
  {
   "cell_type": "markdown",
   "id": "a93c4654",
   "metadata": {},
   "source": [
    "So the function `set()` converts other types into a set. It is applicable to all *iterables*, that is, to any data type that can return its elements one by one."
   ]
  },
  {
   "cell_type": "markdown",
   "id": "81ca4197",
   "metadata": {},
   "source": [
    "### Example: Convert list to set"
   ]
  },
  {
   "cell_type": "markdown",
   "id": "ebe2e807",
   "metadata": {},
   "source": [
    "In the last notebook, we created a distinct list of first names by checking in a `for` loop for each entry in the list of names whether it was already present in the second list `distinct_names`. Since by definition there cannot be duplicate entries in a set, we can take advantage of this to accomplish the same thing: We simply convert our list of names into a set."
   ]
  },
  {
   "cell_type": "markdown",
   "id": "5bd5e9a0",
   "metadata": {},
   "source": [
    "First we read all the names into the list `clean_names` again:"
   ]
  },
  {
   "cell_type": "code",
   "execution_count": null,
   "id": "8cd11cdb",
   "metadata": {},
   "outputs": [],
   "source": [
    "with open('data/names/names_short.txt', encoding='utf-8') as fh:\n",
    "    clean_names = [line.rstrip() for line in fh.readlines()]"
   ]
  },
  {
   "cell_type": "markdown",
   "id": "f9693d36",
   "metadata": {},
   "source": [
    "Then we convert the list into a `set`:"
   ]
  },
  {
   "cell_type": "code",
   "execution_count": null,
   "id": "e02feb87",
   "metadata": {},
   "outputs": [],
   "source": [
    "distinct_names = set(clean_names)\n",
    "print('clean_names: {} entires, distinct_names: {} entries'. format(len(clean_names), len(distinct_names)))   "
   ]
  },
  {
   "cell_type": "markdown",
   "id": "4b616ce0",
   "metadata": {},
   "source": [
    "However, `distinct_names` is now no longer a list, but of type `set`:"
   ]
  },
  {
   "cell_type": "code",
   "execution_count": null,
   "id": "b195181a",
   "metadata": {},
   "outputs": [],
   "source": [
    "type(distinct_names)"
   ]
  },
  {
   "cell_type": "markdown",
   "id": "f3b3cd96",
   "metadata": {},
   "source": [
    "We could simply convert the set created above back into a list to apply the already known list methods to it:"
   ]
  },
  {
   "cell_type": "code",
   "execution_count": null,
   "id": "e6ccbaac",
   "metadata": {},
   "outputs": [],
   "source": [
    "distinct_names = list(distinct_names)\n",
    "type(distinct_names)"
   ]
  },
  {
   "cell_type": "markdown",
   "id": "f04a3370",
   "metadata": {},
   "source": [
    "We can even do it in one go:"
   ]
  },
  {
   "cell_type": "code",
   "execution_count": null,
   "id": "d2e7de77",
   "metadata": {},
   "outputs": [],
   "source": [
    "distinct_names = list(set(clean_names))\n",
    "type(distinct_names), len(distinct_names)"
   ]
  },
  {
   "cell_type": "markdown",
   "id": "abb5fbb0",
   "metadata": {},
   "source": [
    "Often, however, this is not necessary, because many things that work with lists can also be applied to sets. For example, the function `len()` can be used to determine the number of elements in a set:"
   ]
  },
  {
   "cell_type": "markdown",
   "id": "cd49103b",
   "metadata": {},
   "source": [
    "## Count elements with len()\n",
    "\n",
    "The `len()` function can also be applied to sets to count the number of elements present in the set:"
   ]
  },
  {
   "cell_type": "code",
   "execution_count": null,
   "id": "5978fe8e",
   "metadata": {},
   "outputs": [],
   "source": [
    "distinct_names = set(clean_names)\n",
    "len(distinct_names)"
   ]
  },
  {
   "cell_type": "markdown",
   "id": "ba935cd8",
   "metadata": {},
   "source": [
    "## Check for the presence of elements with the `in` operator.\n",
    "\n",
    "The `in` operator also works exactly the same as with lists: with `in` we can test whether a value is present in the set:"
   ]
  },
  {
   "cell_type": "code",
   "execution_count": null,
   "id": "642dadd2",
   "metadata": {},
   "outputs": [],
   "source": [
    "names = {'Santa', 'Claus', 'Klara'}\n",
    "'Santa' in names"
   ]
  },
  {
   "cell_type": "markdown",
   "id": "215680b8",
   "metadata": {},
   "source": [
    "## Iterate through sets with for ... in\n",
    "\n",
    "You can iterate through a set with `for ... in` in exactly the same way as you can iterate through a list. However, you should note that unlike lists, there is no fixed order of elements in sets. So it is not predictable in which order the elements will be processed in the loop. \n",
    "\n",
    "To illustrate this, we can again divide the first names into long, medium-length and short names and count them out: "
   ]
  },
  {
   "cell_type": "code",
   "execution_count": null,
   "id": "b8dab256",
   "metadata": {},
   "outputs": [],
   "source": [
    "short_length_names = 0\n",
    "medium_length_names = 0\n",
    "long_length_names = 0\n",
    "\n",
    "# if you have run the cells above, distinct_names is a set, not a list like in the original example!\n",
    "print(type(distinct_names))\n",
    "for name in distinct_names: # distinct_names is a set\n",
    "    if len(name) > 8:\n",
    "        long_length_names += 1\n",
    "    elif len(name) < 5:\n",
    "        short_length_names += 1\n",
    "    else:\n",
    "        medium_length_names += 1\n",
    "        \n",
    "print('{} short names, {} medium-length und {} long names'.format(\n",
    "    short_length_names, medium_length_names, long_length_names))"
   ]
  },
  {
   "cell_type": "markdown",
   "id": "fc051154",
   "metadata": {},
   "source": [
    "<div class=\"alert alert-block alert-info\">\n",
    "<b>Exercise 1</b>\n",
    "<p>Since strings are also sequence types, you can cast a string to a set (of characters). Use this technique to find out how many <b>different</b> letters make up your name.</p>\n",
    "</div>"
   ]
  },
  {
   "cell_type": "code",
   "execution_count": null,
   "id": "46e80776",
   "metadata": {},
   "outputs": [],
   "source": [
    "name = input('Input your name: ')\n",
    "distinct_chars = # TODO\n",
    "print(f'your name contains {len(name)} characters, form which {len(distinct_chars)} are different')"
   ]
  },
  {
   "cell_type": "markdown",
   "id": "fa251fcd",
   "metadata": {},
   "source": [
    "## Change quantities"
   ]
  },
  {
   "cell_type": "markdown",
   "id": "5845a411",
   "metadata": {},
   "source": [
    "### Add values to a set\n",
    "\n",
    "A new element can be added to a set using the `add()` method. Please note the subtle semantic difference to `append()` for lists: `append()` appends to the end of the list; but since a set has no defined order, the same functionality is offered here by the `add()` method: the new element is simply added to the set without implying a specific position."
   ]
  },
  {
   "cell_type": "code",
   "execution_count": null,
   "id": "437681ed",
   "metadata": {},
   "outputs": [],
   "source": [
    "names = {'Santa', 'Claus', 'Klara'}\n",
    "names.add('Kat')\n",
    "names"
   ]
  },
  {
   "cell_type": "markdown",
   "id": "6c1ab02a",
   "metadata": {},
   "source": [
    "Of course you can also start with an empty set. However, the notation with the curly brackets does not work here because it is already being used to create an empty dictionary (coming in the notebook after next). Therefore, we need to explicitly create a `set` object:"
   ]
  },
  {
   "cell_type": "code",
   "execution_count": null,
   "id": "6c65449a",
   "metadata": {},
   "outputs": [],
   "source": [
    "names = set()\n",
    "names.add('Tim')\n",
    "names.add('Blue power ranger')\n",
    "names"
   ]
  },
  {
   "cell_type": "markdown",
   "id": "934ed4b2",
   "metadata": {},
   "source": [
    "Since each element can only appear once in a set, a set silently ignores an added element if it already exists:"
   ]
  },
  {
   "cell_type": "code",
   "execution_count": null,
   "id": "f03a7130",
   "metadata": {},
   "outputs": [],
   "source": [
    "names = {'Santa', 'Claus', 'Klara'}\n",
    "names.add('Santa')\n",
    "names"
   ]
  },
  {
   "cell_type": "markdown",
   "id": "44df794f",
   "metadata": {},
   "source": [
    "### Removing values from a set with discard()"
   ]
  },
  {
   "cell_type": "markdown",
   "id": "14861853",
   "metadata": {},
   "source": [
    "The `discard()` method removes a specific element from a set:"
   ]
  },
  {
   "cell_type": "code",
   "execution_count": null,
   "id": "d4250de2",
   "metadata": {},
   "outputs": [],
   "source": [
    "names = {'Santa', 'Claus', 'Klara'}\n",
    "names.discard('Klara')\n",
    "print(names)"
   ]
  },
  {
   "cell_type": "markdown",
   "id": "f1c83b85",
   "metadata": {},
   "source": [
    "If we try to discard a nonexistent element with `discard()` , Python silently ignores it:"
   ]
  },
  {
   "cell_type": "code",
   "execution_count": null,
   "id": "03f7e463",
   "metadata": {},
   "outputs": [],
   "source": [
    "names = {'Santa', 'Claus', 'Klara'}\n",
    "names.discard('Powrranger')\n",
    "print(names)"
   ]
  },
  {
   "cell_type": "markdown",
   "id": "c65a4f7e",
   "metadata": {},
   "source": [
    "### Remove values from a set with remove()"
   ]
  },
  {
   "cell_type": "markdown",
   "id": "8ad12d32",
   "metadata": {},
   "source": [
    "An alternative method to remove an element is available with `remove()`:"
   ]
  },
  {
   "cell_type": "code",
   "execution_count": null,
   "id": "37f63a47",
   "metadata": {},
   "outputs": [],
   "source": [
    "names = {'Santa', 'Claus', 'Klara', 'Marko'}\n",
    "print(names)\n",
    "names.remove('Santa')\n",
    "names"
   ]
  },
  {
   "cell_type": "markdown",
   "id": "a6ad96fd",
   "metadata": {},
   "source": [
    "The difference from `discard()` lies in the way Python reacts when we try to remove a nonexistent element:"
   ]
  },
  {
   "cell_type": "code",
   "execution_count": null,
   "id": "53f4cd7f",
   "metadata": {},
   "outputs": [],
   "source": [
    "names = {'Santa', 'Claus', 'Klara', 'Marko'}\n",
    "print(names)\n",
    "names.remove('Lucija')\n",
    "names"
   ]
  },
  {
   "cell_type": "markdown",
   "id": "acc03dc0",
   "metadata": {},
   "source": [
    "Here, the missing value is not simply ignored, but an exception is thrown. We will learn what that is in one of the next notebooks."
   ]
  },
  {
   "cell_type": "markdown",
   "id": "3baa2317",
   "metadata": {},
   "source": [
    "### Remove a value with `pop()`"
   ]
  },
  {
   "cell_type": "code",
   "execution_count": null,
   "id": "743fa0e3",
   "metadata": {},
   "outputs": [],
   "source": [
    "names = {'Santa', 'Claus', 'Klara', 'Marko'}\n",
    "print(names)\n",
    "names.pop()\n",
    "names"
   ]
  },
  {
   "cell_type": "markdown",
   "id": "a52dd35b",
   "metadata": {},
   "source": [
    "We learned that `pop()` removes the last element of a list. Since a set has no defined order, `pop()` removes an unpredictable element from the set. The method still makes sense, a bit if you want to remove one element at a time in a `while` loop:"
   ]
  },
  {
   "cell_type": "code",
   "execution_count": null,
   "id": "4cb25801",
   "metadata": {},
   "outputs": [],
   "source": [
    "names = {'Santa', 'Claus', 'Klara', 'Marko'}\n",
    "while names:  # True, as long as there's elements in the set\n",
    "    print(names.pop())\n",
    "names # now empty"
   ]
  },
  {
   "cell_type": "markdown",
   "id": "f6188058",
   "metadata": {},
   "source": [
    "### Delete all values from a set\n",
    "\n",
    "There is a method `clear()` for deleting all values from a set:"
   ]
  },
  {
   "cell_type": "code",
   "execution_count": null,
   "id": "e19b5eb0",
   "metadata": {},
   "outputs": [],
   "source": [
    "names = {'Santa', 'Claus', 'Klara', 'Marko'}\n",
    "print(names)\n",
    "names.clear()\n",
    "names"
   ]
  },
  {
   "cell_type": "markdown",
   "id": "102f5977",
   "metadata": {},
   "source": [
    "<div class=\"alert alert-block alert-info\">\n",
    "<b>Exercise 2</b>\n",
    "<ol>\n",
    "<li>Read the file <tt>data/names/first_2015.txt</tt> line by line, remove the line breaks and convert the resulting list into a set <tt>distinct_names</tt>.</li >\n",
    "<li>Iterate through this set in a loop and print out all entries that consist of 3, 4 or 5 characters.</li>\n",
    "</ol>\n",
    "</div>"
   ]
  },
  {
   "cell_type": "code",
   "execution_count": null,
   "id": "41347179",
   "metadata": {},
   "outputs": [],
   "source": []
  },
  {
   "cell_type": "markdown",
   "id": "5e14032b",
   "metadata": {},
   "source": [
    "## Set operations\n",
    "\n",
    "While removing multiple elements is a nice feature, the real purpose of sets is that we can use them to do set theory. "
   ]
  },
  {
   "cell_type": "markdown",
   "id": "0796450e",
   "metadata": {},
   "source": [
    "### Form the intersection\n",
    "\n",
    "Let's assume we have two groups of friends: One from the university, a second we meet regularly at yoga:"
   ]
  },
  {
   "cell_type": "code",
   "execution_count": null,
   "id": "bd65edf0",
   "metadata": {},
   "outputs": [],
   "source": [
    "uni_friends = {'Ana', 'Tino', 'Hannes', 'Sabrina'}\n",
    "yoga_friends = {'Emil', 'Sabrina', 'Tino'}"
   ]
  },
  {
   "cell_type": "markdown",
   "id": "b0167a26",
   "metadata": {},
   "source": [
    "If we want to find out who belongs to both groups, we have to make the intersection of the two sets.\n",
    "\n",
    "![intersection](img/set_intersection.png)"
   ]
  },
  {
   "cell_type": "code",
   "execution_count": null,
   "id": "6a32c462",
   "metadata": {},
   "outputs": [],
   "source": [
    "uni_friends & yoga_friends"
   ]
  },
  {
   "cell_type": "markdown",
   "id": "dcee77bd",
   "metadata": {},
   "source": [
    "We have learned here about the `&` operator, which, applied to two sets, forms the intersection of these two sets.\n",
    "\n",
    "As an alternative to the `&` operator, you can use the `intersection()` method of a `set` object:"
   ]
  },
  {
   "cell_type": "code",
   "execution_count": null,
   "id": "8f88e884",
   "metadata": {},
   "outputs": [],
   "source": [
    "uni_friends.intersection(yoga_friends)"
   ]
  },
  {
   "cell_type": "markdown",
   "id": "ffc0d6d7",
   "metadata": {},
   "source": [
    "### Forming the difference of two sets\n",
    "\n",
    "The difference of two sets is formed by removing all elements that are present in both sets,\n",
    "is removed from one set: Thus, only the elements that are present in only one set remain.\n",
    "\n",
    "![difference set](img/set_difference.png)\n",
    "\n",
    "To make this a bit more concrete: If we want to find out which of our friends we only know from university, the difference operator `-` is exactly what we need:"
   ]
  },
  {
   "cell_type": "code",
   "execution_count": null,
   "id": "b1e4b3c7",
   "metadata": {},
   "outputs": [],
   "source": [
    "uni_friends - yoga_friends"
   ]
  },
  {
   "cell_type": "markdown",
   "id": "b6478dbd",
   "metadata": {},
   "source": [
    "Here, too, there is an alternative method to the operator: `difference()`.\n"
   ]
  },
  {
   "cell_type": "code",
   "execution_count": null,
   "id": "8b754b00",
   "metadata": {},
   "outputs": [],
   "source": [
    "uni_friends.difference(yoga_friends)"
   ]
  },
  {
   "cell_type": "markdown",
   "id": "3c698fa3",
   "metadata": {},
   "source": [
    "If we want to find out if we only know from bouldering, we have to swap the two sets:"
   ]
  },
  {
   "cell_type": "code",
   "execution_count": null,
   "id": "6a29a31f",
   "metadata": {},
   "outputs": [],
   "source": [
    "yoga_friends - uni_friends"
   ]
  },
  {
   "cell_type": "code",
   "execution_count": null,
   "id": "d8536513",
   "metadata": {},
   "outputs": [],
   "source": [
    "yoga_friends.difference(uni_friends)"
   ]
  },
  {
   "cell_type": "markdown",
   "id": "5e1cb1f4",
   "metadata": {},
   "source": [
    "### Form union of two sets"
   ]
  },
  {
   "cell_type": "markdown",
   "id": "5a5bf4cc",
   "metadata": {},
   "source": [
    "The union quantity can be generated just as easily:"
   ]
  },
  {
   "cell_type": "code",
   "execution_count": null,
   "id": "3e0a37ed",
   "metadata": {},
   "outputs": [],
   "source": [
    "uni_friends | yoga_friends"
   ]
  },
  {
   "cell_type": "markdown",
   "id": "6c79c123",
   "metadata": {},
   "source": [
    "now contains all elements from both sets.\n",
    "\n",
    "![union set](img/set_union.png)"
   ]
  },
  {
   "cell_type": "markdown",
   "id": "99642c4d",
   "metadata": {},
   "source": [
    "Again, there is a method that does the same as the `|` operator: `.union()`:"
   ]
  },
  {
   "cell_type": "code",
   "execution_count": null,
   "id": "a5386c1d",
   "metadata": {},
   "outputs": [],
   "source": [
    "uni_friends.union(yoga_friends)"
   ]
  },
  {
   "cell_type": "markdown",
   "id": "aceb77a0",
   "metadata": {},
   "source": [
    "## Other useful methods\n",
    "\n",
    "When programming, it's not uncommon to program something yourself and then later find out that this functionality was already there anyway. Therefore here area few more useful methods of the Set object. (From here on no exam material, because you can look this up at any time)."
   ]
  },
  {
   "cell_type": "markdown",
   "id": "7f119f00",
   "metadata": {},
   "source": [
    "### Are there any overlaps?\n",
    "\n",
    "To find out if two sets have no elements in common, you can use `isdisjoint()`:"
   ]
  },
  {
   "cell_type": "code",
   "execution_count": null,
   "id": "a1a803ae",
   "metadata": {},
   "outputs": [],
   "source": [
    "uni_friends = {'Ana', 'Elena', 'Alex', 'George'}\n",
    "yoga_friends = {'Emil', 'Sabrina', 'George'}\n",
    "highschool_friends = {'Maja', 'Mario', 'Elisabeth'}\n",
    "\n",
    "uni_friends.isdisjoint(yoga_friends)"
   ]
  },
  {
   "cell_type": "code",
   "execution_count": null,
   "id": "febfb0d0",
   "metadata": {},
   "outputs": [],
   "source": [
    "uni_friends.isdisjoint(highschool_friends)"
   ]
  },
  {
   "cell_type": "markdown",
   "id": "a218aa1d",
   "metadata": {},
   "source": [
    "## Is one set a subset of the other set?\n",
    "\n",
    "To find out if all elements of one set are contained in the other set, you can use `issubset()`."
   ]
  },
  {
   "cell_type": "code",
   "execution_count": null,
   "id": "a1e263ca",
   "metadata": {},
   "outputs": [],
   "source": [
    "uni_friends = {'Ana', 'Elena', 'Alex', 'George'}\n",
    "yoga_friends = {'Ana', 'George'}\n",
    "\n",
    "yoga_friends.issubset(uni_friends)"
   ]
  },
  {
   "cell_type": "markdown",
   "id": "999f4582",
   "metadata": {},
   "source": [
    "We can also reverse it:"
   ]
  },
  {
   "cell_type": "code",
   "execution_count": null,
   "id": "148aeca8",
   "metadata": {},
   "outputs": [],
   "source": [
    "uni_friends = {'Ana', 'Elena', 'Alex', 'George'}\n",
    "yoga_friends = {'Ana', 'George'}\n",
    "\n",
    "uni_friends.issuperset(yoga_friends)"
   ]
  },
  {
   "cell_type": "markdown",
   "id": "e329278b",
   "metadata": {},
   "source": [
    "# Literature:\n",
    "* https://docs.python.org/3/tutorial/datastructures.html\n",
    "* https://www.w3schools.com/python/python_sets.asp\n",
    "* https://realpython.com/python-sets/\n",
    "* https://www.youtube.com/watch?v=W8KRzm-HUcc"
   ]
  },
  {
   "cell_type": "code",
   "execution_count": null,
   "id": "b3bf607a",
   "metadata": {},
   "outputs": [],
   "source": []
  }
 ],
 "metadata": {
  "kernelspec": {
   "display_name": "Python 3 (ipykernel)",
   "language": "python",
   "name": "python3"
  },
  "language_info": {
   "codemirror_mode": {
    "name": "ipython",
    "version": 3
   },
   "file_extension": ".py",
   "mimetype": "text/x-python",
   "name": "python",
   "nbconvert_exporter": "python",
   "pygments_lexer": "ipython3",
   "version": "3.9.7"
  }
 },
 "nbformat": 4,
 "nbformat_minor": 5
}
