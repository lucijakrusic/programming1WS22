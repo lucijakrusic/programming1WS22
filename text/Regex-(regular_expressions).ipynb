{
 "cells": [
  {
   "cell_type": "markdown",
   "id": "f6504e5c",
   "metadata": {},
   "source": [
    "## What are regular expressions?\n",
    "\n",
    "Regular expressions are a generalized way to match patterns with sequences of characters. They define a search pattern, mainly for use in pattern matching with strings, or character matching, i.e. “find and replace” like operations.\n",
    "\n",
    "These expressions are largely cross-linguistic:\n",
    "Except for some minor variations, a *regular expression* can be used in\n",
    "programming languages such as Python, Perl or Java, or at least very similar. \n",
    "Also text editors offer support for regular expressions as well as, e.g. also MS Word.\n",
    "\n",
    "\n"
   ]
  },
  {
   "cell_type": "markdown",
   "id": "af81f359",
   "metadata": {},
   "source": [
    "## Why regular expressions?"
   ]
  },
  {
   "cell_type": "markdown",
   "id": "c387bd89",
   "metadata": {},
   "source": [
    "So far we have learned a few ways to search for a substring in a string.\n",
    "\n",
    "* The in operator checks whether a substring occurs in the string:"
   ]
  },
  {
   "cell_type": "code",
   "execution_count": null,
   "id": "6064e22c",
   "metadata": {},
   "outputs": [],
   "source": [
    "firstnames = ['Astrid', 'Ines', 'Christoph', 'Markus', 'Çınar', \n",
    "              'Đželila', 'Niklas', 'Anna', 'Stefanie', 'Raphael', \n",
    "              'Anna-Lena', 'Silvia', 'Julian', 'Simon', 'Katharina', \n",
    "              'Michael', 'Dominik', 'Maria', 'Kevin', 'Bianca', \n",
    "              'Thomas', 'Nora', 'Manuel', 'Selina', 'Gabriel', \n",
    "              'Daniel', 'Thomas', 'Nina', 'Michael', 'Fabio', \n",
    "              'Theresa', 'Manuel', 'Carina', 'Philipp', 'Lukas', \n",
    "              'Wolfgang', 'Anna', 'Doris', 'Thomas', 'Muhammed', \n",
    "              'Christoph', 'Lisa-Marie', 'Jessica', 'Maria', \n",
    "              'Thomas', 'Florian', 'Martin', 'Anna', 'Oliver', \n",
    "              'Gregor', 'Helmut', 'Florian', 'Matteo', 'David', \n",
    "              'Marlene', 'Vanessa', 'Lea', 'Jan', 'Béla', 'Verena', \n",
    "              'Manuel', 'Björn', 'Tobias', 'Denise', 'Emma', 'Lukas', \n",
    "              'Sarah', 'Oliver', 'Janine', 'Manuel', 'Georg', 'Lorenz', \n",
    "              'Verena', 'Caroline', 'Laura', 'Felix', 'Simon', 'Lea', \n",
    "              'Peter', 'Sandra', 'Julia', 'Sophie', 'Jacqueline', \n",
    "              'Nina', 'Sebastian', 'David', 'Matthias', 'Patrick', \n",
    "              'Selina', 'Fabian', 'Daniel', 'Sabine', 'Josef', 'Lisa', \n",
    "              'Carina', 'Florian', 'Fabian', 'Viktoria', 'Christoph', \n",
    "              'Emilia']\n"
   ]
  },
  {
   "cell_type": "code",
   "execution_count": null,
   "id": "79b4d9a6",
   "metadata": {},
   "outputs": [],
   "source": [
    "for firstname in firstnames:\n",
    "    if 'ie' in firstname:\n",
    "        print(firstname)"
   ]
  },
  {
   "cell_type": "markdown",
   "id": "6e0b6d99",
   "metadata": {},
   "source": [
    "* test ```startswith()``` und ```endswith()``` to see whether a string starts or ends with a substring:"
   ]
  },
  {
   "cell_type": "code",
   "execution_count": null,
   "id": "66093183",
   "metadata": {},
   "outputs": [],
   "source": [
    "[firstname for firstname in firstnames if firstname.startswith('A')]"
   ]
  },
  {
   "cell_type": "code",
   "execution_count": null,
   "id": "03196429",
   "metadata": {},
   "outputs": [],
   "source": [
    "[firstname for firstname in firstnames if firstname.endswith('o')]"
   ]
  },
  {
   "cell_type": "markdown",
   "id": "6d9bc4c8",
   "metadata": {},
   "source": [
    "Regular expressions greatly extend the possibilities of searching for a pattern in a string. They are also not Python-specific, but as mentioned earlier, are available in most programming languages and many text editors.\n",
    "\n",
    "A regular expression is a pattern written in a special syntax that is applied to a string."
   ]
  },
  {
   "cell_type": "markdown",
   "id": "d4904e29",
   "metadata": {},
   "source": [
    "Here's a tip right away: More complex regular expressions are often difficult to understand. Experience shows that the use of interactive or even visualizing regex testers helps here. Here are some recommendations:\n",
    "* my favorite : https://regex101.com/\n",
    "* https://pythex.org/ \n",
    "* https://www.debuggex.com/"
   ]
  },
  {
   "cell_type": "markdown",
   "id": "2a2401a1",
   "metadata": {},
   "source": [
    "## Regex in Python"
   ]
  },
  {
   "cell_type": "markdown",
   "id": "5f6077b2",
   "metadata": {},
   "source": [
    "In Python, regular expressions are provided via the `re` module from the standard library. Alternatively, there is the somewhat newer `regex` module, which we would have to install via pip or conda first. Here we use the `re` module which is already available everywhere."
   ]
  },
  {
   "cell_type": "code",
   "execution_count": null,
   "id": "f6c8b8c6",
   "metadata": {},
   "outputs": [],
   "source": [
    "import re"
   ]
  },
  {
   "cell_type": "markdown",
   "id": "2637f13d",
   "metadata": {},
   "source": [
    "The re module provides a number of functions, including the `search()` function, which can be used to search for a pattern in a\n",
    "a string. `search()` expects two arguments: the pattern to search for and the string to which the pattern applies.\n",
    "\n",
    "If the pattern is found, `search()` returns a `match` object:"
   ]
  },
  {
   "cell_type": "code",
   "execution_count": null,
   "id": "24fdfefc",
   "metadata": {},
   "outputs": [],
   "source": [
    "re.search('de', 'abcdef')"
   ]
  },
  {
   "cell_type": "markdown",
   "id": "90eb567d",
   "metadata": {},
   "source": [
    "If the pattern is not found, `search()` returns `None` instead of a ``Match`` object: "
   ]
  },
  {
   "cell_type": "code",
   "execution_count": null,
   "id": "b8cd15f8",
   "metadata": {},
   "outputs": [],
   "source": [
    "print(re.search('xyz', 'abcdef'))"
   ]
  },
  {
   "cell_type": "markdown",
   "id": "fbd69bb4",
   "metadata": {},
   "source": [
    "However, we could have done the same thing with a simple \n",
    "\n",
    "```python\n",
    "'xyz' in 'abcdef'.\n",
    "``` \n",
    "\n",
    "could have achieved the same thing:"
   ]
  },
  {
   "cell_type": "code",
   "execution_count": null,
   "id": "49e6ec9c",
   "metadata": {},
   "outputs": [],
   "source": [
    "'xyz' in 'abcdef'"
   ]
  },
  {
   "cell_type": "markdown",
   "id": "88e031c9",
   "metadata": {},
   "source": [
    "The power of regular expressions only comes from the ability to define more complex patterns."
   ]
  },
  {
   "cell_type": "markdown",
   "id": "73648b77",
   "metadata": {},
   "source": [
    "## Patterns"
   ]
  },
  {
   "cell_type": "markdown",
   "id": "81b21681",
   "metadata": {},
   "source": [
    "### Test for beginning of string\n",
    "Regular expressions use the `^` character (top left of the keyboard) to mark the beginning of the string. If the first character of the pattern is a '^', then the pattern following it must occur at the beginning of the string:"
   ]
  },
  {
   "cell_type": "code",
   "execution_count": null,
   "id": "ee12a4b6",
   "metadata": {},
   "outputs": [],
   "source": [
    "re.search('^ab', 'abc')"
   ]
  },
  {
   "cell_type": "markdown",
   "id": "22f14ee9",
   "metadata": {},
   "source": [
    "returns a match object, "
   ]
  },
  {
   "cell_type": "code",
   "execution_count": null,
   "id": "205b4a00",
   "metadata": {},
   "outputs": [],
   "source": [
    "re.search('^ab', 'cab')"
   ]
  },
  {
   "cell_type": "markdown",
   "id": "9da5a24a",
   "metadata": {},
   "source": [
    "on the other hand, does not find the pattern: ``ab`` occurs in the string, but not at the beginning of the string."
   ]
  },
  {
   "cell_type": "markdown",
   "id": "d62f70b9",
   "metadata": {},
   "source": [
    "### Test for end of string\n",
    "\n",
    "Regular expressions use the `$` character to mark the end of the string:"
   ]
  },
  {
   "cell_type": "code",
   "execution_count": null,
   "id": "a96efaba",
   "metadata": {},
   "outputs": [],
   "source": [
    "re.search('z$', 'xyz')"
   ]
  },
  {
   "cell_type": "markdown",
   "id": "57e76d7b",
   "metadata": {},
   "source": [
    "does not return a match because ``z`` is not the last character of the string.\n"
   ]
  },
  {
   "cell_type": "markdown",
   "id": "75eda9be",
   "metadata": {},
   "source": [
    "<div class=\"alert alert-block alert-info\">\n",
    "<b>Exercise Regex-1</b>\n",
    "<p>Things to think about: Which string does the following pattern match?</p>\n",
    "</div>"
   ]
  },
  {
   "cell_type": "code",
   "execution_count": null,
   "id": "32fb42fb",
   "metadata": {},
   "outputs": [],
   "source": [
    "re.search('^abc$', '')"
   ]
  },
  {
   "cell_type": "markdown",
   "id": "83a663f9",
   "metadata": {},
   "source": [
    "### Any characters and quantizers"
   ]
  },
  {
   "cell_type": "markdown",
   "id": "8c1f78fa",
   "metadata": {},
   "source": [
    "The dot stands for any character in a regular expression."
   ]
  },
  {
   "cell_type": "code",
   "execution_count": null,
   "id": "c60c1fa9",
   "metadata": {},
   "outputs": [],
   "source": [
    "re.search('v.n', 'Guido van Rossum')"
   ]
  },
  {
   "cell_type": "code",
   "execution_count": null,
   "id": "5798a629",
   "metadata": {},
   "outputs": [],
   "source": [
    "re.search('v.n', 'Anton von Webern')"
   ]
  },
  {
   "cell_type": "markdown",
   "id": "629517d6",
   "metadata": {},
   "source": [
    "thus returns a hit in both cases, because the pattern ``v.n`` matches both ``van`` and ``of``."
   ]
  },
  {
   "cell_type": "markdown",
   "id": "6fd875ce",
   "metadata": {},
   "source": [
    "Each character can be combined with a *quantor* that specifies how often the character must occur at that position. You should know the following quantifiers:\n",
    "\n",
    "* `*`: The asterisk character means 0 to any number of repetitions.\n",
    "* `+`: The plus sign means one or more repetitions\n",
    "* `?`: The question mark stands for no or one repetition"
   ]
  },
  {
   "cell_type": "markdown",
   "id": "e809fb89",
   "metadata": {},
   "source": [
    "#### Any number of repetitions (*).\n",
    "\n",
    "A quantifier can be combined with any character. Here we combine the quantifier `*` with the character `a`, which means: *At this position, the character `a` can appear no times, once or any number of times.*"
   ]
  },
  {
   "cell_type": "code",
   "execution_count": null,
   "id": "db9273ac",
   "metadata": {},
   "outputs": [],
   "source": [
    "import re\n",
    "\n",
    "for s in ['cl', 'col', 'cool', 'coool']:\n",
    "    if re.search('c*l', s):\n",
    "        print(s)"
   ]
  },
  {
   "cell_type": "code",
   "execution_count": null,
   "id": "ceb66c48",
   "metadata": {},
   "outputs": [],
   "source": [
    "re.search('G.*v', 'Guido van Rossum')"
   ]
  },
  {
   "cell_type": "markdown",
   "id": "e070598f",
   "metadata": {},
   "source": [
    "The pattern matches `Guido v` because any number of characters are allowed between the `G` and the `v`. \n",
    "However, any number includes *none*, as we can see from this example:"
   ]
  },
  {
   "cell_type": "code",
   "execution_count": null,
   "id": "467f0f88",
   "metadata": {},
   "outputs": [],
   "source": [
    "re.search('R.*o', 'Guido van Rossum')"
   ]
  },
  {
   "cell_type": "markdown",
   "id": "9a9a8519",
   "metadata": {},
   "source": [
    "although the `o` in `Rossum` immediately follows the `R`, so there is no other character in between, our pattern fits. \n",
    "\n",
    "#### One or more repetitions (+).\n",
    "If we use the quantifier `+` (1 or more repetitions) instead of `*`, the pattern for `Ro` no longer fits, because ``+`` requires at least 1 character at this position:"
   ]
  },
  {
   "cell_type": "code",
   "execution_count": null,
   "id": "bef574e2",
   "metadata": {},
   "outputs": [],
   "source": [
    "print(re.search('R.+o', 'Guido van Rossum'))"
   ]
  },
  {
   "cell_type": "markdown",
   "id": "de0ad0de",
   "metadata": {},
   "source": [
    "This pattern, on the other hand, is still found:"
   ]
  },
  {
   "cell_type": "code",
   "execution_count": null,
   "id": "39744c23",
   "metadata": {},
   "outputs": [],
   "source": [
    "re.search('G.+v', 'Guido van Rossum')"
   ]
  },
  {
   "cell_type": "markdown",
   "id": "c9a0ffe4",
   "metadata": {},
   "source": [
    "#### None or a repetition (?)\n",
    "The following example (`R.?s`) fits, because the question mark stands for none or a repetition, on e.g. `Ros` or `Rus`, but also on `Rs`, but not on `Roos`."
   ]
  },
  {
   "cell_type": "code",
   "execution_count": null,
   "id": "f22ccdd4",
   "metadata": {},
   "outputs": [],
   "source": [
    "for s in ['Ros', 'Rus', 'Rxs', 'Rs', 'Roos']:\n",
    "    if re.search('R.?s', s):\n",
    "        print(s)"
   ]
  },
  {
   "cell_type": "markdown",
   "id": "4af171e4",
   "metadata": {},
   "source": [
    "So here we are looking for substrings where there are exactly two (arbitrary) characters between ``R`` and ``s``."
   ]
  },
  {
   "cell_type": "markdown",
   "id": "24fdb3ba",
   "metadata": {},
   "source": [
    "#### An interval of repetitions\n",
    "It is also possible to specify in the pattern that, for example, 1, 2 or 3 repetitions of the character are allowed. For this purpose, two numbers (min, max) are written between the curved brackets:"
   ]
  },
  {
   "cell_type": "code",
   "execution_count": null,
   "id": "9e4bc85d",
   "metadata": {},
   "outputs": [],
   "source": [
    "for s in ['Rs', 'Ras', 'Rees', 'Riiis', 'Roooos']:\n",
    "    if re.search('R.{1,3}s', s):\n",
    "        print(s)"
   ]
  },
  {
   "cell_type": "markdown",
   "id": "93cafb3c",
   "metadata": {},
   "source": [
    "Once again as a reminder: quantifiers can be used not only together with the placeholder character `.`, but with all characters or character classes:"
   ]
  },
  {
   "cell_type": "code",
   "execution_count": null,
   "id": "d9bded0f",
   "metadata": {},
   "outputs": [],
   "source": [
    "for s in ['Pr', 'Par', 'Pur', 'Paar', 'Paur', 'Paaar']:\n",
    "    if re.search('a+', s):\n",
    "        print(s)"
   ]
  },
  {
   "cell_type": "markdown",
   "id": "5bb2907b",
   "metadata": {},
   "source": [
    "**Exercise**: try the above example with other quantifiers, too!"
   ]
  },
  {
   "cell_type": "markdown",
   "id": "c71dbff4",
   "metadata": {},
   "source": [
    "## Patterns are greedy\n",
    "A regex engine always tries to find the widest pattern. This becomes clearer if we use `re.findall()` instead of `re.search()` in the next example. This function does not return a match object, but a list of all substrings on which the pattern matches, but the rules for the pattern are the same."
   ]
  },
  {
   "cell_type": "code",
   "execution_count": null,
   "id": "20e3893f",
   "metadata": {},
   "outputs": [],
   "source": [
    "re.findall('G.*o', 'Guido van Rossum')"
   ]
  },
  {
   "cell_type": "markdown",
   "id": "df9fa605",
   "metadata": {},
   "source": [
    "The partial string found is not, as one might expect, `Guido`, but the longest string to which the pattern matches: `Guido van Ro`. \n",
    "Since this is not always desired, we can mark a quantifier as *non-greedy* by a trailing question mark:"
   ]
  },
  {
   "cell_type": "code",
   "execution_count": null,
   "id": "2ac18294",
   "metadata": {},
   "outputs": [],
   "source": [
    "re.findall('G.*?o', 'Guido van Rossum')"
   ]
  },
  {
   "cell_type": "markdown",
   "id": "59222273",
   "metadata": {},
   "source": [
    "So the ``?`` after the quantifier ``*`` means: Break off as soon as you have found a pattern (i.e. do not try to find a broader pattern)."
   ]
  },
  {
   "cell_type": "markdown",
   "id": "7852e977",
   "metadata": {},
   "source": [
    "To demonstrate the functionality of `findall()`, another example:"
   ]
  },
  {
   "cell_type": "code",
   "execution_count": null,
   "id": "85b7c48f",
   "metadata": {},
   "outputs": [],
   "source": [
    "re.findall('.ll.', 'the snow is falling really extraordinarilly upwards ')"
   ]
  },
  {
   "cell_type": "markdown",
   "id": "879c5a57",
   "metadata": {},
   "source": [
    "### Ignore upper and lower case\n",
    "Normally, regular expressions are case-sensitive:"
   ]
  },
  {
   "cell_type": "code",
   "execution_count": null,
   "id": "4e22dae7",
   "metadata": {},
   "outputs": [],
   "source": [
    "re.findall('a.{0,2}', 'Antoinette asked to be alone.')"
   ]
  },
  {
   "cell_type": "markdown",
   "id": "49100471",
   "metadata": {},
   "source": [
    "If we do not want this distinction, we must call the regex function with the flag re.I (or: re.IGNORECASE):"
   ]
  },
  {
   "cell_type": "code",
   "execution_count": null,
   "id": "8a1d5aff",
   "metadata": {},
   "outputs": [],
   "source": [
    "re.findall('a.{0,2}', 'Antoinette asked to be alone.', re.I)"
   ]
  },
  {
   "cell_type": "markdown",
   "id": "08ab2643",
   "metadata": {},
   "source": [
    "Now the pattern fits `'Ant'` as well."
   ]
  },
  {
   "cell_type": "markdown",
   "id": "06a9e5f2",
   "metadata": {},
   "source": [
    "## Character classes\n",
    "So far, we have only defined patterns that use either a specific character or a wildcard for all characters. However, it would often be useful if we could test for only certain characters (i.e., a subset of characters), such as all vowels. Regular expressions provide the concept of *character class* for this purpose. \n",
    "All characters inside square brackets are considered members of the character class. Thus, the expression `[aeiou]` matches any vowel."
   ]
  },
  {
   "cell_type": "code",
   "execution_count": null,
   "id": "8c038c80",
   "metadata": {},
   "outputs": [],
   "source": [
    "re.findall('[a-z]', 'Antoinette asked to be alone.', re.I)"
   ]
  },
  {
   "cell_type": "markdown",
   "id": "f84d37ed",
   "metadata": {},
   "source": [
    "This also works for digits: `[0-9]`"
   ]
  },
  {
   "cell_type": "code",
   "execution_count": null,
   "id": "c93636cd",
   "metadata": {},
   "outputs": [],
   "source": [
    "re.findall('[0-9]', 'Antonia has 1 horse and 2 cats.')"
   ]
  },
  {
   "cell_type": "markdown",
   "id": "9ae6083e",
   "metadata": {},
   "source": [
    "<div class=\"alert alert-block alert-info\">\n",
    "<b>Exercise Regex-2</b>\n",
    "<p>\n",
    "Rewrite the following expression so that the result is `['12', '3']`:\n",
    "</p>\n",
    "</div>"
   ]
  },
  {
   "cell_type": "code",
   "execution_count": null,
   "id": "89c8ba6c",
   "metadata": {},
   "outputs": [],
   "source": [
    "re.findall('[0-9]', 'Anna has 12 cows horse and 3 dogs.')"
   ]
  },
  {
   "cell_type": "code",
   "execution_count": null,
   "id": "f0d9a837",
   "metadata": {},
   "outputs": [],
   "source": [
    "re.findall('[a-zA-Z]', 'Anton prefers to work alone.')"
   ]
  },
  {
   "cell_type": "markdown",
   "id": "aa6696da",
   "metadata": {},
   "source": [
    "### Predefined character classes\n",
    "\n",
    "Some character classes are predefined and can make our life a lot easier:\n",
    "\n",
    "   * `\\s` stands for whitespace (spaces, tabs,\n",
    "     line breaks, etc.)\n",
    "   * `\\S` matches any non-whitespace character. (This\n",
    "     Capitalization inversion works\n",
    "     for all character classes presented here)\n",
    "   * `\\b` - allows you to perform a “whole words only” searches (word boundary)\n",
    "   * `\\d` stands for a `decimal digit`, a digit in any\n",
    "     Character system defined in Unicode (See\n",
    "     (http://www.fileformat.info/info/unicode/category/Nd/list.htm)).\n",
    "   * `\\w` stands for a \"word character\". In ASCII equivalent\n",
    "     the [a-zA-Z0-9_]\n",
    "\n",
    "Since some backslash combinations (like `\\b`) already have a special meaning at string level (remember ``\\n``?), when used in a regular expression we must either escape them with a second backslash or write the expression as a *raw string* (denoted by putting an `r` in front of the string). This example doesn't work:"
   ]
  },
  {
   "cell_type": "code",
   "execution_count": null,
   "id": "d6bba20b",
   "metadata": {},
   "outputs": [],
   "source": [
    "re.findall('\\b[A-Z]\\w*', 'Anton has 1 horse and 2 cats.')"
   ]
  },
  {
   "cell_type": "markdown",
   "id": "e47dfcbd",
   "metadata": {},
   "source": [
    "This, on the other hand, is:"
   ]
  },
  {
   "cell_type": "code",
   "execution_count": null,
   "id": "5977d1c1",
   "metadata": {},
   "outputs": [],
   "source": [
    "re.findall('\\\\b[A-Z]\\w*', 'Anton has 1 dog called Popito and 2 cats, Toulouse and Marie.')"
   ]
  },
  {
   "cell_type": "markdown",
   "id": "2cdd4bd1",
   "metadata": {},
   "source": [
    "Basically, you should make a habit of always writing patterns as *raw strings* by putting an `r` in front of the expression:"
   ]
  },
  {
   "cell_type": "code",
   "execution_count": null,
   "id": "9c614452",
   "metadata": {},
   "outputs": [],
   "source": [
    "re.findall(r'\\b[A-Z]\\w*', 'Anton has 1 dog called Popito and 2 cats, Toulouse and Marie.')"
   ]
  },
  {
   "cell_type": "markdown",
   "id": "ab1fe01d",
   "metadata": {},
   "source": [
    "We can apply this new knowledge, for example, to find all words in which two vowels follow each other:"
   ]
  },
  {
   "cell_type": "code",
   "execution_count": null,
   "id": "b035c0ad",
   "metadata": {},
   "outputs": [],
   "source": [
    "s = \"The green sea was the colour of her hair and coat clear as rain. \"\n",
    "re.findall(r'\\b\\w*[aeiou]{2}\\w*', s)"
   ]
  },
  {
   "cell_type": "markdown",
   "id": "496ff4ca",
   "metadata": {},
   "source": [
    "Once again as a reminder: `\\b` stands for word boundary, which we need here to separate into words; `\\w` for a word sign (``[a-zA-Z0-9_]``), of which any number may occur in the word before and after the vowel pair we are looking for."
   ]
  },
  {
   "cell_type": "markdown",
   "id": "e837af8c",
   "metadata": {},
   "source": [
    "### Alternatives\n",
    "\n",
    "A character class always represents a single character in the string. If we want to search for one of several character combinations, we need **alternatives** instead of character classes:"
   ]
  },
  {
   "cell_type": "code",
   "execution_count": null,
   "id": "35c24590",
   "metadata": {},
   "outputs": [],
   "source": [
    "s = 'Anton has 1 horse, 2 dogs and 3 cats'\n",
    "re.findall(r'cats|horse|dogs', s)"
   ]
  },
  {
   "cell_type": "markdown",
   "id": "09967339",
   "metadata": {},
   "source": [
    "If we want to search independently of the singular or plural, we can use the ``?`` quantifier. Remember: ``?`` means that the character in front of it cannot occur once or not at all. Horses?``\n",
    "thus matches ```horse?``` and ```horses?```. This allows us to make our pattern more flexible:"
   ]
  },
  {
   "cell_type": "code",
   "execution_count": null,
   "id": "53c65f78",
   "metadata": {},
   "outputs": [],
   "source": [
    "s = 'Anton has 1 horse, 2 dogs and 3 cats'\n",
    "re.findall(r'cats?|horses?|dogs?', s)"
   ]
  },
  {
   "cell_type": "markdown",
   "id": "b801bb01",
   "metadata": {},
   "source": [
    "We can even have the number of animals included if we assume that the number precedes the animal and the number is followed by one or more whitespace characters:"
   ]
  },
  {
   "cell_type": "code",
   "execution_count": null,
   "id": "cff8db26",
   "metadata": {},
   "outputs": [],
   "source": [
    "re.findall(r'\\d+\\s+horses?|\\d+\\s*dogs?|\\d+\\s*cats?', s)"
   ]
  },
  {
   "cell_type": "markdown",
   "id": "687ad56c",
   "metadata": {},
   "source": [
    "### Further functions of the re module\n",
    "So far we have only seen two functions of the re module: `search()` and `findall()`. But there are some other very useful functions."
   ]
  },
  {
   "cell_type": "markdown",
   "id": "00c872ee",
   "metadata": {},
   "source": [
    "### match()\n",
    "\n",
    "`match()` behaves like `search()`, but the pattern is always searched for at the beginning of the string. A `match('abc', s)` corresponds to a `search('^abc', s)`"
   ]
  },
  {
   "cell_type": "code",
   "execution_count": null,
   "id": "6472ba30",
   "metadata": {},
   "outputs": [],
   "source": [
    "re.match('ab', 'abcdef')"
   ]
  },
  {
   "cell_type": "code",
   "execution_count": null,
   "id": "08897388",
   "metadata": {},
   "outputs": [],
   "source": [
    "re.match('ab', '-abcdef')"
   ]
  },
  {
   "cell_type": "markdown",
   "id": "d4a95f87",
   "metadata": {},
   "source": [
    "### split()\n",
    "We've already seen the String object's `split()` method:"
   ]
  },
  {
   "cell_type": "code",
   "execution_count": null,
   "id": "aecbe443",
   "metadata": {},
   "outputs": [],
   "source": [
    "'1,2,3,4'.split(',')"
   ]
  },
  {
   "cell_type": "markdown",
   "id": "50d57a07",
   "metadata": {},
   "source": [
    "`re` provides a similar `split()` function, where we specify the delimiter (or delimiter string) as\n",
    "can specify a regular expression. This split is much more powerful as a result.\n",
    "\n",
    "For example, if we want to break up text into sentences, we have to separate the text at each punctuation mark: `.!?`. It's easy with `re.split()`:"
   ]
  },
  {
   "cell_type": "code",
   "execution_count": null,
   "id": "c2b2266d",
   "metadata": {},
   "outputs": [],
   "source": [
    "with open('data/NASA.txt') as fh:\n",
    "    text = fh.read()\n",
    "sentences = re.split(r'[.?!]\\s*', text)\n",
    "print(len(sentences))"
   ]
  },
  {
   "cell_type": "markdown",
   "id": "a0923b1c",
   "metadata": {},
   "source": [
    "To clarify, the ``\\s*`` at the end of the pattern ensures that whitespace is stripped between sentences."
   ]
  },
  {
   "cell_type": "markdown",
   "id": "91e55264",
   "metadata": {},
   "source": [
    "*Note*: This process of breaking down text into small units, such as sentences or words, is called tokenization. This can be done with regular expressions for simple cases, but specialized functions such as those provided by packages for processing natural languages (e.g. NLTK) are better."
   ]
  },
  {
   "cell_type": "markdown",
   "id": "967c00dd",
   "metadata": {},
   "source": [
    "### sub()\n",
    "\n",
    "This function corresponds to the `replace()` method of the String object. However, the substring to be replaced can be a pattern here.\n",
    "For example, we could normalize all whitespace in a string to a space to convert multiple spaces, but also tabs, newlines, etc. to a single space."
   ]
  },
  {
   "cell_type": "code",
   "execution_count": null,
   "id": "6a4677d2",
   "metadata": {},
   "outputs": [],
   "source": [
    "with open('data/NASA.txt') as fh:\n",
    "    text = fh.read()\n",
    "text = re.sub('\\s+', ' ', text)    \n",
    "sentences = re.split(r'[\\.\\?\\!]\\s*', text)\n",
    "print(sentences[:2])"
   ]
  },
  {
   "cell_type": "markdown",
   "id": "fe370dbc",
   "metadata": {},
   "source": [
    "For example, now we can calculate the mean sentence length (in characters):"
   ]
  },
  {
   "cell_type": "code",
   "execution_count": null,
   "id": "ae85d0fb",
   "metadata": {},
   "outputs": [],
   "source": [
    "# Just in case, we remove 0-length sentences\n",
    "sentences = [s for s in sentences if len(s) > 0]\n",
    "sum([len(s) for s in sentences]) / len(sentences)"
   ]
  },
  {
   "cell_type": "markdown",
   "id": "15a61065",
   "metadata": {},
   "source": [
    "Or the average number of words per sentence, the shortest and the longest sentence:"
   ]
  },
  {
   "cell_type": "code",
   "execution_count": null,
   "id": "f4a6335b",
   "metadata": {},
   "outputs": [],
   "source": [
    "words_per_sentence = [len(s.split()) for s in sentences]\n",
    "print('Average number of words per sentence:', sum(words_per_sentence) / len(sentences))\n",
    "print('The longest sentence has {} words, the shortest {}'.format(max(words_per_sentence), min(words_per_sentence)))"
   ]
  },
  {
   "cell_type": "code",
   "execution_count": null,
   "id": "09417d3b",
   "metadata": {},
   "outputs": [],
   "source": []
  }
 ],
 "metadata": {
  "kernelspec": {
   "display_name": "Python 3 (ipykernel)",
   "language": "python",
   "name": "python3"
  },
  "language_info": {
   "codemirror_mode": {
    "name": "ipython",
    "version": 3
   },
   "file_extension": ".py",
   "mimetype": "text/x-python",
   "name": "python",
   "nbconvert_exporter": "python",
   "pygments_lexer": "ipython3",
   "version": "3.9.7"
  }
 },
 "nbformat": 4,
 "nbformat_minor": 5
}
