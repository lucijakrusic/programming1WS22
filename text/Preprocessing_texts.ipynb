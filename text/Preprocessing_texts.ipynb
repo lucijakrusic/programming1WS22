{
 "cells": [
  {
   "cell_type": "markdown",
   "id": "9df50cdc",
   "metadata": {},
   "source": [
    "## What is NLP (Natural Language Processing)?"
   ]
  },
  {
   "cell_type": "markdown",
   "id": "3fcff34c",
   "metadata": {},
   "source": [
    "Natural language processing (NLP) refers to the branch of computer science—and more specifically, the branch of artificial intelligence concerned with giving computers the ability to understand text and spoken words in much the same way human beings can.\n",
    "\n",
    "### Some NLP tasks\n",
    "\n",
    "* automatic translation\n",
    "* speech recognition\n",
    "* question answering\n",
    "* text summarization\n",
    "* sentiment analysis\n",
    "* topic modelling\n",
    "* Named Entity Recognition (NER)\n",
    "* speech to text and text to speech\n",
    "* text and question generatiion\n",
    "* error correction\n",
    "* Word Sense Disambiguation\n",
    "\n"
   ]
  },
  {
   "cell_type": "code",
   "execution_count": null,
   "id": "4617c6a7",
   "metadata": {},
   "outputs": [],
   "source": [
    "from IPython.display import Image\n",
    "Image(\"data/nlp.PNG\")"
   ]
  },
  {
   "cell_type": "markdown",
   "id": "58fc7503",
   "metadata": {},
   "source": [
    "### What is text pre-processing and why do we need it?"
   ]
  },
  {
   "cell_type": "markdown",
   "id": "341681e9",
   "metadata": {},
   "source": [
    "Most of the time, the texts that we need to analyze, or - the data we have, is not in an ideal state. It is often the case that when doing NLP related tasks, we tend to underestimate the time and effort needed to get the data (the texts) into a state in which they are ready for further analysis or prediction.\n",
    "\n",
    "Text pre-processing is often the first and <b> a very important </b>, (although perhaps not very interesting) step of any NLP task. \n",
    "\n",
    "For computers, understanding human language is not the easiest task. Computers can easily understands <b> structured </b> data, such as spreadsheets, or tables in a database.\n",
    "\n",
    "However, language - whether in a written form (such as tweets, articles, reviews, novels, poems, plays, etc.) or in a spoken form is compeletly <b>unstructured </b>. Pre- procssing transforms text into a more digestible form for the computer, so that our NLP methods (based on machine-learning algorithms, e.g.) can preform better.\n",
    "\n",
    "It is sometimes a real effort to discover in which ways our data is messy, and to think about how we can clean it.\n",
    "\n",
    "However, it is really important to put in that work, because if our data isn't <i> clean </i>, the results of our analysis won't be <i>clean</i> either.\n",
    "\n",
    "The pre-processing steps for a problem depend mainly on the domain and the problem itself, hence, we don’t need to apply all steps to every problem. \n",
    "\n",
    "In this notebook, some of the common pre-processing steps will be named. Depending on your data and your task (as well as the NLP method you plan to use) you will need only some or every step in this guide.\n"
   ]
  },
  {
   "cell_type": "markdown",
   "id": "35f2cab7",
   "metadata": {},
   "source": [
    "### Pre-processing steps"
   ]
  },
  {
   "cell_type": "markdown",
   "id": "4d8992e2",
   "metadata": {},
   "source": [
    "* lower casing\n",
    "* tokenization\n",
    "* removing punctuation\n",
    "* removing URLs\n",
    "* removing stop words\n",
    "* stemming\n",
    "* lemmatization"
   ]
  },
  {
   "cell_type": "markdown",
   "id": "d759abca",
   "metadata": {},
   "source": [
    "### Importing libraries (that might be familiar) we need for this"
   ]
  },
  {
   "cell_type": "markdown",
   "id": "0c646cc6",
   "metadata": {},
   "source": [
    "We can also do this stuff by ourselves, and not use libraries. Usually, the idea is not to reinvent the wheel, but if you see that something works better when you do it - then do it yourself :)"
   ]
  },
  {
   "cell_type": "code",
   "execution_count": null,
   "id": "5b003bf3",
   "metadata": {},
   "outputs": [],
   "source": [
    "import nltk\n",
    "import string\n",
    "import re"
   ]
  },
  {
   "cell_type": "markdown",
   "id": "3392f76f",
   "metadata": {},
   "source": [
    "### Reading in our text"
   ]
  },
  {
   "cell_type": "code",
   "execution_count": null,
   "id": "2b5a5867",
   "metadata": {},
   "outputs": [],
   "source": [
    "with open('data/cactus.txt') as fh:\n",
    "    text = fh.read()\n",
    "\n",
    "text"
   ]
  },
  {
   "cell_type": "markdown",
   "id": "c425dd1a",
   "metadata": {},
   "source": [
    "### Removing newline characters"
   ]
  },
  {
   "cell_type": "markdown",
   "id": "31684fe5",
   "metadata": {},
   "source": [
    "We can do this many ways, but one is using the ```replace()``` string method."
   ]
  },
  {
   "cell_type": "code",
   "execution_count": null,
   "id": "600bcacb",
   "metadata": {},
   "outputs": [],
   "source": [
    "text = text.replace(\"\\n\", \"\")\n",
    "text\n"
   ]
  },
  {
   "cell_type": "markdown",
   "id": "a82ab340",
   "metadata": {},
   "source": [
    "### Changing to lower/upper case"
   ]
  },
  {
   "cell_type": "markdown",
   "id": "245f5ae2",
   "metadata": {},
   "source": [
    "Usually, we would need to change to lowercase. This is because 'Happy' and 'happy' are the same word, but since they are spelled differently, the computer would count it as two. We lowercase the text to reduce the size of the vocabulary of our text data.\n",
    "\n",
    "```lower()``` and  ```upper()``` are string methods."
   ]
  },
  {
   "cell_type": "code",
   "execution_count": null,
   "id": "baac1ea8",
   "metadata": {},
   "outputs": [],
   "source": [
    "def text_lowercase(text):\n",
    "    return text.lower()"
   ]
  },
  {
   "cell_type": "code",
   "execution_count": null,
   "id": "9e90c8ab",
   "metadata": {},
   "outputs": [],
   "source": [
    "lower_text = text_lowercase(text)\n",
    "lower_text"
   ]
  },
  {
   "cell_type": "markdown",
   "id": "be1809be",
   "metadata": {},
   "source": [
    "### Tokenization"
   ]
  },
  {
   "cell_type": "markdown",
   "id": "06b016c2",
   "metadata": {},
   "source": [
    "We can also do this with the string ```split()``` method as well as e.g. ```sent_tokenize()``` from the package nltk.\n",
    "There's many ways to do it - but the main idea is - if we want to make a word-based, or sentence-based analysis (e.g. this makes sense for POS tagging or sentiment analysis), we need to split our text."
   ]
  },
  {
   "cell_type": "code",
   "execution_count": null,
   "id": "70999761",
   "metadata": {},
   "outputs": [],
   "source": [
    "sentences = lower_text.split('.')"
   ]
  },
  {
   "cell_type": "code",
   "execution_count": null,
   "id": "a1c8db07",
   "metadata": {},
   "outputs": [],
   "source": [
    "sentences"
   ]
  },
  {
   "cell_type": "markdown",
   "id": "eecd3e2a",
   "metadata": {},
   "source": [
    "We see here that theres trailing whitespaces in our list items.\n",
    "Let's remove them by remembering list comprehension:"
   ]
  },
  {
   "cell_type": "code",
   "execution_count": null,
   "id": "a18cb924",
   "metadata": {},
   "outputs": [],
   "source": [
    "stripped = [s.strip() for s in sentences]\n",
    "stripped"
   ]
  },
  {
   "cell_type": "markdown",
   "id": "b7c178b7",
   "metadata": {},
   "source": [
    "deleting the empty list item:"
   ]
  },
  {
   "cell_type": "code",
   "execution_count": null,
   "id": "49f8beb3",
   "metadata": {},
   "outputs": [],
   "source": [
    "new_list = [x for x in stripped if x != '']\n",
    "new_list"
   ]
  },
  {
   "cell_type": "markdown",
   "id": "e720823d",
   "metadata": {},
   "source": [
    "As we said in the previous notebook, we can also used the ```re``` module for tokenization (splitting):"
   ]
  },
  {
   "cell_type": "code",
   "execution_count": null,
   "id": "eb1fbde6",
   "metadata": {},
   "outputs": [],
   "source": [
    "sentences = re.split(r'[.?!]\\s*', lower_text)\n",
    "sentences"
   ]
  },
  {
   "cell_type": "markdown",
   "id": "8e59cae2",
   "metadata": {},
   "source": [
    "Or, NLTK:"
   ]
  },
  {
   "cell_type": "code",
   "execution_count": null,
   "id": "9ff28823",
   "metadata": {},
   "outputs": [],
   "source": [
    "from nltk.tokenize import sent_tokenize, word_tokenize"
   ]
  },
  {
   "cell_type": "code",
   "execution_count": null,
   "id": "9328dc55",
   "metadata": {},
   "outputs": [],
   "source": [
    "sentences = sent_tokenize(lower_text)\n",
    "sentences\n"
   ]
  },
  {
   "cell_type": "markdown",
   "id": "4bb84b41",
   "metadata": {},
   "source": [
    "If we wanted to have the words as list elements (word tokenization):"
   ]
  },
  {
   "cell_type": "code",
   "execution_count": null,
   "id": "550a9c2a",
   "metadata": {},
   "outputs": [],
   "source": [
    "words = word_tokenize (lower_text)\n",
    "words\n"
   ]
  },
  {
   "cell_type": "markdown",
   "id": "e921e86b",
   "metadata": {},
   "source": [
    "### Removing punctuation"
   ]
  },
  {
   "cell_type": "markdown",
   "id": "5260b824",
   "metadata": {},
   "source": [
    "Something from the previous notebook (converting multiple whitespaces and tabs to one, and then splitting and replacing the punctuation using the re module)"
   ]
  },
  {
   "cell_type": "code",
   "execution_count": null,
   "id": "e94fcf2e",
   "metadata": {},
   "outputs": [],
   "source": [
    "with open('data/cactus.txt') as fh:\n",
    "    text = fh.read()\n",
    "text = re.sub('\\s+', ' ', text)    \n",
    "sentences = re.split(r'[\\.\\?\\!]\\s*', text)\n",
    "print(sentences[:2])\n"
   ]
  },
  {
   "cell_type": "code",
   "execution_count": null,
   "id": "f02225da",
   "metadata": {
    "scrolled": false
   },
   "outputs": [],
   "source": [
    "words = [w for w in words if w not in string.punctuation]\n",
    "words"
   ]
  },
  {
   "cell_type": "markdown",
   "id": "84a7f9ce",
   "metadata": {},
   "source": [
    "### Removing stopwords"
   ]
  },
  {
   "cell_type": "markdown",
   "id": "b66a2399",
   "metadata": {},
   "source": [
    "In the file `data/stopwords.txt` we have a list of stopwords for the English language. Let's try to clean our tokens from these words. For this we have to read the stopword list first:"
   ]
  },
  {
   "cell_type": "code",
   "execution_count": null,
   "id": "f34010bf",
   "metadata": {},
   "outputs": [],
   "source": [
    "with open('data/stopwords.txt') as fp:\n",
    "    stopwords = [word.rstrip() for word in fp.readlines()]\n",
    "stopwords    "
   ]
  },
  {
   "cell_type": "markdown",
   "id": "a55a4b55",
   "metadata": {},
   "source": [
    "Now to remove the stopwords from the list `tokens` we can use a List Comprension:"
   ]
  },
  {
   "cell_type": "code",
   "execution_count": null,
   "id": "59fa938e",
   "metadata": {},
   "outputs": [],
   "source": [
    "print(len(words)) \n",
    "tokens = [token for token in words if token not in stopwords]\n",
    "len(tokens)\n"
   ]
  },
  {
   "cell_type": "code",
   "execution_count": null,
   "id": "519280eb",
   "metadata": {},
   "outputs": [],
   "source": [
    "tokens"
   ]
  },
  {
   "cell_type": "markdown",
   "id": "c217da00",
   "metadata": {},
   "source": [
    "### Stemming"
   ]
  },
  {
   "cell_type": "markdown",
   "id": "9e890c1c",
   "metadata": {},
   "source": [
    "Stemming is the process of getting the root form of a word. Stem or root is the part to which inflectional affixes (-ed, -ize, -de, -s, etc.) are added. The stem of a word is created by removing the prefix or suffix of a word. So, stemming a word may not result in actual words.\n",
    "\n",
    "<u>Example</u>:\n",
    "\n",
    "```\n",
    "books      --->    book\n",
    "looked     --->    look\n",
    "denied     --->    deni\n",
    "flies      --->    fli\n",
    "```\n"
   ]
  },
  {
   "cell_type": "code",
   "execution_count": null,
   "id": "16f74108",
   "metadata": {},
   "outputs": [],
   "source": [
    "from nltk.stem.porter import PorterStemmer"
   ]
  },
  {
   "cell_type": "markdown",
   "id": "e6f9ef14",
   "metadata": {},
   "source": [
    "Porter stemmer algorithm is a pretty standard (from 1979) solution for stemming (https://tartarus.org/martin/PorterStemmer/).  "
   ]
  },
  {
   "cell_type": "code",
   "execution_count": null,
   "id": "4de075f2",
   "metadata": {},
   "outputs": [],
   "source": [
    "stemmer = PorterStemmer()\n",
    "stems = [stemmer.stem(word) for word in tokens]\n",
    "stems\n"
   ]
  },
  {
   "cell_type": "markdown",
   "id": "13e0803e",
   "metadata": {},
   "source": [
    "### Lemmatization"
   ]
  },
  {
   "cell_type": "markdown",
   "id": "0b5a2571",
   "metadata": {},
   "source": [
    "Like stemming, lemmatization also converts a word to its root form. However,l emmatization is a more powerful operation, and it takes into consideration morphological analysis of the words. It returns the lemma which is the base form of all its inflectional forms. Lemmatization ensures that the root word belongs to the language. We will get valid words if we use lemmatization. \n",
    "\n",
    "\n",
    "\n",
    "E.g.\n",
    "\n",
    "```\n",
    "books      --->    book\n",
    "looked     --->    look\n",
    "denied     --->    deny\n",
    "flies      --->    fly\n",
    "```\n"
   ]
  },
  {
   "cell_type": "markdown",
   "id": "ad2eaf7d",
   "metadata": {},
   "source": [
    "In NLTK, we use the WordNetLemmatizer to get the lemmas of words. "
   ]
  },
  {
   "cell_type": "code",
   "execution_count": null,
   "id": "a2a93c2f",
   "metadata": {},
   "outputs": [],
   "source": [
    "from nltk.corpus import wordnet\n",
    "from nltk.stem import WordNetLemmatizer"
   ]
  },
  {
   "cell_type": "code",
   "execution_count": null,
   "id": "0a928dfd",
   "metadata": {},
   "outputs": [],
   "source": [
    "lemmatizer = WordNetLemmatizer()"
   ]
  },
  {
   "cell_type": "markdown",
   "id": "ce2d2ba6",
   "metadata": {},
   "source": [
    "In order to achieve lemmatization, we also need Part-Of-Speech tagging. \n",
    "What is this and why do we need it?\n",
    "POS-tagging refers to categorizing words in a text (corpus) in correspondence with a particular part of speech, depending on the definition of the word and its context (verbs, nouns, etc.). This allows us to preform lemmatization, since the lemma depends on the part of speech."
   ]
  },
  {
   "cell_type": "code",
   "execution_count": null,
   "id": "bba700ac",
   "metadata": {},
   "outputs": [],
   "source": [
    "# This is a helper function to map NTLK position tags\n",
    "# Full list is available here: https://www.ling.upenn.edu/courses/Fall_2003/ling001/penn_treebank_pos.html\n",
    "def get_wordnet_pos(tag):\n",
    "    if tag.startswith('J'):\n",
    "        return wordnet.ADJ\n",
    "    elif tag.startswith('V'):\n",
    "        return wordnet.VERB\n",
    "    elif tag.startswith('N'):\n",
    "        return wordnet.NOUN\n",
    "    elif tag.startswith('R'):\n",
    "        return wordnet.ADV\n",
    "    else:\n",
    "        return wordnet.NOUN"
   ]
  },
  {
   "cell_type": "code",
   "execution_count": null,
   "id": "14b80581",
   "metadata": {},
   "outputs": [],
   "source": [
    "lemmatized_sentence = []\n",
    "# Get tags\n",
    "word_pos_tags = nltk.pos_tag(tokens)\n",
    "word_pos_tags"
   ]
  },
  {
   "cell_type": "code",
   "execution_count": null,
   "id": "4a65c0e1",
   "metadata": {},
   "outputs": [],
   "source": [
    "# Map the position tag and lemmatize the word/token\n",
    "for idx, tag in enumerate(word_pos_tags):\n",
    "    lemmatized_sentence.append(lemmatizer.lemmatize(tag[0], get_wordnet_pos(tag[1])))\n",
    "# the lemmatize() method takes the word and the pos tag as parameters\n",
    "lemmatized_text = \" \".join(lemmatized_sentence)\n",
    "lemmatized_text"
   ]
  },
  {
   "cell_type": "markdown",
   "id": "ba6792bc",
   "metadata": {},
   "source": [
    "<div class=\"alert alert-block alert-info\">\n",
    "<b>Exercise Preprocessing</b>\n",
    "<p>Pre-process the file 'data/cat.txt' - the output should be the clean, lemmatized text.</p>\n",
    "</div>"
   ]
  },
  {
   "cell_type": "code",
   "execution_count": null,
   "id": "5447d76c",
   "metadata": {},
   "outputs": [],
   "source": []
  }
 ],
 "metadata": {
  "kernelspec": {
   "display_name": "Python 3 (ipykernel)",
   "language": "python",
   "name": "python3"
  },
  "language_info": {
   "codemirror_mode": {
    "name": "ipython",
    "version": 3
   },
   "file_extension": ".py",
   "mimetype": "text/x-python",
   "name": "python",
   "nbconvert_exporter": "python",
   "pygments_lexer": "ipython3",
   "version": "3.9.7"
  }
 },
 "nbformat": 4,
 "nbformat_minor": 5
}
